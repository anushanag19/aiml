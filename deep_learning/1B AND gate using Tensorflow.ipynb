{
 "cells": [
  {
   "cell_type": "markdown",
   "metadata": {},
   "source": [
    "# Implementation of AND gate using Tensorflow."
   ]
  },
  {
   "cell_type": "markdown",
   "metadata": {},
   "source": [
    "This exercise implements the AND Gate using tensorflow, by specifying the hidden layers, cost function and Gradient descent optimization. It performs forward propagation.\n",
    "\n",
    "Modify this program to implement backward propagation."
   ]
  },
  {
   "cell_type": "code",
   "execution_count": 1,
   "metadata": {},
   "outputs": [],
   "source": [
    "# Importing packages.\n",
    "import tensorflow as tf\n",
    "import time"
   ]
  },
  {
   "cell_type": "code",
   "execution_count": 2,
   "metadata": {},
   "outputs": [],
   "source": [
    "#Creating dataset\n",
    "\n",
    "AND_X = [[0,0],[0,1],[1,0],[1,1]]\n",
    "AND_Y = [[0],[0],[0],[1]]"
   ]
  },
  {
   "cell_type": "code",
   "execution_count": 3,
   "metadata": {},
   "outputs": [],
   "source": [
    "# Creating placeholders for datasets.\n",
    "\n",
    "x_ = tf.placeholder(tf.float32, shape=[4,2], name = 'x-input')\n",
    "y_ = tf.placeholder(tf.float32, shape=[4,1], name = 'y-input')"
   ]
  },
  {
   "cell_type": "code",
   "execution_count": 4,
   "metadata": {},
   "outputs": [],
   "source": [
    "# Creating weights and biases\n",
    "\n",
    "Theta1 = tf.Variable(tf.random_uniform([2,2], -1, 1), name = \"Theta1\")\n",
    "Theta2 = tf.Variable(tf.random_uniform([2,1], -1, 1), name = \"Theta2\")\n",
    "\n",
    "Bias1 = tf.Variable(tf.zeros([2]), name = \"Bias1\")\n",
    "Bias2 = tf.Variable(tf.zeros([1]), name = \"Bias2\")\n"
   ]
  },
  {
   "cell_type": "code",
   "execution_count": 5,
   "metadata": {},
   "outputs": [],
   "source": [
    "# Adding hidden layers\n",
    "\n",
    "# hidden layer 1\n",
    "with tf.name_scope(\"layer2\") as scope:\n",
    "    A2 = tf.sigmoid(tf.matmul(x_, Theta1) + Bias1)\n",
    "\n",
    "# hidden layer 2\n",
    "with tf.name_scope(\"layer3\") as scope:\n",
    "    Hypothesis = tf.sigmoid(tf.matmul(A2, Theta2) + Bias2)\n"
   ]
  },
  {
   "cell_type": "code",
   "execution_count": 6,
   "metadata": {},
   "outputs": [],
   "source": [
    "# Defining cost function = log loss\n",
    "\n",
    "with tf.name_scope(\"cost\") as scope:\n",
    "    cost = tf.reduce_mean(( (y_ * tf.log(Hypothesis)) + \n",
    "        ((1 - y_) * tf.log(1.0 - Hypothesis)) ) * -1)\n",
    "\n"
   ]
  },
  {
   "cell_type": "code",
   "execution_count": 7,
   "metadata": {},
   "outputs": [],
   "source": [
    "# Defining training operation.\n",
    "\n",
    "with tf.name_scope(\"train\") as scope:\n",
    "    train_step = tf.train.GradientDescentOptimizer(0.01).minimize(cost)# learning rate = 0.01"
   ]
  },
  {
   "cell_type": "code",
   "execution_count": 8,
   "metadata": {},
   "outputs": [],
   "source": [
    "\n",
    "# Initilising variables and session.\n",
    "\n",
    "init = tf.global_variables_initializer()\n",
    "sess = tf.Session()\n",
    "sess.run(init)"
   ]
  },
  {
   "cell_type": "code",
   "execution_count": 9,
   "metadata": {},
   "outputs": [
    {
     "name": "stderr",
     "output_type": "stream",
     "text": [
      "C:\\Anaconda3\\lib\\site-packages\\ipykernel_launcher.py:3: DeprecationWarning: time.clock has been deprecated in Python 3.3 and will be removed from Python 3.8: use time.perf_counter or time.process_time instead\n",
      "  This is separate from the ipykernel package so we can avoid doing imports until\n"
     ]
    },
    {
     "name": "stdout",
     "output_type": "stream",
     "text": [
      "Epoch  0\n",
      "Hypothesis  [[0.5566525 ]\n",
      " [0.54773927]\n",
      " [0.5675692 ]\n",
      " [0.55893785]]\n",
      "Theta1  [[ 0.7807107   0.05319132]\n",
      " [-0.18317954 -0.43932888]]\n",
      "Bias1  [-0.00016584 -0.0001849 ]\n",
      "Theta2  [[0.22150277]\n",
      " [0.23989014]]\n",
      "Bias2  [-0.00308884]\n",
      "cost  0.75673693\n",
      "Epoch  1000\n",
      "Hypothesis  [[0.2624382 ]\n",
      " [0.2692775 ]\n",
      " [0.25926846]\n",
      " [0.26599103]]\n",
      "Theta1  [[ 0.76517206  0.02142552]\n",
      " [-0.1976264  -0.47101682]]\n",
      "Bias1  [-0.00507193 -0.0021494 ]\n",
      "Theta2  [[-0.08214831]\n",
      " [-0.26816195]]\n",
      "Bias2  [-0.85842735]\n",
      "cost  0.56063414\n",
      "Epoch  2000\n",
      "Hypothesis  [[0.24533251]\n",
      " [0.2567848 ]\n",
      " [0.24886397]\n",
      " [0.2603339 ]]\n",
      "Theta1  [[ 0.76016045 -0.07712033]\n",
      " [-0.20218311 -0.5712769 ]]\n",
      "Bias1  [-0.0043063   0.01129906]\n",
      "Theta2  [[ 0.05598124]\n",
      " [-0.45763046]]\n",
      "Bias2  [-0.9214855]\n",
      "cost  0.5525516\n",
      "Epoch  3000\n",
      "Hypothesis  [[0.23436567]\n",
      " [0.2546781 ]\n",
      " [0.24895015]\n",
      " [0.2692861 ]]\n",
      "Theta1  [[ 0.79973155 -0.21532011]\n",
      " [-0.16589656 -0.7149443 ]]\n",
      "Bias1  [-0.00710671  0.04091138]\n",
      "Theta2  [[ 0.22345877]\n",
      " [-0.690776  ]]\n",
      "Bias2  [-0.9427024]\n",
      "cost  0.5398135\n",
      "Epoch  4000\n",
      "Hypothesis  [[0.21789548]\n",
      " [0.25426054]\n",
      " [0.250216  ]\n",
      " [0.28644714]]\n",
      "Theta1  [[ 0.88482887 -0.3786499 ]\n",
      " [-0.08917247 -0.8904153 ]]\n",
      "Bias1  [-0.01721171  0.11189461]\n",
      "Theta2  [[ 0.41799256]\n",
      " [-0.99042934]]\n",
      "Bias2  [-0.9622789]\n",
      "cost  0.5193293\n",
      "Epoch  5000\n",
      "Hypothesis  [[0.19312263]\n",
      " [0.25396645]\n",
      " [0.25086844]\n",
      " [0.31259578]]\n",
      "Theta1  [[ 1.008822   -0.5475497 ]\n",
      " [ 0.01846961 -1.0804585 ]]\n",
      "Bias1  [-0.04515121  0.2493688 ]\n",
      "Theta2  [[ 0.6470302]\n",
      " [-1.3506662]]\n",
      "Bias2  [-0.986956]\n",
      "cost  0.48981333\n",
      "Epoch  6000\n",
      "Hypothesis  [[0.16023627]\n",
      " [0.25180194]\n",
      " [0.24855116]\n",
      " [0.34784913]]\n",
      "Theta1  [[ 1.1581037  -0.70768654]\n",
      " [ 0.1397898  -1.2704221 ]]\n",
      "Bias1  [-0.10405308  0.46258828]\n",
      "Theta2  [[ 0.91116256]\n",
      " [-1.754563  ]]\n",
      "Bias2  [-1.0117224]\n",
      "cost  0.45161518\n",
      "Epoch  7000\n",
      "Hypothesis  [[0.12346536]\n",
      " [0.24536711]\n",
      " [0.24144   ]\n",
      " [0.3917503 ]]\n",
      "Theta1  [[ 1.3174669  -0.8563979 ]\n",
      " [ 0.25697523 -1.4527665 ]]\n",
      "Bias1  [-0.20132755  0.7381087 ]\n",
      "Theta2  [[ 1.2043924]\n",
      " [-2.1820343]]\n",
      "Bias2  [-1.0254713]\n",
      "cost  0.40669173\n",
      "Epoch  8000\n",
      "Hypothesis  [[0.08913237]\n",
      " [0.23257092]\n",
      " [0.22948614]\n",
      " [0.44294852]]\n",
      "Theta1  [[ 1.4756889  -0.99936944]\n",
      " [ 0.3595753  -1.6249614 ]]\n",
      "Bias1  [-0.3340849  1.0491573]\n",
      "Theta2  [[ 1.5160396]\n",
      " [-2.614314 ]]\n",
      "Bias2  [-1.0206431]\n",
      "cost  0.35826653\n",
      "Epoch  9000\n",
      "Hypothesis  [[0.06161132]\n",
      " [0.21295491]\n",
      " [0.21407452]\n",
      " [0.49894437]]\n",
      "Theta1  [[ 1.62582   -1.1428069]\n",
      " [ 0.4468038 -1.7875657]]\n",
      "Bias1  [-0.49184906  1.3695986 ]\n",
      "Theta2  [[ 1.8330402]\n",
      " [-3.0371156]]\n",
      "Bias2  [-0.9973411]\n",
      "cost  0.30980366\n",
      "Elapsed time  10.593577699999997\n"
     ]
    },
    {
     "name": "stderr",
     "output_type": "stream",
     "text": [
      "C:\\Anaconda3\\lib\\site-packages\\ipykernel_launcher.py:14: DeprecationWarning: time.clock has been deprecated in Python 3.3 and will be removed from Python 3.8: use time.perf_counter or time.process_time instead\n",
      "  \n"
     ]
    }
   ],
   "source": [
    "# Training the model - Forward Propagation\n",
    "\n",
    "t_start = time.clock()\n",
    "for i in range(10000):\n",
    "    sess.run(train_step, feed_dict={x_: AND_X, y_: AND_Y})\n",
    "    if i % 1000 == 0:\n",
    "        print('Epoch ', i)\n",
    "        print('Hypothesis ', sess.run(Hypothesis, feed_dict={x_: AND_X, y_: AND_Y}))\n",
    "        print('Theta1 ', sess.run(Theta1))\n",
    "        print('Bias1 ', sess.run(Bias1))\n",
    "        print('Theta2 ', sess.run(Theta2))\n",
    "        print('Bias2 ', sess.run(Bias2))\n",
    "        print('cost ', sess.run(cost, feed_dict={x_: AND_X, y_: AND_Y}))\n",
    "t_end = time.clock()\n",
    "\n",
    "print('Elapsed time ', t_end - t_start)"
   ]
  }
 ],
 "metadata": {
  "kernelspec": {
   "display_name": "Python 3",
   "language": "python",
   "name": "python3"
  },
  "language_info": {
   "codemirror_mode": {
    "name": "ipython",
    "version": 3
   },
   "file_extension": ".py",
   "mimetype": "text/x-python",
   "name": "python",
   "nbconvert_exporter": "python",
   "pygments_lexer": "ipython3",
   "version": "3.7.3"
  }
 },
 "nbformat": 4,
 "nbformat_minor": 2
}
