{
 "cells": [
  {
   "cell_type": "code",
   "execution_count": 1,
   "metadata": {},
   "outputs": [
    {
     "name": "stderr",
     "output_type": "stream",
     "text": [
      "Using TensorFlow backend.\n",
      "C:\\Anaconda3\\lib\\site-packages\\tensorflow\\python\\framework\\dtypes.py:516: FutureWarning: Passing (type, 1) or '1type' as a synonym of type is deprecated; in a future version of numpy, it will be understood as (type, (1,)) / '(1,)type'.\n",
      "  _np_qint8 = np.dtype([(\"qint8\", np.int8, 1)])\n",
      "C:\\Anaconda3\\lib\\site-packages\\tensorflow\\python\\framework\\dtypes.py:517: FutureWarning: Passing (type, 1) or '1type' as a synonym of type is deprecated; in a future version of numpy, it will be understood as (type, (1,)) / '(1,)type'.\n",
      "  _np_quint8 = np.dtype([(\"quint8\", np.uint8, 1)])\n",
      "C:\\Anaconda3\\lib\\site-packages\\tensorflow\\python\\framework\\dtypes.py:518: FutureWarning: Passing (type, 1) or '1type' as a synonym of type is deprecated; in a future version of numpy, it will be understood as (type, (1,)) / '(1,)type'.\n",
      "  _np_qint16 = np.dtype([(\"qint16\", np.int16, 1)])\n",
      "C:\\Anaconda3\\lib\\site-packages\\tensorflow\\python\\framework\\dtypes.py:519: FutureWarning: Passing (type, 1) or '1type' as a synonym of type is deprecated; in a future version of numpy, it will be understood as (type, (1,)) / '(1,)type'.\n",
      "  _np_quint16 = np.dtype([(\"quint16\", np.uint16, 1)])\n",
      "C:\\Anaconda3\\lib\\site-packages\\tensorflow\\python\\framework\\dtypes.py:520: FutureWarning: Passing (type, 1) or '1type' as a synonym of type is deprecated; in a future version of numpy, it will be understood as (type, (1,)) / '(1,)type'.\n",
      "  _np_qint32 = np.dtype([(\"qint32\", np.int32, 1)])\n",
      "C:\\Anaconda3\\lib\\site-packages\\tensorflow\\python\\framework\\dtypes.py:525: FutureWarning: Passing (type, 1) or '1type' as a synonym of type is deprecated; in a future version of numpy, it will be understood as (type, (1,)) / '(1,)type'.\n",
      "  np_resource = np.dtype([(\"resource\", np.ubyte, 1)])\n",
      "C:\\Anaconda3\\lib\\site-packages\\tensorboard\\compat\\tensorflow_stub\\dtypes.py:541: FutureWarning: Passing (type, 1) or '1type' as a synonym of type is deprecated; in a future version of numpy, it will be understood as (type, (1,)) / '(1,)type'.\n",
      "  _np_qint8 = np.dtype([(\"qint8\", np.int8, 1)])\n",
      "C:\\Anaconda3\\lib\\site-packages\\tensorboard\\compat\\tensorflow_stub\\dtypes.py:542: FutureWarning: Passing (type, 1) or '1type' as a synonym of type is deprecated; in a future version of numpy, it will be understood as (type, (1,)) / '(1,)type'.\n",
      "  _np_quint8 = np.dtype([(\"quint8\", np.uint8, 1)])\n",
      "C:\\Anaconda3\\lib\\site-packages\\tensorboard\\compat\\tensorflow_stub\\dtypes.py:543: FutureWarning: Passing (type, 1) or '1type' as a synonym of type is deprecated; in a future version of numpy, it will be understood as (type, (1,)) / '(1,)type'.\n",
      "  _np_qint16 = np.dtype([(\"qint16\", np.int16, 1)])\n",
      "C:\\Anaconda3\\lib\\site-packages\\tensorboard\\compat\\tensorflow_stub\\dtypes.py:544: FutureWarning: Passing (type, 1) or '1type' as a synonym of type is deprecated; in a future version of numpy, it will be understood as (type, (1,)) / '(1,)type'.\n",
      "  _np_quint16 = np.dtype([(\"quint16\", np.uint16, 1)])\n",
      "C:\\Anaconda3\\lib\\site-packages\\tensorboard\\compat\\tensorflow_stub\\dtypes.py:545: FutureWarning: Passing (type, 1) or '1type' as a synonym of type is deprecated; in a future version of numpy, it will be understood as (type, (1,)) / '(1,)type'.\n",
      "  _np_qint32 = np.dtype([(\"qint32\", np.int32, 1)])\n",
      "C:\\Anaconda3\\lib\\site-packages\\tensorboard\\compat\\tensorflow_stub\\dtypes.py:550: FutureWarning: Passing (type, 1) or '1type' as a synonym of type is deprecated; in a future version of numpy, it will be understood as (type, (1,)) / '(1,)type'.\n",
      "  np_resource = np.dtype([(\"resource\", np.ubyte, 1)])\n"
     ]
    },
    {
     "name": "stdout",
     "output_type": "stream",
     "text": [
      "(60000, 784)\n",
      "(10000, 784)\n"
     ]
    }
   ],
   "source": [
    "from keras.datasets import fashion_mnist\n",
    "import numpy as np\n",
    "(x_train, _), (x_test, _) = fashion_mnist.load_data()\n",
    "x_train = x_train.astype('float32') / 255.\n",
    "x_test = x_test.astype('float32') / 255.\n",
    "x_train = x_train.reshape((len(x_train), np.prod(x_train.shape[1:])))\n",
    "x_test = x_test.reshape((len(x_test), np.prod(x_test.shape[1:])))\n",
    "print(x_train.shape)\n",
    "print(x_test.shape)\n"
   ]
  },
  {
   "cell_type": "code",
   "execution_count": 2,
   "metadata": {},
   "outputs": [
    {
     "name": "stdout",
     "output_type": "stream",
     "text": [
      "WARNING:tensorflow:From C:\\Anaconda3\\lib\\site-packages\\keras\\backend\\tensorflow_backend.py:74: The name tf.get_default_graph is deprecated. Please use tf.compat.v1.get_default_graph instead.\n",
      "\n",
      "WARNING:tensorflow:From C:\\Anaconda3\\lib\\site-packages\\keras\\backend\\tensorflow_backend.py:517: The name tf.placeholder is deprecated. Please use tf.compat.v1.placeholder instead.\n",
      "\n",
      "WARNING:tensorflow:From C:\\Anaconda3\\lib\\site-packages\\keras\\backend\\tensorflow_backend.py:4138: The name tf.random_uniform is deprecated. Please use tf.random.uniform instead.\n",
      "\n",
      "WARNING:tensorflow:From C:\\Anaconda3\\lib\\site-packages\\keras\\optimizers.py:790: The name tf.train.Optimizer is deprecated. Please use tf.compat.v1.train.Optimizer instead.\n",
      "\n",
      "WARNING:tensorflow:From C:\\Anaconda3\\lib\\site-packages\\keras\\backend\\tensorflow_backend.py:3376: The name tf.log is deprecated. Please use tf.math.log instead.\n",
      "\n",
      "WARNING:tensorflow:From C:\\Anaconda3\\lib\\site-packages\\tensorflow\\python\\ops\\nn_impl.py:180: add_dispatch_support.<locals>.wrapper (from tensorflow.python.ops.array_ops) is deprecated and will be removed in a future version.\n",
      "Instructions for updating:\n",
      "Use tf.where in 2.0, which has the same broadcast rule as np.where\n",
      "_________________________________________________________________\n",
      "Layer (type)                 Output Shape              Param #   \n",
      "=================================================================\n",
      "input_1 (InputLayer)         (None, 784)               0         \n",
      "_________________________________________________________________\n",
      "dense_1 (Dense)              (None, 32)                25120     \n",
      "_________________________________________________________________\n",
      "dense_2 (Dense)              (None, 784)               25872     \n",
      "=================================================================\n",
      "Total params: 50,992\n",
      "Trainable params: 50,992\n",
      "Non-trainable params: 0\n",
      "_________________________________________________________________\n"
     ]
    }
   ],
   "source": [
    "import keras\n",
    "from keras import layers\n",
    "\n",
    "encoding_dim = 32  # Size of our encoded representations \n",
    "\n",
    "input_img = keras.Input(shape=(x_train.shape[1],))                   # Input image\n",
    "encoded = layers.Dense(32, activation='relu')(input_img)   # \"encoded\" is encoded representation of  input\n",
    "decoded = layers.Dense(784, activation='sigmoid')(encoded)           # \"decoded\" is lossy reconstruction of  input\n",
    "autoencoder = keras.Model(input_img, decoded)                        # This model maps an input to its reconstruction\n",
    "\n",
    "autoencoder.compile(optimizer='adam', loss='binary_crossentropy')\n",
    "autoencoder.summary(0)"
   ]
  },
  {
   "cell_type": "code",
   "execution_count": 30,
   "metadata": {},
   "outputs": [
    {
     "name": "stdout",
     "output_type": "stream",
     "text": [
      "Train on 60000 samples, validate on 10000 samples\n",
      "Epoch 1/50\n",
      "60000/60000 [==============================] - 5s 76us/step - loss: 0.4155 - val_loss: 0.3465\n",
      "Epoch 2/50\n",
      "60000/60000 [==============================] - 4s 73us/step - loss: 0.3304 - val_loss: 0.3216\n",
      "Epoch 3/50\n",
      "60000/60000 [==============================] - 4s 68us/step - loss: 0.3128 - val_loss: 0.3089\n",
      "Epoch 4/50\n",
      "60000/60000 [==============================] - 4s 64us/step - loss: 0.3027 - val_loss: 0.3012\n",
      "Epoch 5/50\n",
      "60000/60000 [==============================] - 4s 62us/step - loss: 0.2962 - val_loss: 0.2960\n",
      "Epoch 6/50\n",
      "60000/60000 [==============================] - 3s 53us/step - loss: 0.2924 - val_loss: 0.2933\n",
      "Epoch 7/50\n",
      "60000/60000 [==============================] - 4s 63us/step - loss: 0.2901 - val_loss: 0.2913\n",
      "Epoch 8/50\n",
      "60000/60000 [==============================] - 4s 61us/step - loss: 0.2885 - val_loss: 0.2900\n",
      "Epoch 9/50\n",
      "60000/60000 [==============================] - 3s 57us/step - loss: 0.2875 - val_loss: 0.2892\n",
      "Epoch 10/50\n",
      "60000/60000 [==============================] - 4s 74us/step - loss: 0.2868 - val_loss: 0.2886\n",
      "Epoch 11/50\n",
      "60000/60000 [==============================] - 4s 60us/step - loss: 0.2862 - val_loss: 0.2882\n",
      "Epoch 12/50\n",
      "60000/60000 [==============================] - 3s 54us/step - loss: 0.2858 - val_loss: 0.2878\n",
      "Epoch 13/50\n",
      "60000/60000 [==============================] - 3s 57us/step - loss: 0.2854 - val_loss: 0.2875\n",
      "Epoch 14/50\n",
      "60000/60000 [==============================] - 3s 54us/step - loss: 0.2852 - val_loss: 0.2874\n",
      "Epoch 15/50\n",
      "60000/60000 [==============================] - 3s 55us/step - loss: 0.2849 - val_loss: 0.2870\n",
      "Epoch 16/50\n",
      "60000/60000 [==============================] - 4s 58us/step - loss: 0.2845 - val_loss: 0.2866\n",
      "Epoch 17/50\n",
      "60000/60000 [==============================] - 4s 59us/step - loss: 0.2841 - val_loss: 0.2864\n",
      "Epoch 18/50\n",
      "60000/60000 [==============================] - 4s 61us/step - loss: 0.2839 - val_loss: 0.2861\n",
      "Epoch 19/50\n",
      "60000/60000 [==============================] - 4s 59us/step - loss: 0.2837 - val_loss: 0.2859\n",
      "Epoch 20/50\n",
      "60000/60000 [==============================] - 4s 63us/step - loss: 0.2836 - val_loss: 0.2858\n",
      "Epoch 21/50\n",
      "60000/60000 [==============================] - 4s 65us/step - loss: 0.2834 - val_loss: 0.2857\n",
      "Epoch 22/50\n",
      "60000/60000 [==============================] - 4s 67us/step - loss: 0.2833 - val_loss: 0.2856\n",
      "Epoch 23/50\n",
      "60000/60000 [==============================] - 4s 59us/step - loss: 0.2832 - val_loss: 0.2855\n",
      "Epoch 24/50\n",
      "60000/60000 [==============================] - 4s 62us/step - loss: 0.2831 - val_loss: 0.2854\n",
      "Epoch 25/50\n",
      "60000/60000 [==============================] - 4s 59us/step - loss: 0.2830 - val_loss: 0.2853\n",
      "Epoch 26/50\n",
      "60000/60000 [==============================] - 3s 58us/step - loss: 0.2829 - val_loss: 0.2852\n",
      "Epoch 27/50\n",
      "60000/60000 [==============================] - 3s 57us/step - loss: 0.2829 - val_loss: 0.2851\n",
      "Epoch 28/50\n",
      "60000/60000 [==============================] - 3s 58us/step - loss: 0.2828 - val_loss: 0.2852\n",
      "Epoch 29/50\n",
      "60000/60000 [==============================] - 4s 59us/step - loss: 0.2827 - val_loss: 0.2851\n",
      "Epoch 30/50\n",
      "60000/60000 [==============================] - 4s 69us/step - loss: 0.2827 - val_loss: 0.2851\n",
      "Epoch 31/50\n",
      "60000/60000 [==============================] - 4s 68us/step - loss: 0.2826 - val_loss: 0.2849\n",
      "Epoch 32/50\n",
      "60000/60000 [==============================] - 4s 62us/step - loss: 0.2826 - val_loss: 0.2850\n",
      "Epoch 33/50\n",
      "60000/60000 [==============================] - 4s 62us/step - loss: 0.2825 - val_loss: 0.2849\n",
      "Epoch 34/50\n",
      "60000/60000 [==============================] - 3s 58us/step - loss: 0.2825 - val_loss: 0.2848\n",
      "Epoch 35/50\n",
      "60000/60000 [==============================] - 4s 60us/step - loss: 0.2824 - val_loss: 0.2848\n",
      "Epoch 36/50\n",
      "60000/60000 [==============================] - 4s 60us/step - loss: 0.2824 - val_loss: 0.2849\n",
      "Epoch 37/50\n",
      "60000/60000 [==============================] - 3s 58us/step - loss: 0.2824 - val_loss: 0.2847\n",
      "Epoch 38/50\n",
      "60000/60000 [==============================] - 4s 63us/step - loss: 0.2823 - val_loss: 0.2847\n",
      "Epoch 39/50\n",
      "60000/60000 [==============================] - 4s 70us/step - loss: 0.2823 - val_loss: 0.2847\n",
      "Epoch 40/50\n",
      "60000/60000 [==============================] - 4s 61us/step - loss: 0.2822 - val_loss: 0.2847\n",
      "Epoch 41/50\n",
      "60000/60000 [==============================] - 4s 73us/step - loss: 0.2822 - val_loss: 0.2846\n",
      "Epoch 42/50\n",
      "60000/60000 [==============================] - 4s 68us/step - loss: 0.2822 - val_loss: 0.2845\n",
      "Epoch 43/50\n",
      "60000/60000 [==============================] - 4s 64us/step - loss: 0.2821 - val_loss: 0.2845\n",
      "Epoch 44/50\n",
      "60000/60000 [==============================] - 4s 59us/step - loss: 0.2821 - val_loss: 0.2845\n",
      "Epoch 45/50\n",
      "60000/60000 [==============================] - 4s 61us/step - loss: 0.2821 - val_loss: 0.2845\n",
      "Epoch 46/50\n",
      "60000/60000 [==============================] - 4s 62us/step - loss: 0.2820 - val_loss: 0.2844\n",
      "Epoch 47/50\n",
      "60000/60000 [==============================] - 3s 57us/step - loss: 0.2820 - val_loss: 0.2845\n",
      "Epoch 48/50\n",
      "60000/60000 [==============================] - 5s 81us/step - loss: 0.2820 - val_loss: 0.2844\n",
      "Epoch 49/50\n",
      "60000/60000 [==============================] - 4s 62us/step - loss: 0.2820 - val_loss: 0.2844\n",
      "Epoch 50/50\n",
      "60000/60000 [==============================] - 4s 64us/step - loss: 0.2820 - val_loss: 0.2844\n"
     ]
    },
    {
     "data": {
      "text/plain": [
       "<keras.callbacks.History at 0x1b080278be0>"
      ]
     },
     "execution_count": 30,
     "metadata": {},
     "output_type": "execute_result"
    }
   ],
   "source": [
    "autoencoder.fit(x_train, x_train, epochs=50, batch_size=256, shuffle=True,\n",
    "                validation_data=(x_test, x_test))\n"
   ]
  },
  {
   "cell_type": "code",
   "execution_count": 31,
   "metadata": {},
   "outputs": [
    {
     "name": "stdout",
     "output_type": "stream",
     "text": [
      "First row is orignal images\n"
     ]
    },
    {
     "data": {
      "image/png": "[encoded data removed]",
      "text/plain": [
       "<Figure size 1440x288 with 20 Axes>"
      ]
     },
     "metadata": {
      "needs_background": "light"
     },
     "output_type": "display_data"
    },
    {
     "name": "stdout",
     "output_type": "stream",
     "text": [
      "Second row is reconstrcuted images\n"
     ]
    }
   ],
   "source": [
    "encoder = keras.Model(input_img, encoded)            # This model maps an input to its encoded representation\n",
    "encoded_input = keras.Input(shape=(encoding_dim,))   # This is our encoded (32-dimensional) input\n",
    "\n",
    "decoder = keras.Model(encoded_input, decoder_layer(encoded_input))  # Create the decoder model\n",
    "decoded_imgs = decoder.predict(encoded_imgs)\n",
    "\n",
    "import matplotlib.pyplot as plt\n",
    "\n",
    "print('First row is orignal images')\n",
    "n = 10  # How many digits we will display\n",
    "plt.figure(figsize=(20, 4))\n",
    "for i in range(n):\n",
    "    # Display original\n",
    "    ax = plt.subplot(2, n, i + 1)\n",
    "    plt.imshow(x_test[i].reshape(28, 28))\n",
    "    plt.gray()\n",
    "    ax.get_xaxis().set_visible(False)\n",
    "    ax.get_yaxis().set_visible(False)\n",
    "\n",
    "    # Display reconstruction\n",
    "    ax = plt.subplot(2, n, i + 1 + n)\n",
    "    plt.imshow(decoded_imgs[i].reshape(28, 28))\n",
    "    plt.gray()\n",
    "    ax.get_xaxis().set_visible(False)\n",
    "    ax.get_yaxis().set_visible(False)\n",
    "plt.show()\n",
    "print('Second row is reconstrcuted images')"
   ]
  },
  {
   "cell_type": "code",
   "execution_count": 34,
   "metadata": {},
   "outputs": [
    {
     "name": "stdout",
     "output_type": "stream",
     "text": [
      "Encoded representations\n"
     ]
    },
    {
     "data": {
      "image/png": "[encoded data removed]",
      "text/plain": [
       "<Figure size 1440x576 with 10 Axes>"
      ]
     },
     "metadata": {
      "needs_background": "light"
     },
     "output_type": "display_data"
    }
   ],
   "source": [
    "encoder = keras.Model(input_img, encoded)           # This model maps an input to its encoded representation\n",
    "encoded_imgs = encoder.predict(x_test)              # This is our encoded (32-dimensional) input\n",
    "\n",
    "print('Encoded representations')\n",
    "n = 10\n",
    "plt.figure(figsize=(20, 8))\n",
    "for i in range(1, n + 1):\n",
    "    ax = plt.subplot(1, n, i)\n",
    "    plt.imshow(encoded_imgs[i].reshape((1, 4 * 8)).T)\n",
    "    plt.gray()\n",
    "    ax.get_xaxis().set_visible(False)\n",
    "    ax.get_yaxis().set_visible(False)\n",
    "plt.show()\n"
   ]
  }
 ],
 "metadata": {
  "kernelspec": {
   "display_name": "Python 3",
   "language": "python",
   "name": "python3"
  },
  "language_info": {
   "codemirror_mode": {
    "name": "ipython",
    "version": 3
   },
   "file_extension": ".py",
   "mimetype": "text/x-python",
   "name": "python",
   "nbconvert_exporter": "python",
   "pygments_lexer": "ipython3",
   "version": "3.7.3"
  }
 },
 "nbformat": 4,
 "nbformat_minor": 2
}
