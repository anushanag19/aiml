{
 "cells": [
  {
   "cell_type": "code",
   "execution_count": 4,
   "metadata": {},
   "outputs": [],
   "source": [
    "#pip install nltk\n",
    "#pip install unidecode"
   ]
  },
  {
   "cell_type": "code",
   "execution_count": 5,
   "metadata": {},
   "outputs": [],
   "source": [
    "from sklearn.feature_extraction.text import TfidfVectorizer\n",
    "import nltk, string\n",
    "import numpy as np\n",
    "#nltk.download('punkt') # if necessary...\n",
    "\n",
    "stemmer = nltk.stem.porter.PorterStemmer()\n",
    "remove_punctuation_map = dict((ord(char), None) for char in string.punctuation)\n",
    "\n",
    "def stem_tokens(tokens):\n",
    "    return [stemmer.stem(item) for item in tokens]\n",
    "\n",
    "def normalize(text):\n",
    "    return stem_tokens(nltk.word_tokenize(text.lower().translate(remove_punctuation_map))) "
   ]
  },
  {
   "cell_type": "code",
   "execution_count": 6,
   "metadata": {},
   "outputs": [
    {
     "name": "stderr",
     "output_type": "stream",
     "text": [
      "C:\\ProgramData\\Anaconda3\\lib\\site-packages\\sklearn\\feature_extraction\\text.py:300: UserWarning: Your stop_words may be inconsistent with your preprocessing. Tokenizing the stop words generated tokens ['abov', 'afterward', 'alon', 'alreadi', 'alway', 'ani', 'anoth', 'anyon', 'anyth', 'anywher', 'becam', 'becaus', 'becom', 'befor', 'besid', 'cri', 'describ', 'dure', 'els', 'elsewher', 'empti', 'everi', 'everyon', 'everyth', 'everywher', 'fifti', 'formerli', 'forti', 'ha', 'henc', 'hereaft', 'herebi', 'hi', 'howev', 'hundr', 'inde', 'latterli', 'mani', 'meanwhil', 'moreov', 'mostli', 'nobodi', 'noon', 'noth', 'nowher', 'onc', 'onli', 'otherwis', 'ourselv', 'perhap', 'pleas', 'seriou', 'sever', 'sinc', 'sincer', 'sixti', 'someon', 'someth', 'sometim', 'somewher', 'themselv', 'thenc', 'thereaft', 'therebi', 'therefor', 'thi', 'thu', 'togeth', 'twelv', 'twenti', 'veri', 'wa', 'whatev', 'whenc', 'whenev', 'wherea', 'whereaft', 'wherebi', 'wherev', 'whi', 'yourselv'] not in stop_words.\n",
      "  'stop_words.' % sorted(inconsistent))\n"
     ]
    }
   ],
   "source": [
    "corpus = [\"I'd like an apple\", \n",
    "           \"An apple a day keeps the doctor away\", \n",
    "           \"Never compare an apple to an orange\", \n",
    "           \"I prefer scikit-learn to Orange\", \n",
    "           \"The scikit-learn docs are Orange and Blue\"]  \n",
    "\n",
    "vect = TfidfVectorizer(tokenizer=normalize, stop_words='english')\n",
    "tfidf = vect.fit_transform(corpus)"
   ]
  },
  {
   "cell_type": "code",
   "execution_count": 7,
   "metadata": {},
   "outputs": [
    {
     "name": "stdout",
     "output_type": "stream",
     "text": [
      "  (0, 2)\t0.20810745702371014\n",
      "  (0, 1)\t0.15435065132631015\n",
      "  (0, 0)\t0.9999999999999999\n",
      "  (1, 2)\t0.1753569300435442\n",
      "  (1, 0)\t0.15435065132631015\n",
      "  (1, 1)\t1.0\n",
      "  (2, 1)\t0.1753569300435442\n",
      "  (2, 0)\t0.20810745702371014\n",
      "  (2, 4)\t0.18496860056604023\n",
      "  (2, 3)\t0.22474406660855534\n",
      "  (2, 2)\t1.0\n",
      "  (3, 2)\t0.22474406660855534\n",
      "  (3, 4)\t0.43099865915936864\n",
      "  (3, 3)\t1.0\n",
      "  (4, 2)\t0.18496860056604023\n",
      "  (4, 3)\t0.43099865915936864\n",
      "  (4, 4)\t1.0\n",
      "['the', 'scikitlearn', 'doc', 'are', 'orang', 'and', 'blue']\n"
     ]
    }
   ],
   "source": [
    "pairwise_similarity = tfidf * tfidf.T\n",
    "\n",
    "#view the pairwise similariti1es \n",
    "print(pairwise_similarity)\n",
    "\n",
    "#check how a string is normalized\n",
    "print(normalize(\"The scikit-learn docs are Orange and Blue\"))"
   ]
  },
  {
   "cell_type": "code",
   "execution_count": null,
   "metadata": {},
   "outputs": [],
   "source": []
  }
 ],
 "metadata": {
  "kernelspec": {
   "display_name": "Python 3",
   "language": "python",
   "name": "python3"
  },
  "language_info": {
   "codemirror_mode": {
    "name": "ipython",
    "version": 3
   },
   "file_extension": ".py",
   "mimetype": "text/x-python",
   "name": "python",
   "nbconvert_exporter": "python",
   "pygments_lexer": "ipython3",
   "version": "3.7.4"
  }
 },
 "nbformat": 4,
 "nbformat_minor": 2
}
