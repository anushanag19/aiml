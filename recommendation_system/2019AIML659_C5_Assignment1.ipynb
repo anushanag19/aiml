{
 "cells": [
  {
   "cell_type": "markdown",
   "metadata": {},
   "source": [
    "# Text Retrieval\n",
    "There are 2 standard models for retrieving text data.\n",
    "1. Boolean Retrieval Model\n",
    "2. Vector Space Model\n",
    "\n",
    "The aim of any information retrieval model is to retrieve documents related to a query."
   ]
  },
  {
   "cell_type": "markdown",
   "metadata": {},
   "source": [
    "## 1. Boolean Retrieval Model\n",
    "In this model we consider every query and document as a set of words and we retrieve a document if and only if the query word is present in it. Model can be extended to support complex queries with boolean operators.\n",
    "\n",
    "In this assignment we are going to implement both the models, using scikit-learn package. We are going to use song lyrics dataset.\n",
    "\n",
    "\n",
    "**Step 1. Import necessary packages -- numpy and pandas - 1 Mark** "
   ]
  },
  {
   "cell_type": "code",
   "execution_count": 1,
   "metadata": {},
   "outputs": [],
   "source": [
    "import numpy as np\n",
    "import pandas as pd\n"
   ]
  },
  {
   "cell_type": "markdown",
   "metadata": {},
   "source": [
    "**Step 2. Read the dataset and store it in variable 'df' - 1 mark** <br> \n",
    "\n",
    "The lyric column of the dataset has song lyrics. We aim to give some lyrics as a query and retrieve the song name. \n"
   ]
  },
  {
   "cell_type": "code",
   "execution_count": 2,
   "metadata": {},
   "outputs": [
    {
     "data": {
      "text/html": [
       "<div>\n",
       "<style scoped>\n",
       "    .dataframe tbody tr th:only-of-type {\n",
       "        vertical-align: middle;\n",
       "    }\n",
       "\n",
       "    .dataframe tbody tr th {\n",
       "        vertical-align: top;\n",
       "    }\n",
       "\n",
       "    .dataframe thead th {\n",
       "        text-align: right;\n",
       "    }\n",
       "</style>\n",
       "<table border=\"1\" class=\"dataframe\">\n",
       "  <thead>\n",
       "    <tr style=\"text-align: right;\">\n",
       "      <th></th>\n",
       "      <th>album</th>\n",
       "      <th>track_title</th>\n",
       "      <th>lyric</th>\n",
       "      <th>year</th>\n",
       "    </tr>\n",
       "  </thead>\n",
       "  <tbody>\n",
       "    <tr>\n",
       "      <td>0</td>\n",
       "      <td>Taylor Swift</td>\n",
       "      <td>Tim McGraw</td>\n",
       "      <td>He said the way my blue eyes shined Put those ...</td>\n",
       "      <td>2006</td>\n",
       "    </tr>\n",
       "    <tr>\n",
       "      <td>1</td>\n",
       "      <td>Taylor Swift</td>\n",
       "      <td>Picture To Burn</td>\n",
       "      <td>State the obvious, I didn't get my perfect fan...</td>\n",
       "      <td>2006</td>\n",
       "    </tr>\n",
       "    <tr>\n",
       "      <td>2</td>\n",
       "      <td>Taylor Swift</td>\n",
       "      <td>Teardrops On My Guitar</td>\n",
       "      <td>Drew looks at me I fake a smile so he won't se...</td>\n",
       "      <td>2006</td>\n",
       "    </tr>\n",
       "    <tr>\n",
       "      <td>3</td>\n",
       "      <td>Taylor Swift</td>\n",
       "      <td>A Place In This World</td>\n",
       "      <td>I don't know what I want, so don't ask me Caus...</td>\n",
       "      <td>2006</td>\n",
       "    </tr>\n",
       "    <tr>\n",
       "      <td>4</td>\n",
       "      <td>Taylor Swift</td>\n",
       "      <td>Cold as You</td>\n",
       "      <td>You have a way of coming easily to me And when...</td>\n",
       "      <td>2006</td>\n",
       "    </tr>\n",
       "  </tbody>\n",
       "</table>\n",
       "</div>"
      ],
      "text/plain": [
       "          album             track_title  \\\n",
       "0  Taylor Swift              Tim McGraw   \n",
       "1  Taylor Swift         Picture To Burn   \n",
       "2  Taylor Swift  Teardrops On My Guitar   \n",
       "3  Taylor Swift   A Place In This World   \n",
       "4  Taylor Swift             Cold as You   \n",
       "\n",
       "                                               lyric  year  \n",
       "0  He said the way my blue eyes shined Put those ...  2006  \n",
       "1  State the obvious, I didn't get my perfect fan...  2006  \n",
       "2  Drew looks at me I fake a smile so he won't se...  2006  \n",
       "3  I don't know what I want, so don't ask me Caus...  2006  \n",
       "4  You have a way of coming easily to me And when...  2006  "
      ]
     },
     "execution_count": 2,
     "metadata": {},
     "output_type": "execute_result"
    }
   ],
   "source": [
    "df=pd.read_csv('modified_song_lyrics.csv')\n",
    "df.head()\n"
   ]
  },
  {
   "cell_type": "markdown",
   "metadata": {},
   "source": [
    "**Documentation Reference: https://scikit-learn.org/stable/modules/generated/sklearn.feature_extraction.text.CountVectorizer.html**<br>"
   ]
  },
  {
   "cell_type": "markdown",
   "metadata": {},
   "source": [
    "**Step 3**<br>\n",
    "1. Import this class\n",
    "2. Create a 'vectorizer' object of 'CountVectorizer' with parameter binary=True - 1 Mark"
   ]
  },
  {
   "cell_type": "code",
   "execution_count": 3,
   "metadata": {},
   "outputs": [],
   "source": [
    "from sklearn.feature_extraction.text import CountVectorizer\n",
    "vectorizer = CountVectorizer(binary=True)\n"
   ]
  },
  {
   "cell_type": "markdown",
   "metadata": {},
   "source": [
    "We aim to analyze the lyrics for presence or absence. <br> \n",
    "**Step 4. Fit and transform the lyric column using vectorizer - 2 Marks**<br>\n",
    "X object is a matrix of size (n_songs,n_unique_words) where each entry is 0 or 1 if the word in present in this song. Verify this using X.shape method"
   ]
  },
  {
   "cell_type": "code",
   "execution_count": 4,
   "metadata": {},
   "outputs": [
    {
     "data": {
      "text/plain": [
       "(94, 2301)"
      ]
     },
     "execution_count": 4,
     "metadata": {},
     "output_type": "execute_result"
    }
   ],
   "source": [
    "X = vectorizer.fit_transform(df['lyric'].tolist())\n",
    "X.shape\n"
   ]
  },
  {
   "cell_type": "code",
   "execution_count": 5,
   "metadata": {},
   "outputs": [],
   "source": [
    "query1 = 'beautiful'\n",
    "query2 = 'girl'\n",
    "# To get list of all doc containing a word, we do it in the following way\n",
    "list_q1 = X[:,vectorizer.vocabulary_[query1]]\n",
    "# Step 5. Do the same for 'query2' and store it in 'list_q2'\n",
    "list_q2 = X[:,vectorizer.vocabulary_[query2]]"
   ]
  },
  {
   "cell_type": "code",
   "execution_count": 6,
   "metadata": {},
   "outputs": [
    {
     "name": "stdout",
     "output_type": "stream",
     "text": [
      "Teardrops On My Guitar\n",
      "Superman\n",
      "End Game (Ft. Ed Sheeran & Future)\n"
     ]
    }
   ],
   "source": [
    "# AND Operation\n",
    "for i in range(list_q1.shape[0]):\n",
    "    if list_q1[i]==1 and list_q2[i]==1:\n",
    "        print(df.iloc[i,1])"
   ]
  },
  {
   "cell_type": "markdown",
   "metadata": {},
   "source": [
    "**Step 6. Implement OR operation - 1 Mark**"
   ]
  },
  {
   "cell_type": "code",
   "execution_count": 7,
   "metadata": {},
   "outputs": [
    {
     "name": "stdout",
     "output_type": "stream",
     "text": [
      "Teardrops On My Guitar\n",
      "A Place In This World\n",
      "Stay Beautiful\n",
      "Mary's Song (Oh My My My)\n",
      "I'm Only Me When I'm With You\n",
      "Invisible\n",
      "Fifteen\n",
      "Hey Stephen\n",
      "White Horse\n",
      "You Belong With Me\n",
      "The Way I Loved You\n",
      "Back To December\n",
      "Speak Now\n",
      "Dear John\n",
      "Innocent\n",
      "Last Kiss\n",
      "Superman\n",
      "Holy Ground\n",
      "Sad Beautiful Tragic\n",
      "Everything Has Changed (Ft. Ed Sheeran)\n",
      "Begin Again\n",
      "Girl at Home\n",
      "Blank Space\n",
      "Style\n",
      "How You Get The Girl\n",
      "End Game (Ft. Ed Sheeran & Future)\n",
      "So It Goes...\n",
      "King of My Heart\n"
     ]
    }
   ],
   "source": [
    "# OR Operation\n",
    "for i in range(list_q1.shape[0]):\n",
    "    if list_q1[i]==1 or list_q2[i]==1:\n",
    "        print(df.iloc[i,1])\n"
   ]
  },
  {
   "cell_type": "markdown",
   "metadata": {},
   "source": [
    "## 2. Vector Space Model\n",
    "In this model, every document and query is represented as a vector and closest vector as measured by cosine distance is considered as the correct answer."
   ]
  },
  {
   "cell_type": "markdown",
   "metadata": {},
   "source": [
    "**Documentation Reference:**<br>\n",
    "1. https://scikit-learn.org/stable/modules/generated/sklearn.feature_extraction.text.TfidfVectorizer.html\n",
    "2. https://scikit-learn.org/stable/modules/generated/sklearn.metrics.pairwise.cosine_similarity.html\n",
    "\n",
    "**Step 1. Import above references - 1 Mark**"
   ]
  },
  {
   "cell_type": "code",
   "execution_count": 8,
   "metadata": {},
   "outputs": [],
   "source": [
    "from sklearn.feature_extraction.text import TfidfVectorizer"
   ]
  },
  {
   "cell_type": "markdown",
   "metadata": {},
   "source": [
    "**Step 2. Create a 'vectorizer' object of 'TfidfVectorizer' - 1 Mark**"
   ]
  },
  {
   "cell_type": "code",
   "execution_count": 9,
   "metadata": {},
   "outputs": [],
   "source": [
    "vectorizer = TfidfVectorizer()\n"
   ]
  },
  {
   "cell_type": "markdown",
   "metadata": {},
   "source": [
    "Here we attempt to calculate tf-idf scores of the terms (lyrics). We do that by doing the following. <br> \n",
    "**Step 3. Fit and transform the lyric column using vectorizer - 2 Marks**<br>\n",
    "X object is a matrix of size (n_songs,n_unique_words) where each entry is tf-idf score of the word in this song. Verify this using X.shape method"
   ]
  },
  {
   "cell_type": "code",
   "execution_count": 10,
   "metadata": {},
   "outputs": [
    {
     "data": {
      "text/plain": [
       "(94, 2301)"
      ]
     },
     "execution_count": 10,
     "metadata": {},
     "output_type": "execute_result"
    }
   ],
   "source": [
    "X = vectorizer.fit_transform(df['lyric'].tolist())\n",
    "X.shape\n"
   ]
  },
  {
   "cell_type": "markdown",
   "metadata": {},
   "source": [
    "**Step 4. Use 'transform' method of vectorizer on 'query' and store in 'query_vec' - 1 Mark**<br>\n",
    "This method converts a text value into a tf-idf vector"
   ]
  },
  {
   "cell_type": "code",
   "execution_count": 11,
   "metadata": {},
   "outputs": [
    {
     "data": {
      "text/plain": [
       "<1x2301 sparse matrix of type '<class 'numpy.float64'>'\n",
       "\twith 5 stored elements in Compressed Sparse Row format>"
      ]
     },
     "execution_count": 11,
     "metadata": {},
     "output_type": "execute_result"
    }
   ],
   "source": [
    "query = \"Take it easy, with me\"\n",
    "query_vec = vectorizer.transform([query])\n",
    "query_vec"
   ]
  },
  {
   "cell_type": "markdown",
   "metadata": {},
   "source": [
    "**Step 5. Use 'cosine_similarity' on 'X' and 'query_vec' store it in 'results' - 1 Mark**"
   ]
  },
  {
   "cell_type": "code",
   "execution_count": 12,
   "metadata": {},
   "outputs": [],
   "source": [
    "from sklearn.metrics.pairwise import cosine_similarity\n",
    "results = cosine_similarity(X, query_vec)\n"
   ]
  },
  {
   "cell_type": "code",
   "execution_count": 13,
   "metadata": {},
   "outputs": [
    {
     "name": "stdout",
     "output_type": "stream",
     "text": [
      "Song Index --  20\n",
      "Title --  Breathe (Ft. Colbie Caillat)\n",
      "Album --  Fearless\n",
      "Lyrics --  I see your face in my mind as I drive away 'Cause none of us thought it was Going to end that way People are people And sometimes we change our minds But it's killing me to see you go after all this time Mm mm mm, mm mm mm, mm mm Mm mm mm, mm mm mm, mm mm Music starts playing like the end of a sad movie It's the kind of ending you Don't really want to see 'Cause it's tragedy and it'll only bring you Down Now I don't know what to be without you around And we know it's never simple, never easy Never a clean break, no one here to Save me You're the only thing I know like the back of my hand And I can't Breathe Without you but I have to breathe Without you but I have to Never wanted this, never want to see you hurt Every little bump in the road I tried to swerve But people are people And sometimes it doesn't work out Nothing we say is gonna save us from the fall out It's 2 A.M Feeling like I just lost a friend Hope you know it's not easy Easy for me It's 2 A.M Feeling like I just lost a friend Hope you know this ain't easy Easy for me Sorry, sorry Sorry, (Yeah eh) sorry Sorry, sorry Sorry\n"
     ]
    }
   ],
   "source": [
    "# Print Name of the song\n",
    "song_index = np.argmax(results.reshape((-1,)))\n",
    "print('Song Index -- ',song_index) # add song name here \n",
    "print('Title -- ',df['track_title'].loc[song_index])\n",
    "print('Album -- ',df['album'].loc[song_index])\n",
    "print('Lyrics -- ',df['lyric'].loc[song_index])"
   ]
  },
  {
   "cell_type": "code",
   "execution_count": 14,
   "metadata": {},
   "outputs": [
    {
     "name": "stdout",
     "output_type": "stream",
     "text": [
      "COMPLETE\n"
     ]
    }
   ],
   "source": [
    "print('COMPLETE')"
   ]
  }
 ],
 "metadata": {
  "kernelspec": {
   "display_name": "Python 3",
   "language": "python",
   "name": "python3"
  },
  "language_info": {
   "codemirror_mode": {
    "name": "ipython",
    "version": 3
   },
   "file_extension": ".py",
   "mimetype": "text/x-python",
   "name": "python",
   "nbconvert_exporter": "python",
   "pygments_lexer": "ipython3",
   "version": "3.7.4"
  }
 },
 "nbformat": 4,
 "nbformat_minor": 2
}
