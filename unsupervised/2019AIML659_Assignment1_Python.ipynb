{
 "cells": [
  {
   "cell_type": "code",
   "execution_count": 1,
   "metadata": {},
   "outputs": [],
   "source": [
    "import numpy as np  \n",
    "import pandas as pd \n",
    "from matplotlib import pyplot as plt "
   ]
  },
  {
   "cell_type": "code",
   "execution_count": 2,
   "metadata": {},
   "outputs": [],
   "source": [
    "data = pd.read_csv('cricketers.csv', sep=\"\\t\") "
   ]
  },
  {
   "cell_type": "code",
   "execution_count": 3,
   "metadata": {},
   "outputs": [
    {
     "name": "stdout",
     "output_type": "stream",
     "text": [
      "(109, 14)\n"
     ]
    }
   ],
   "source": [
    "print (data.shape) "
   ]
  },
  {
   "cell_type": "code",
   "execution_count": 4,
   "metadata": {},
   "outputs": [
    {
     "name": "stdout",
     "output_type": "stream",
     "text": [
      "Index(['PLAYER', 'matches_played', 'innings_batted', 'runs_scored',\n",
      "       'highest_runs', 'balls_faced', 'average_runs', 'strike_rate',\n",
      "       'innings_bowled', 'overs', 'runs_given', 'wickets_obtained',\n",
      "       'average_runs_per_wicket ', 'bowling_economy '],\n",
      "      dtype='object')\n"
     ]
    }
   ],
   "source": [
    "print(data.columns)"
   ]
  },
  {
   "cell_type": "code",
   "execution_count": 5,
   "metadata": {},
   "outputs": [
    {
     "data": {
      "text/plain": [
       "Index(['player', 'matches_played', 'innings_batted', 'runs_scored',\n",
       "       'highest_runs', 'balls_faced', 'average_runs', 'strike_rate',\n",
       "       'innings_bowled', 'overs', 'runs_given', 'wickets_obtained',\n",
       "       'average_runs_per_wicket', 'bowling_economy'],\n",
       "      dtype='object')"
      ]
     },
     "execution_count": 5,
     "metadata": {},
     "output_type": "execute_result"
    }
   ],
   "source": [
    "#Some columns have spaces stripping them\n",
    "data.columns = data.columns.str.strip().str.lower().str.replace(' ', '_')\n",
    "data.columns"
   ]
  },
  {
   "cell_type": "code",
   "execution_count": 6,
   "metadata": {},
   "outputs": [
    {
     "data": {
      "text/html": [
       "<div>\n",
       "<style scoped>\n",
       "    .dataframe tbody tr th:only-of-type {\n",
       "        vertical-align: middle;\n",
       "    }\n",
       "\n",
       "    .dataframe tbody tr th {\n",
       "        vertical-align: top;\n",
       "    }\n",
       "\n",
       "    .dataframe thead th {\n",
       "        text-align: right;\n",
       "    }\n",
       "</style>\n",
       "<table border=\"1\" class=\"dataframe\">\n",
       "  <thead>\n",
       "    <tr style=\"text-align: right;\">\n",
       "      <th></th>\n",
       "      <th>player</th>\n",
       "      <th>matches_played</th>\n",
       "      <th>innings_batted</th>\n",
       "      <th>runs_scored</th>\n",
       "      <th>highest_runs</th>\n",
       "      <th>balls_faced</th>\n",
       "      <th>average_runs</th>\n",
       "      <th>strike_rate</th>\n",
       "      <th>innings_bowled</th>\n",
       "      <th>overs</th>\n",
       "      <th>runs_given</th>\n",
       "      <th>wickets_obtained</th>\n",
       "      <th>average_runs_per_wicket</th>\n",
       "      <th>bowling_economy</th>\n",
       "    </tr>\n",
       "  </thead>\n",
       "  <tbody>\n",
       "    <tr>\n",
       "      <td>0</td>\n",
       "      <td>Aaron Finch</td>\n",
       "      <td>10</td>\n",
       "      <td>9</td>\n",
       "      <td>134</td>\n",
       "      <td>46</td>\n",
       "      <td>100</td>\n",
       "      <td>16.75</td>\n",
       "      <td>144.00</td>\n",
       "      <td>0</td>\n",
       "      <td>0.0</td>\n",
       "      <td>0</td>\n",
       "      <td>0</td>\n",
       "      <td>0.0</td>\n",
       "      <td>0.0</td>\n",
       "    </tr>\n",
       "    <tr>\n",
       "      <td>1</td>\n",
       "      <td>AB de Villiers</td>\n",
       "      <td>12</td>\n",
       "      <td>11</td>\n",
       "      <td>480</td>\n",
       "      <td>90</td>\n",
       "      <td>275</td>\n",
       "      <td>53.33</td>\n",
       "      <td>174.54</td>\n",
       "      <td>0</td>\n",
       "      <td>0.0</td>\n",
       "      <td>0</td>\n",
       "      <td>0</td>\n",
       "      <td>0.0</td>\n",
       "      <td>0.0</td>\n",
       "    </tr>\n",
       "  </tbody>\n",
       "</table>\n",
       "</div>"
      ],
      "text/plain": [
       "           player  matches_played  innings_batted  runs_scored  highest_runs  \\\n",
       "0     Aaron Finch              10               9          134            46   \n",
       "1  AB de Villiers              12              11          480            90   \n",
       "\n",
       "   balls_faced  average_runs  strike_rate  innings_bowled  overs  runs_given  \\\n",
       "0          100         16.75       144.00               0    0.0           0   \n",
       "1          275         53.33       174.54               0    0.0           0   \n",
       "\n",
       "   wickets_obtained  average_runs_per_wicket  bowling_economy  \n",
       "0                 0                      0.0              0.0  \n",
       "1                 0                      0.0              0.0  "
      ]
     },
     "execution_count": 6,
     "metadata": {},
     "output_type": "execute_result"
    }
   ],
   "source": [
    "data.head(2)"
   ]
  },
  {
   "cell_type": "code",
   "execution_count": 7,
   "metadata": {},
   "outputs": [
    {
     "name": "stdout",
     "output_type": "stream",
     "text": [
      "<class 'pandas.core.frame.DataFrame'>\n",
      "RangeIndex: 109 entries, 0 to 108\n",
      "Data columns (total 14 columns):\n",
      "player                     109 non-null object\n",
      "matches_played             109 non-null int64\n",
      "innings_batted             109 non-null int64\n",
      "runs_scored                109 non-null int64\n",
      "highest_runs               109 non-null int64\n",
      "balls_faced                109 non-null int64\n",
      "average_runs               109 non-null float64\n",
      "strike_rate                109 non-null float64\n",
      "innings_bowled             109 non-null int64\n",
      "overs                      109 non-null float64\n",
      "runs_given                 109 non-null int64\n",
      "wickets_obtained           109 non-null int64\n",
      "average_runs_per_wicket    109 non-null float64\n",
      "bowling_economy            109 non-null float64\n",
      "dtypes: float64(5), int64(8), object(1)\n",
      "memory usage: 12.0+ KB\n"
     ]
    }
   ],
   "source": [
    "data.info()"
   ]
  },
  {
   "cell_type": "code",
   "execution_count": 8,
   "metadata": {},
   "outputs": [
    {
     "data": {
      "text/html": [
       "<div>\n",
       "<style scoped>\n",
       "    .dataframe tbody tr th:only-of-type {\n",
       "        vertical-align: middle;\n",
       "    }\n",
       "\n",
       "    .dataframe tbody tr th {\n",
       "        vertical-align: top;\n",
       "    }\n",
       "\n",
       "    .dataframe thead th {\n",
       "        text-align: right;\n",
       "    }\n",
       "</style>\n",
       "<table border=\"1\" class=\"dataframe\">\n",
       "  <thead>\n",
       "    <tr style=\"text-align: right;\">\n",
       "      <th></th>\n",
       "      <th>matches_played</th>\n",
       "      <th>innings_batted</th>\n",
       "      <th>runs_scored</th>\n",
       "      <th>highest_runs</th>\n",
       "      <th>balls_faced</th>\n",
       "      <th>average_runs</th>\n",
       "      <th>strike_rate</th>\n",
       "      <th>innings_bowled</th>\n",
       "      <th>overs</th>\n",
       "      <th>runs_given</th>\n",
       "      <th>wickets_obtained</th>\n",
       "      <th>average_runs_per_wicket</th>\n",
       "      <th>bowling_economy</th>\n",
       "    </tr>\n",
       "  </thead>\n",
       "  <tbody>\n",
       "    <tr>\n",
       "      <td>count</td>\n",
       "      <td>109.000000</td>\n",
       "      <td>109.000000</td>\n",
       "      <td>109.000000</td>\n",
       "      <td>109.000000</td>\n",
       "      <td>109.000000</td>\n",
       "      <td>109.000000</td>\n",
       "      <td>109.000000</td>\n",
       "      <td>109.000000</td>\n",
       "      <td>109.000000</td>\n",
       "      <td>109.00000</td>\n",
       "      <td>109.000000</td>\n",
       "      <td>109.000000</td>\n",
       "      <td>109.000000</td>\n",
       "    </tr>\n",
       "    <tr>\n",
       "      <td>mean</td>\n",
       "      <td>9.559633</td>\n",
       "      <td>7.889908</td>\n",
       "      <td>173.633028</td>\n",
       "      <td>43.495413</td>\n",
       "      <td>124.669725</td>\n",
       "      <td>22.360092</td>\n",
       "      <td>122.258716</td>\n",
       "      <td>4.513761</td>\n",
       "      <td>13.894495</td>\n",
       "      <td>119.93578</td>\n",
       "      <td>3.926606</td>\n",
       "      <td>17.334862</td>\n",
       "      <td>5.149817</td>\n",
       "    </tr>\n",
       "    <tr>\n",
       "      <td>std</td>\n",
       "      <td>5.161164</td>\n",
       "      <td>4.982078</td>\n",
       "      <td>182.356522</td>\n",
       "      <td>29.830268</td>\n",
       "      <td>123.670265</td>\n",
       "      <td>16.093453</td>\n",
       "      <td>48.576709</td>\n",
       "      <td>5.449456</td>\n",
       "      <td>18.395495</td>\n",
       "      <td>152.80763</td>\n",
       "      <td>5.602094</td>\n",
       "      <td>21.910816</td>\n",
       "      <td>4.773435</td>\n",
       "    </tr>\n",
       "    <tr>\n",
       "      <td>min</td>\n",
       "      <td>0.000000</td>\n",
       "      <td>0.000000</td>\n",
       "      <td>0.000000</td>\n",
       "      <td>0.000000</td>\n",
       "      <td>0.000000</td>\n",
       "      <td>0.000000</td>\n",
       "      <td>0.000000</td>\n",
       "      <td>0.000000</td>\n",
       "      <td>0.000000</td>\n",
       "      <td>0.00000</td>\n",
       "      <td>0.000000</td>\n",
       "      <td>-0.000000</td>\n",
       "      <td>0.000000</td>\n",
       "    </tr>\n",
       "    <tr>\n",
       "      <td>25%</td>\n",
       "      <td>5.000000</td>\n",
       "      <td>4.000000</td>\n",
       "      <td>36.000000</td>\n",
       "      <td>20.000000</td>\n",
       "      <td>33.000000</td>\n",
       "      <td>11.800000</td>\n",
       "      <td>109.090000</td>\n",
       "      <td>0.000000</td>\n",
       "      <td>0.000000</td>\n",
       "      <td>0.00000</td>\n",
       "      <td>0.000000</td>\n",
       "      <td>0.000000</td>\n",
       "      <td>0.000000</td>\n",
       "    </tr>\n",
       "    <tr>\n",
       "      <td>50%</td>\n",
       "      <td>10.000000</td>\n",
       "      <td>7.000000</td>\n",
       "      <td>99.000000</td>\n",
       "      <td>40.000000</td>\n",
       "      <td>76.000000</td>\n",
       "      <td>21.160000</td>\n",
       "      <td>130.260000</td>\n",
       "      <td>2.000000</td>\n",
       "      <td>3.000000</td>\n",
       "      <td>27.00000</td>\n",
       "      <td>0.000000</td>\n",
       "      <td>0.000000</td>\n",
       "      <td>7.280000</td>\n",
       "    </tr>\n",
       "    <tr>\n",
       "      <td>75%</td>\n",
       "      <td>14.000000</td>\n",
       "      <td>13.000000</td>\n",
       "      <td>260.000000</td>\n",
       "      <td>62.000000</td>\n",
       "      <td>188.000000</td>\n",
       "      <td>30.000000</td>\n",
       "      <td>146.040000</td>\n",
       "      <td>8.000000</td>\n",
       "      <td>26.000000</td>\n",
       "      <td>223.00000</td>\n",
       "      <td>6.000000</td>\n",
       "      <td>28.360000</td>\n",
       "      <td>9.230000</td>\n",
       "    </tr>\n",
       "    <tr>\n",
       "      <td>max</td>\n",
       "      <td>17.000000</td>\n",
       "      <td>17.000000</td>\n",
       "      <td>735.000000</td>\n",
       "      <td>128.000000</td>\n",
       "      <td>516.000000</td>\n",
       "      <td>75.830000</td>\n",
       "      <td>300.000000</td>\n",
       "      <td>17.000000</td>\n",
       "      <td>68.000000</td>\n",
       "      <td>533.00000</td>\n",
       "      <td>24.000000</td>\n",
       "      <td>108.000000</td>\n",
       "      <td>16.500000</td>\n",
       "    </tr>\n",
       "  </tbody>\n",
       "</table>\n",
       "</div>"
      ],
      "text/plain": [
       "       matches_played  innings_batted  runs_scored  highest_runs  balls_faced  \\\n",
       "count      109.000000      109.000000   109.000000    109.000000   109.000000   \n",
       "mean         9.559633        7.889908   173.633028     43.495413   124.669725   \n",
       "std          5.161164        4.982078   182.356522     29.830268   123.670265   \n",
       "min          0.000000        0.000000     0.000000      0.000000     0.000000   \n",
       "25%          5.000000        4.000000    36.000000     20.000000    33.000000   \n",
       "50%         10.000000        7.000000    99.000000     40.000000    76.000000   \n",
       "75%         14.000000       13.000000   260.000000     62.000000   188.000000   \n",
       "max         17.000000       17.000000   735.000000    128.000000   516.000000   \n",
       "\n",
       "       average_runs  strike_rate  innings_bowled       overs  runs_given  \\\n",
       "count    109.000000   109.000000      109.000000  109.000000   109.00000   \n",
       "mean      22.360092   122.258716        4.513761   13.894495   119.93578   \n",
       "std       16.093453    48.576709        5.449456   18.395495   152.80763   \n",
       "min        0.000000     0.000000        0.000000    0.000000     0.00000   \n",
       "25%       11.800000   109.090000        0.000000    0.000000     0.00000   \n",
       "50%       21.160000   130.260000        2.000000    3.000000    27.00000   \n",
       "75%       30.000000   146.040000        8.000000   26.000000   223.00000   \n",
       "max       75.830000   300.000000       17.000000   68.000000   533.00000   \n",
       "\n",
       "       wickets_obtained  average_runs_per_wicket  bowling_economy  \n",
       "count        109.000000               109.000000       109.000000  \n",
       "mean           3.926606                17.334862         5.149817  \n",
       "std            5.602094                21.910816         4.773435  \n",
       "min            0.000000                -0.000000         0.000000  \n",
       "25%            0.000000                 0.000000         0.000000  \n",
       "50%            0.000000                 0.000000         7.280000  \n",
       "75%            6.000000                28.360000         9.230000  \n",
       "max           24.000000               108.000000        16.500000  "
      ]
     },
     "execution_count": 8,
     "metadata": {},
     "output_type": "execute_result"
    }
   ],
   "source": [
    "data.describe()"
   ]
  },
  {
   "cell_type": "markdown",
   "metadata": {},
   "source": [
    "# 1. Given that K-means depends on distance metric, it is a convention to normalize the data attributes so that attributes are on the same scale. So, in this first task, normalize all data attributes.\n"
   ]
  },
  {
   "cell_type": "code",
   "execution_count": 9,
   "metadata": {},
   "outputs": [],
   "source": [
    "from sklearn.preprocessing import MinMaxScaler\n",
    "minmax_scale = MinMaxScaler().fit(data.iloc[:,1:])\n",
    "data.iloc[:,1:] = minmax_scale.transform(data.iloc[:,1:])"
   ]
  },
  {
   "cell_type": "code",
   "execution_count": 10,
   "metadata": {},
   "outputs": [
    {
     "data": {
      "text/html": [
       "<div>\n",
       "<style scoped>\n",
       "    .dataframe tbody tr th:only-of-type {\n",
       "        vertical-align: middle;\n",
       "    }\n",
       "\n",
       "    .dataframe tbody tr th {\n",
       "        vertical-align: top;\n",
       "    }\n",
       "\n",
       "    .dataframe thead th {\n",
       "        text-align: right;\n",
       "    }\n",
       "</style>\n",
       "<table border=\"1\" class=\"dataframe\">\n",
       "  <thead>\n",
       "    <tr style=\"text-align: right;\">\n",
       "      <th></th>\n",
       "      <th>player</th>\n",
       "      <th>matches_played</th>\n",
       "      <th>innings_batted</th>\n",
       "      <th>runs_scored</th>\n",
       "      <th>highest_runs</th>\n",
       "      <th>balls_faced</th>\n",
       "      <th>average_runs</th>\n",
       "      <th>strike_rate</th>\n",
       "      <th>innings_bowled</th>\n",
       "      <th>overs</th>\n",
       "      <th>runs_given</th>\n",
       "      <th>wickets_obtained</th>\n",
       "      <th>average_runs_per_wicket</th>\n",
       "      <th>bowling_economy</th>\n",
       "    </tr>\n",
       "  </thead>\n",
       "  <tbody>\n",
       "    <tr>\n",
       "      <td>0</td>\n",
       "      <td>Aaron Finch</td>\n",
       "      <td>0.588235</td>\n",
       "      <td>0.529412</td>\n",
       "      <td>0.182313</td>\n",
       "      <td>0.359375</td>\n",
       "      <td>0.193798</td>\n",
       "      <td>0.220889</td>\n",
       "      <td>0.4800</td>\n",
       "      <td>0.0</td>\n",
       "      <td>0.0</td>\n",
       "      <td>0.0</td>\n",
       "      <td>0.0</td>\n",
       "      <td>0.0</td>\n",
       "      <td>0.0</td>\n",
       "    </tr>\n",
       "    <tr>\n",
       "      <td>1</td>\n",
       "      <td>AB de Villiers</td>\n",
       "      <td>0.705882</td>\n",
       "      <td>0.647059</td>\n",
       "      <td>0.653061</td>\n",
       "      <td>0.703125</td>\n",
       "      <td>0.532946</td>\n",
       "      <td>0.703284</td>\n",
       "      <td>0.5818</td>\n",
       "      <td>0.0</td>\n",
       "      <td>0.0</td>\n",
       "      <td>0.0</td>\n",
       "      <td>0.0</td>\n",
       "      <td>0.0</td>\n",
       "      <td>0.0</td>\n",
       "    </tr>\n",
       "  </tbody>\n",
       "</table>\n",
       "</div>"
      ],
      "text/plain": [
       "           player  matches_played  innings_batted  runs_scored  highest_runs  \\\n",
       "0     Aaron Finch        0.588235        0.529412     0.182313      0.359375   \n",
       "1  AB de Villiers        0.705882        0.647059     0.653061      0.703125   \n",
       "\n",
       "   balls_faced  average_runs  strike_rate  innings_bowled  overs  runs_given  \\\n",
       "0     0.193798      0.220889       0.4800             0.0    0.0         0.0   \n",
       "1     0.532946      0.703284       0.5818             0.0    0.0         0.0   \n",
       "\n",
       "   wickets_obtained  average_runs_per_wicket  bowling_economy  \n",
       "0               0.0                      0.0              0.0  \n",
       "1               0.0                      0.0              0.0  "
      ]
     },
     "execution_count": 10,
     "metadata": {},
     "output_type": "execute_result"
    }
   ],
   "source": [
    "data.head(2)"
   ]
  },
  {
   "cell_type": "markdown",
   "metadata": {},
   "source": [
    "# 2. Write your own code for K-means algorithm using two attributes namely average_runs and bowling_economy. Take K=2. Plot clusters on a scatter plot with X and Y being the two attributes namely average_runs and bowling_economy, respectively. Color data points belonging to the first cluster with red and the second cluster with blue. Copy the plot diagram in the word document and interpret the output."
   ]
  },
  {
   "cell_type": "code",
   "execution_count": 11,
   "metadata": {},
   "outputs": [],
   "source": [
    "from sklearn.metrics import pairwise_distances\n",
    "class Kmeans:\n",
    "    \n",
    "    def __init__(self, k, max_iter = 200):\n",
    "        self.k = k\n",
    "        self.max_iter = max_iter       \n",
    "    \n",
    "    def initialise_centroids(self, data):\n",
    "        self.centroids=data.sample(self.k)\n",
    "        return self.centroids\n",
    "    \n",
    "    \n",
    "    def assign_clusters(self, data):\n",
    "        \"\"\"Compute distance of data from clusters and assign data point\n",
    "           to closest cluster.\"\"\" \n",
    "        \n",
    "        if data.ndim == 1:\n",
    "            data = data.reshape(-1, 1)\n",
    "        \n",
    "        dist_to_centroid =  pairwise_distances(data, self.centroids, metric = 'euclidean')\n",
    "        self.cluster_labels = np.argmin(dist_to_centroid, axis = 1)\n",
    "        \n",
    "        return  self.cluster_labels\n",
    "    \n",
    "    \n",
    "    def update_centroids(self, data):\n",
    "        \"\"\"Computes average of all data points in cluster and\n",
    "           assigns new centroids as average of data points\"\"\" \n",
    "        \n",
    "        self.centroids = np.array([data[self.cluster_labels == i].mean(axis = 0) for i in range(self.k)])\n",
    "        \n",
    "        return self.centroids\n",
    "\n",
    "    \n",
    "    def predict(self, data):\n",
    "        \n",
    "        return self.assign_clusters(data)\n",
    "    \n",
    "    def fit_kmeans(self, data):\n",
    "        \n",
    "        self.centroids = self.initialise_centroids(data)\n",
    "        \n",
    "        # Main kmeans loop\n",
    "        for iter in range(self.max_iter):\n",
    "\n",
    "            self.cluster_labels = self.assign_clusters(data)\n",
    "            self.centroids = self.update_centroids(data)          \n",
    "            if iter % 100 == 0:\n",
    "                print(\"Running Model Iteration %d \" %iter)\n",
    "        print(\"Model finished running\")\n",
    "        return self   "
   ]
  },
  {
   "cell_type": "code",
   "execution_count": 12,
   "metadata": {},
   "outputs": [
    {
     "data": {
      "text/html": [
       "<div>\n",
       "<style scoped>\n",
       "    .dataframe tbody tr th:only-of-type {\n",
       "        vertical-align: middle;\n",
       "    }\n",
       "\n",
       "    .dataframe tbody tr th {\n",
       "        vertical-align: top;\n",
       "    }\n",
       "\n",
       "    .dataframe thead th {\n",
       "        text-align: right;\n",
       "    }\n",
       "</style>\n",
       "<table border=\"1\" class=\"dataframe\">\n",
       "  <thead>\n",
       "    <tr style=\"text-align: right;\">\n",
       "      <th></th>\n",
       "      <th>average_runs</th>\n",
       "      <th>bowling_economy</th>\n",
       "    </tr>\n",
       "  </thead>\n",
       "  <tbody>\n",
       "    <tr>\n",
       "      <td>0</td>\n",
       "      <td>0.220889</td>\n",
       "      <td>0.0</td>\n",
       "    </tr>\n",
       "    <tr>\n",
       "      <td>1</td>\n",
       "      <td>0.703284</td>\n",
       "      <td>0.0</td>\n",
       "    </tr>\n",
       "    <tr>\n",
       "      <td>2</td>\n",
       "      <td>0.830806</td>\n",
       "      <td>0.0</td>\n",
       "    </tr>\n",
       "    <tr>\n",
       "      <td>3</td>\n",
       "      <td>0.375313</td>\n",
       "      <td>0.0</td>\n",
       "    </tr>\n",
       "    <tr>\n",
       "      <td>4</td>\n",
       "      <td>0.325201</td>\n",
       "      <td>0.0</td>\n",
       "    </tr>\n",
       "  </tbody>\n",
       "</table>\n",
       "</div>"
      ],
      "text/plain": [
       "   average_runs  bowling_economy\n",
       "0      0.220889              0.0\n",
       "1      0.703284              0.0\n",
       "2      0.830806              0.0\n",
       "3      0.375313              0.0\n",
       "4      0.325201              0.0"
      ]
     },
     "execution_count": 12,
     "metadata": {},
     "output_type": "execute_result"
    }
   ],
   "source": [
    "df = data[['average_runs','bowling_economy']]\n",
    "df.head()\n"
   ]
  },
  {
   "cell_type": "code",
   "execution_count": 13,
   "metadata": {},
   "outputs": [
    {
     "name": "stdout",
     "output_type": "stream",
     "text": [
      "Running Model Iteration 0 \n",
      "Running Model Iteration 100 \n",
      "Running Model Iteration 200 \n",
      "Running Model Iteration 300 \n",
      "Running Model Iteration 400 \n",
      "Running Model Iteration 500 \n",
      "Model finished running\n"
     ]
    }
   ],
   "source": [
    "kmeans_obj=Kmeans(2,600)\n",
    "kmeans_obj.fit_kmeans(df)\n",
    "P=kmeans_obj.predict(df)"
   ]
  },
  {
   "cell_type": "code",
   "execution_count": 14,
   "metadata": {},
   "outputs": [
    {
     "name": "stdout",
     "output_type": "stream",
     "text": [
      "[[0.40266605 0.        ]\n",
      " [0.21004923 0.55770492]]\n"
     ]
    }
   ],
   "source": [
    "print(kmeans_obj.centroids)"
   ]
  },
  {
   "cell_type": "code",
   "execution_count": 15,
   "metadata": {},
   "outputs": [
    {
     "data": {
      "image/png": "[encoded data removed]",
      "text/plain": [
       "<Figure size 864x720 with 1 Axes>"
      ]
     },
     "metadata": {
      "needs_background": "light"
     },
     "output_type": "display_data"
    }
   ],
   "source": [
    "from matplotlib.colors import ListedColormap\n",
    "classes = ['Cluster 1', 'Cluster 2']\n",
    "colours = ListedColormap(['red','blue'])\n",
    "plt.figure(figsize=(12,10))\n",
    "ax=plt.scatter(df['average_runs'],df['bowling_economy'],c=P,cmap=colours)\n",
    "plt.scatter(kmeans_obj.centroids[:,0] ,kmeans_obj.centroids[:,1], color='brown')\n",
    "plt.xlabel(\"Average Runs\")\n",
    "plt.ylabel(\"Bowling Economy\")\n",
    "plt.legend(handles=ax.legend_elements()[0], labels=classes)\n",
    "plt.show()"
   ]
  },
  {
   "cell_type": "markdown",
   "metadata": {},
   "source": [
    "# 3. Redo question-2 on different values of K = 2,3,4,5. For each case, draw the plot of clusters as stated above. Visualize these plots, copy the plot diagrams in the word document, and comment on which is better clustering (and reasons) based on visualization only.\n"
   ]
  },
  {
   "cell_type": "markdown",
   "metadata": {},
   "source": [
    "###### K=2"
   ]
  },
  {
   "cell_type": "code",
   "execution_count": 16,
   "metadata": {},
   "outputs": [
    {
     "data": {
      "image/png": "[encoded data removed]",
      "text/plain": [
       "<Figure size 864x720 with 1 Axes>"
      ]
     },
     "metadata": {
      "needs_background": "light"
     },
     "output_type": "display_data"
    }
   ],
   "source": [
    "classes = ['Cluster 1', 'Cluster 2']\n",
    "colours = ListedColormap(['red','blue'])\n",
    "plt.figure(figsize=(12,10))\n",
    "ax=plt.scatter(df['average_runs'],df['bowling_economy'],c=P,cmap=colours)\n",
    "plt.scatter(kmeans_obj.centroids[:,0] ,kmeans_obj.centroids[:,1], color='brown')\n",
    "plt.xlabel(\"Average Runs\")\n",
    "plt.ylabel(\"Bowling Economy\")\n",
    "plt.legend(handles=ax.legend_elements()[0], labels=classes)\n",
    "plt.show()"
   ]
  },
  {
   "cell_type": "markdown",
   "metadata": {},
   "source": [
    "###### K=3"
   ]
  },
  {
   "cell_type": "code",
   "execution_count": 17,
   "metadata": {},
   "outputs": [
    {
     "name": "stdout",
     "output_type": "stream",
     "text": [
      "Running Model Iteration 0 \n",
      "Running Model Iteration 100 \n",
      "Running Model Iteration 200 \n",
      "Running Model Iteration 300 \n",
      "Running Model Iteration 400 \n",
      "Running Model Iteration 500 \n",
      "Model finished running\n"
     ]
    },
    {
     "data": {
      "image/png": "[encoded data removed]",
      "text/plain": [
       "<Figure size 864x720 with 1 Axes>"
      ]
     },
     "metadata": {
      "needs_background": "light"
     },
     "output_type": "display_data"
    }
   ],
   "source": [
    "kmeans_obj=Kmeans(3,600)\n",
    "kmeans_obj.fit_kmeans(df)\n",
    "P=kmeans_obj.predict(df)\n",
    "\n",
    "classes = ['Cluster 1', 'Cluster 2','Cluster 3']\n",
    "colours = ListedColormap(['red','blue','green'])\n",
    "plt.figure(figsize=(12,10))\n",
    "ax=plt.scatter(df['average_runs'],df['bowling_economy'],c=P,cmap=colours)\n",
    "plt.scatter(kmeans_obj.centroids[:,0] ,kmeans_obj.centroids[:,1], color='yellow')\n",
    "plt.xlabel(\"Average Runs\")\n",
    "plt.ylabel(\"Bowling Economy\")\n",
    "plt.legend(handles=ax.legend_elements()[0], labels=classes)\n",
    "plt.show()"
   ]
  },
  {
   "cell_type": "markdown",
   "metadata": {},
   "source": [
    "###### K=4"
   ]
  },
  {
   "cell_type": "code",
   "execution_count": 18,
   "metadata": {},
   "outputs": [
    {
     "name": "stdout",
     "output_type": "stream",
     "text": [
      "Running Model Iteration 0 \n",
      "Running Model Iteration 100 \n",
      "Running Model Iteration 200 \n",
      "Running Model Iteration 300 \n",
      "Running Model Iteration 400 \n",
      "Running Model Iteration 500 \n",
      "Running Model Iteration 600 \n",
      "Running Model Iteration 700 \n",
      "Running Model Iteration 800 \n",
      "Running Model Iteration 900 \n",
      "Model finished running\n"
     ]
    },
    {
     "data": {
      "image/png": "[encoded data removed]",
      "text/plain": [
       "<Figure size 864x720 with 1 Axes>"
      ]
     },
     "metadata": {
      "needs_background": "light"
     },
     "output_type": "display_data"
    }
   ],
   "source": [
    "kmeans_obj=Kmeans(4,1000)\n",
    "kmeans_obj.fit_kmeans(df)\n",
    "P=kmeans_obj.predict(df)\n",
    "\n",
    "classes = ['Cluster 1', 'Cluster 2','Cluster 3','Cluster 4']\n",
    "colours = ListedColormap(['red','blue','green','brown'])\n",
    "plt.figure(figsize=(12,10))\n",
    "ax=plt.scatter(df['average_runs'],df['bowling_economy'],c=P,cmap=colours)\n",
    "plt.scatter(kmeans_obj.centroids[:,0] ,kmeans_obj.centroids[:,1], color='yellow')\n",
    "plt.xlabel(\"Average Runs\")\n",
    "plt.ylabel(\"Bowling Economy\")\n",
    "plt.legend(handles=ax.legend_elements()[0], labels=classes)\n",
    "plt.show()"
   ]
  },
  {
   "cell_type": "markdown",
   "metadata": {},
   "source": [
    "###### K=5"
   ]
  },
  {
   "cell_type": "code",
   "execution_count": 19,
   "metadata": {},
   "outputs": [
    {
     "name": "stdout",
     "output_type": "stream",
     "text": [
      "Running Model Iteration 0 \n",
      "Running Model Iteration 100 \n",
      "Running Model Iteration 200 \n",
      "Running Model Iteration 300 \n",
      "Running Model Iteration 400 \n",
      "Running Model Iteration 500 \n",
      "Running Model Iteration 600 \n",
      "Running Model Iteration 700 \n",
      "Running Model Iteration 800 \n",
      "Running Model Iteration 900 \n",
      "Model finished running\n"
     ]
    },
    {
     "data": {
      "image/png": "[encoded data removed]",
      "text/plain": [
       "<Figure size 864x720 with 1 Axes>"
      ]
     },
     "metadata": {
      "needs_background": "light"
     },
     "output_type": "display_data"
    }
   ],
   "source": [
    "kmeans_obj=Kmeans(5,1000)\n",
    "kmeans_obj.fit_kmeans(df)\n",
    "P=kmeans_obj.predict(df)\n",
    "\n",
    "classes = ['Cluster 1', 'Cluster 2','Cluster 3','Cluster 4','Cluster 5']\n",
    "colours = ListedColormap(['red','blue','green','brown','cyan'])\n",
    "plt.figure(figsize=(12,10))\n",
    "ax=plt.scatter(df['average_runs'],df['bowling_economy'],c=P,cmap=colours)\n",
    "plt.scatter(kmeans_obj.centroids[:,0] ,kmeans_obj.centroids[:,1], color='yellow')\n",
    "plt.xlabel(\"Average Runs\")\n",
    "plt.ylabel(\"Bowling Economy\")\n",
    "plt.legend(handles=ax.legend_elements()[0], labels=classes)\n",
    "plt.show()"
   ]
  },
  {
   "cell_type": "markdown",
   "metadata": {},
   "source": [
    "# COMPLETED"
   ]
  },
  {
   "cell_type": "code",
   "execution_count": null,
   "metadata": {},
   "outputs": [],
   "source": []
  }
 ],
 "metadata": {
  "kernelspec": {
   "display_name": "Python 3",
   "language": "python",
   "name": "python3"
  },
  "language_info": {
   "codemirror_mode": {
    "name": "ipython",
    "version": 3
   },
   "file_extension": ".py",
   "mimetype": "text/x-python",
   "name": "python",
   "nbconvert_exporter": "python",
   "pygments_lexer": "ipython3",
   "version": "3.7.4"
  }
 },
 "nbformat": 4,
 "nbformat_minor": 2
}
