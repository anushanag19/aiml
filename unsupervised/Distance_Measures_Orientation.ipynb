{
 "cells": [
  {
   "cell_type": "markdown",
   "metadata": {
    "slideshow": {
     "slide_type": "slide"
    }
   },
   "source": [
    "![lab1](lab1.png)"
   ]
  },
  {
   "cell_type": "markdown",
   "metadata": {
    "colab_type": "text",
    "id": "7ZQqV1WNVNCQ",
    "slideshow": {
     "slide_type": "slide"
    }
   },
   "source": [
    "\n",
    "# Distance Measure \n",
    "\n",
    "What is Distance measures ? \n",
    "\n",
    "The choice of distance measures is a critical step in clustering. It defines how the similarity of two elements (x, y) is calculated and it will influence the shape of the clusters."
   ]
  },
  {
   "cell_type": "markdown",
   "metadata": {
    "colab_type": "text",
    "id": "id4d9Y8UVNCf",
    "slideshow": {
     "slide_type": "slide"
    }
   },
   "source": [
    "## 1. Necessary Imports and Data Points "
   ]
  },
  {
   "cell_type": "code",
   "execution_count": 1,
   "metadata": {
    "colab": {},
    "colab_type": "code",
    "id": "BCum6hS4VNCy",
    "outputId": "89fbc252-3211-41e9-958c-3516f6e13939",
    "slideshow": {
     "slide_type": "subslide"
    }
   },
   "outputs": [
    {
     "name": "stdout",
     "output_type": "stream",
     "text": [
      "\n",
      " The Vectors\n",
      "------------------------\n",
      "(-0.18, 5, -0.4, -0.26, 0.53, -0.66, 0.1, 2, -0.2, 1)\n",
      "(0.22, -3, 1.64, -1.38, 0.08, 0.42, 1.24, 5, -0.34, 0)\n"
     ]
    }
   ],
   "source": [
    "# 1.1 Import the Distance \n",
    "from scipy.spatial import distance\n",
    "\n",
    "# 1.2 Define two vectors \n",
    "A = (-0.18,5,-0.40,-0.26,0.53,-0.66,0.10,2,-0.20,1)\n",
    "B = (0.22,-3,1.64,-1.38,0.08,0.42,1.24,5,-0.34,0)\n",
    "\n",
    "# 1.3 Print them\n",
    "print ('\\n The Vectors')\n",
    "print ('------------------------')\n",
    "print (A)\n",
    "print (B)"
   ]
  },
  {
   "cell_type": "markdown",
   "metadata": {
    "colab_type": "text",
    "id": "R_IO57jLVNDN",
    "slideshow": {
     "slide_type": "slide"
    }
   },
   "source": [
    "## 2. Metrics intended for real-valued vector spaces:"
   ]
  },
  {
   "cell_type": "markdown",
   "metadata": {
    "colab_type": "text",
    "id": "P68rx4QIVNDZ",
    "slideshow": {
     "slide_type": "slide"
    }
   },
   "source": [
    "<h3>2.1 Euclidean Distance</h3>"
   ]
  },
  {
   "cell_type": "markdown",
   "metadata": {
    "colab_type": "raw",
    "id": "65_TB4GHVNDb",
    "slideshow": {
     "slide_type": "subslide"
    }
   },
   "source": [
    "The Euclidean distance between two data points involves computing the square root of the sum of the squares of the differences between corresponding values.\n",
    "![euclidean](euclidean.png)"
   ]
  },
  {
   "cell_type": "code",
   "execution_count": 2,
   "metadata": {
    "colab": {},
    "colab_type": "code",
    "id": "6DBnyQp6VNDj",
    "outputId": "74406628-7c38-4881-c873-2e9113131871",
    "slideshow": {
     "slide_type": "subslide"
    }
   },
   "outputs": [
    {
     "name": "stdout",
     "output_type": "stream",
     "text": [
      "\n",
      "Distance measurements - Euclidean on A and B\n",
      "-------------------------------------------------\n",
      "Euclidean distance is 9.069955898459485\n"
     ]
    }
   ],
   "source": [
    "# Apply Euclidean Distance\n",
    "print ('\\nDistance measurements - Euclidean on A and B')\n",
    "print ('-------------------------------------------------')\n",
    "print ('Euclidean distance is', distance.euclidean(A, B)) # euclidean() is used to calculate euclidean distance"
   ]
  },
  {
   "cell_type": "markdown",
   "metadata": {
    "colab_type": "text",
    "id": "mie1iCqNVND7",
    "slideshow": {
     "slide_type": "slide"
    }
   },
   "source": [
    "<h3>2.2 Manhattan Distance</h3>"
   ]
  },
  {
   "cell_type": "markdown",
   "metadata": {
    "colab_type": "raw",
    "id": "fBhho1TXVNEA",
    "slideshow": {
     "slide_type": "subslide"
    }
   },
   "source": [
    "Manhattan distances a distance that follows a route along the non-hypotenuse sides of a triangle. The name refers to the grid-like layout of most American cities which makes it impossible to go directly between two points. This metric is less affected by outliers than the Euclidean and squared Euclidean metries.\n",
    "\n",
    "![manhattan](manhattan.png)"
   ]
  },
  {
   "cell_type": "code",
   "execution_count": 3,
   "metadata": {
    "colab": {},
    "colab_type": "code",
    "id": "I2DcTlOZVNEI",
    "outputId": "7bdc677d-08cd-4859-fb2e-de35675637ca",
    "slideshow": {
     "slide_type": "subslide"
    }
   },
   "outputs": [
    {
     "name": "stdout",
     "output_type": "stream",
     "text": [
      "\n",
      "Distance measurements - Manhattan on A and B\n",
      "-------------------------------------------------\n",
      "Manhattan distance is 18.37\n"
     ]
    }
   ],
   "source": [
    "# Apply Manhattan Distance\n",
    "print ('\\nDistance measurements - Manhattan on A and B')\n",
    "print ('-------------------------------------------------')\n",
    "print ('Manhattan distance is', distance.cityblock(A, B)) # cityblock() is used to calculate Manhatten distance"
   ]
  },
  {
   "cell_type": "markdown",
   "metadata": {
    "colab_type": "text",
    "id": "cpcHa5TaVNEW",
    "slideshow": {
     "slide_type": "slide"
    }
   },
   "source": [
    "<h3>2.3 Chebyshev Distance</h3>"
   ]
  },
  {
   "cell_type": "markdown",
   "metadata": {
    "colab_type": "text",
    "id": "0YJZ6vXKVNEb",
    "slideshow": {
     "slide_type": "subslide"
    }
   },
   "source": [
    "Chebyshev distance or (Tchebyshev distance) is a metric defined on a vector space where the distance between two vectors is the greatest of their differences along any coordinate dimension.\n",
    "\n",
    "![chebyshev](chebyshev.png)"
   ]
  },
  {
   "cell_type": "code",
   "execution_count": 4,
   "metadata": {
    "colab": {},
    "colab_type": "code",
    "id": "Z9AbhJPaVNEe",
    "outputId": "f7cc50b7-b3e7-42e7-b004-11cebe359310",
    "slideshow": {
     "slide_type": "subslide"
    }
   },
   "outputs": [
    {
     "name": "stdout",
     "output_type": "stream",
     "text": [
      "\n",
      "Distance measurements - Chebyshev on A and B\n",
      "-------------------------------------------------\n",
      "Chebyshev distance is 8.0\n"
     ]
    }
   ],
   "source": [
    "# Apply Chebyshev Distance\n",
    "print ('\\nDistance measurements - Chebyshev on A and B')\n",
    "print ('-------------------------------------------------')\n",
    "print ('Chebyshev distance is', distance.chebyshev(A, B)) # chebyshev() is used to calculate Chebyshev distance"
   ]
  },
  {
   "cell_type": "markdown",
   "metadata": {
    "colab_type": "text",
    "id": "v0SWEKccVNE9",
    "slideshow": {
     "slide_type": "slide"
    }
   },
   "source": [
    "<h3>2.4 Minkowski Distance</h3>"
   ]
  },
  {
   "cell_type": "markdown",
   "metadata": {
    "colab_type": "raw",
    "id": "E8qMS7NJVNE_",
    "slideshow": {
     "slide_type": "subslide"
    }
   },
   "source": [
    "Minkowski distance is a distance/ similarity measurement between two points in the normed vector space (N dimensional real space) and is a generalization of the Euclidean, Manhattan and Chebyshev distance.\n",
    "\n",
    "1. Manhattan distance from Minkowski distance\n",
    "When p = 1, Minkowshi distance is same as Manhattan distance.\n",
    "\n",
    "2. Euclidean distance from Minkowski distance : \n",
    "When p = 2, Minkowshi distance is same as Euclidean distance.\n",
    "\n",
    "3. Chebyshev distance from Minkowski distance : \n",
    "When p = inf., Minkowshi distance is same as Chebyshev distance.\n",
    "\n",
    "![monkowski](minkowski.png)"
   ]
  },
  {
   "cell_type": "code",
   "execution_count": 6,
   "metadata": {
    "colab": {},
    "colab_type": "code",
    "id": "rXfmANZyVNFD",
    "outputId": "047df7f8-d62f-4c90-d458-1f2ff00b232f",
    "slideshow": {
     "slide_type": "subslide"
    }
   },
   "outputs": [
    {
     "name": "stdout",
     "output_type": "stream",
     "text": [
      "\n",
      "Distance measurements - Minkowski on A and B\n",
      "-------------------------------------------------\n",
      "Minkowski distance is 9.069955898459485\n"
     ]
    }
   ],
   "source": [
    "# Apply Minkowski Distance\n",
    "print ('\\nDistance measurements - Minkowski on A and B')\n",
    "print ('-------------------------------------------------')\n",
    "print ('Minkowski distance is', distance.minkowski(A, B))  # minkowski() is used to calculate minkowski distance"
   ]
  },
  {
   "cell_type": "markdown",
   "metadata": {
    "slideshow": {
     "slide_type": "slide"
    }
   },
   "source": [
    "### 2.5 Mahalanobis Distance"
   ]
  },
  {
   "cell_type": "markdown",
   "metadata": {
    "slideshow": {
     "slide_type": "subslide"
    }
   },
   "source": [
    "Mahalanobis Distance is used for calculating the distance between two data points in a multivariate space. The Mahalanobis distance is a measure of the distance between a point P and a distribution D. The idea of measuring is, how many standard deviations away P is from the mean of D. The benefit of using mahalanobis distance is, it takes covariance in account which helps in measuring the strength/similarity between two different data objects. The distance between an observation and the mean can be calculated as\n",
    "\n",
    "![mahalanobis1](mahalanobis1.png)\n",
    "\n",
    "As you can see in the case below, how euclidean distance fails determining outliers.\n",
    "![mahalanobis2](mahalanobis2.png)"
   ]
  },
  {
   "cell_type": "code",
   "execution_count": 18,
   "metadata": {
    "slideshow": {
     "slide_type": "subslide"
    }
   },
   "outputs": [
    {
     "name": "stdout",
     "output_type": "stream",
     "text": [
      "\n",
      "Distance measurements - Mahalanobis on A and B\n",
      "-------------------------------------------------\n",
      "Minkowski distance is 10.889130732319325\n"
     ]
    }
   ],
   "source": [
    "# Apply Mahalanobis Distance\n",
    "print ('\\nDistance measurements - Mahalanobis on A and B')\n",
    "print ('-------------------------------------------------')\n",
    "iv = np.random.randn(10,10) + 3.0\n",
    "print ('Minkowski distance is', distance.mahalanobis(A, B, iv))  # mahalanobis() is used to calculate mahalanobis distance"
   ]
  },
  {
   "cell_type": "markdown",
   "metadata": {
    "colab_type": "text",
    "id": "i-BtG9egVNEo",
    "slideshow": {
     "slide_type": "slide"
    }
   },
   "source": [
    "<h3>2.6 Canberra Distance</h3>"
   ]
  },
  {
   "cell_type": "markdown",
   "metadata": {
    "colab_type": "raw",
    "id": "ROTuqnPgVNEv",
    "slideshow": {
     "slide_type": "subslide"
    }
   },
   "source": [
    "Canberra distance examines the sum of series of a fraction difference between coordinates of a pair of objects. Each term of fraction difference has value between 0 and 1. If one of the coordinate is zero, the term becomes unity regardless of the other value. If both coordinates are zeros, the distance need to be defined as (0/0=0). Otherwise, the distance will take infinite value. This distance is very sensitive to a small change when both coordinates are near to zero. \n",
    "\n",
    "![canberra1](canberra1.png)\n",
    "![canberra1](canberra2.png)"
   ]
  },
  {
   "cell_type": "code",
   "execution_count": 5,
   "metadata": {
    "colab": {},
    "colab_type": "code",
    "id": "wrQxTyWhVNEy",
    "outputId": "b4b2a1ef-08d7-481d-f496-342462946845",
    "slideshow": {
     "slide_type": "subslide"
    }
   },
   "outputs": [
    {
     "name": "stdout",
     "output_type": "stream",
     "text": [
      "\n",
      "Distance measurements - Canberra on A and B\n",
      "-------------------------------------------------\n",
      "Canberra distance is 7.959208703788484\n"
     ]
    }
   ],
   "source": [
    "# Apply canberra Distance\n",
    "print ('\\nDistance measurements - Canberra on A and B')\n",
    "print ('-------------------------------------------------')\n",
    "print ('Canberra distance is', distance.canberra(A, B))  # canberra() is used to calculate Canberra distance"
   ]
  },
  {
   "cell_type": "markdown",
   "metadata": {
    "colab_type": "text",
    "id": "aZPSmxaRVNFW",
    "slideshow": {
     "slide_type": "slide"
    }
   },
   "source": [
    "<h3>2.7 Cosine Distance</h3>"
   ]
  },
  {
   "cell_type": "markdown",
   "metadata": {
    "colab_type": "raw",
    "id": "g0Apnk6hVNFZ",
    "slideshow": {
     "slide_type": "subslide"
    }
   },
   "source": [
    "Cosine distance/similarity is a measure of similarity between two non-zero vectors of an inner product space that measures the cosine of the angle between them. The cosine of 0° is 1, and it is less than 1 for any angle in the interval (0,π] radians.\n",
    "\n",
    "![cosine1](cosine1.png)\n",
    "\n",
    "![cosine2](cosine2.png)"
   ]
  },
  {
   "cell_type": "code",
   "execution_count": 7,
   "metadata": {
    "colab": {},
    "colab_type": "code",
    "id": "dMFOnxsPVNFe",
    "outputId": "3d401713-f7c3-4209-d761-385f73f46b7e",
    "slideshow": {
     "slide_type": "subslide"
    }
   },
   "outputs": [
    {
     "name": "stdout",
     "output_type": "stream",
     "text": [
      "\n",
      "Distance measurements - Cosine on A and B\n",
      "-------------------------------------------------\n",
      "Cosine distance is 1.1518000527839867\n"
     ]
    }
   ],
   "source": [
    "# Apply Cosine Distance\n",
    "print ('\\nDistance measurements - Cosine on A and B')\n",
    "print ('-------------------------------------------------')\n",
    "print ('Cosine distance is', distance.cosine(A, B))  # cosine() is used to calculate cosine distance"
   ]
  },
  {
   "cell_type": "markdown",
   "metadata": {
    "slideshow": {
     "slide_type": "slide"
    }
   },
   "source": [
    "### 2.8 Haversine distance\n",
    "\n",
    "The Haversine (or great circle) distance is the angular distance between two points on the surface of a sphere. The first distance of each point is assumed to be the latitude, the second is the longitude, given in radians. The dimension of the data must be 2. \n",
    "\n",
    "`2 arcsin(sqrt(sin^2(0.5*dx) + cos(x1)cos(x2)sin^2(0.5*dy)))`\n",
    "\n",
    "![haversine](haversine.png)"
   ]
  },
  {
   "cell_type": "code",
   "execution_count": 20,
   "metadata": {
    "slideshow": {
     "slide_type": "subslide"
    }
   },
   "outputs": [
    {
     "name": "stdout",
     "output_type": "stream",
     "text": [
      "[[    0.         11099.54035582]\n",
      " [11099.54035582     0.        ]]\n"
     ]
    }
   ],
   "source": [
    "from sklearn.metrics.pairwise import haversine_distances\n",
    "from math import radians\n",
    "buenos_aires = [-34.83333, -58.5166646] # geo loaction\n",
    "paris = [49.0083899664, 2.53844117956] # geo location\n",
    "buenos_aires_in_radians = [radians(_) for _ in buenos_aires]\n",
    "paris_in_radians = [radians(_) for _ in paris]\n",
    "result = haversine_distances([buenos_aires_in_radians, paris_in_radians])\n",
    "print(result * 6371000/1000) # multiply by Earth radius to get kilometers"
   ]
  },
  {
   "cell_type": "markdown",
   "metadata": {
    "colab_type": "text",
    "id": "G6n6gGtrVNF0",
    "slideshow": {
     "slide_type": "slide"
    }
   },
   "source": [
    "<h3>Some of the Distance Measures Comparison</h3>\n",
    "\n",
    "We are creating 2 Vectors A and B post which an element-wise comparison of distances between the vectors is performed using the 6 measurement techniques, as implemented in SciPy functions, each of which accept a pair of one-dimensional vectors as arguments. \n",
    "\n",
    "Now, a pair of 100-dimension vectors are created, with the same set of distance measurements performed and reported."
   ]
  },
  {
   "cell_type": "code",
   "execution_count": 8,
   "metadata": {
    "colab": {},
    "colab_type": "code",
    "id": "3-KPNAUTVNF2",
    "outputId": "ead9461e-5f5c-433d-9ec0-75a6a2030f3d",
    "slideshow": {
     "slide_type": "subslide"
    }
   },
   "outputs": [
    {
     "name": "stdout",
     "output_type": "stream",
     "text": [
      "\n",
      "Distance measurements with 100-dimensional vectors\n",
      "--------------------------------------------------\n",
      "\n",
      "Euclidean distance is 37.6140708067778\n",
      "Manhattan distance is 307.7431046710464\n",
      "Chebyshev distance is 9.07117697521516\n",
      "Canberra distance is 38.531330353555475\n",
      "Minkowski distance is 37.6140708067778\n"
     ]
    }
   ],
   "source": [
    "import numpy as np\n",
    "\n",
    "# Prepare 2 vectors of 100 dimensions\n",
    "AA = np.random.uniform(0, 10, 100)\n",
    "BB = np.random.uniform(0, 10, 100)\n",
    "\n",
    "# Perform distance measurements\n",
    "print ('\\nDistance measurements with 100-dimensional vectors')\n",
    "print ('--------------------------------------------------')\n",
    "print ('\\nEuclidean distance is', distance.euclidean(AA, BB))\n",
    "print ('Manhattan distance is', distance.cityblock(AA, BB))\n",
    "print ('Chebyshev distance is', distance.chebyshev(AA, BB))\n",
    "print ('Canberra distance is', distance.canberra(AA, BB))\n",
    "print ('Minkowski distance is', distance.minkowski(AA, BB))"
   ]
  },
  {
   "cell_type": "markdown",
   "metadata": {
    "colab_type": "text",
    "id": "JHiToBBJVNGE",
    "slideshow": {
     "slide_type": "subslide"
    }
   },
   "source": [
    "With the measurements performed, we can observe 2 important takeaways:\n",
    "\n",
    "The reported distances (obviously) vary greatly between distance measurement techniques\n",
    "Some measurement techniques are more susceptible (at least, in this experiment) to increased dimensionality (while, conversely, others are much less-influenced)"
   ]
  },
  {
   "cell_type": "markdown",
   "metadata": {
    "colab_type": "text",
    "id": "lgpax92iVNGK",
    "slideshow": {
     "slide_type": "slide"
    }
   },
   "source": [
    "## Standard Scalar Z-Score "
   ]
  },
  {
   "cell_type": "markdown",
   "metadata": {
    "colab_type": "text",
    "id": "8E5wshGXVNGN",
    "slideshow": {
     "slide_type": "subslide"
    }
   },
   "source": [
    "Remember what is ZScore and its usage ?? \n",
    "\n",
    "The StandardScaler assumes your data is normally distributed within each feature and will scale them such that the distribution is now centred around 0, with a standard deviation of 1.\n",
    "\n",
    "The mean and standard deviation are calculated for the feature and then the feature is scaled based on:\n",
    "\n",
    "z = ( Xi - mean(X) ) / stdev (X)\n",
    "\n",
    "More on : https://scikit-learn.org/stable/modules/generated/sklearn.preprocessing.StandardScaler.html\n",
    "\n",
    "Let us see and example of the same : "
   ]
  },
  {
   "cell_type": "code",
   "execution_count": 0,
   "metadata": {
    "colab": {},
    "colab_type": "code",
    "id": "ADpFVFlIVNGU",
    "slideshow": {
     "slide_type": "subslide"
    }
   },
   "outputs": [],
   "source": [
    "# Task 3 \n",
    "import pandas as pd # 3.1 Importing pandas\n",
    "import numpy as np  # 3.1 Importing numpy \n",
    "from sklearn import preprocessing # 3.2  Importing preprocessing to use StandardScaler()\n",
    "\n",
    "# 3.4 Import matplotlib and assign style\n",
    "import matplotlib \n",
    "import matplotlib.pyplot as plt\n",
    "import seaborn as sns\n",
    "%matplotlib inline\n",
    "matplotlib.style.use('ggplot')"
   ]
  },
  {
   "cell_type": "code",
   "execution_count": 0,
   "metadata": {
    "colab": {},
    "colab_type": "code",
    "id": "Kyt2BeRVVNGi",
    "slideshow": {
     "slide_type": "subslide"
    }
   },
   "outputs": [],
   "source": [
    "# 3.4 Create random seed \n",
    "np.random.seed(1)\n",
    "\n",
    "#3.5 Create Dataframe using random.normal(loc, scale=, size) explore about these parameters and \n",
    "# change them and feel it. In these example, we take arbitary values. \n",
    "\n",
    "df = pd.DataFrame({\n",
    "    'x1': np.random.normal(0, 2, 10000),\n",
    "    'x2': np.random.normal(3, 4, 10000),\n",
    "    'x3': np.random.normal(-3, 6, 10000)\n",
    "})"
   ]
  },
  {
   "cell_type": "code",
   "execution_count": 0,
   "metadata": {
    "colab": {},
    "colab_type": "code",
    "id": "g1NWBh4fVNGp",
    "slideshow": {
     "slide_type": "subslide"
    }
   },
   "outputs": [],
   "source": [
    "# 3.6 Applying Z Score \n",
    "scaler = preprocessing.StandardScaler()\n",
    "scaled_df = scaler.fit_transform(df)\n",
    "scaled_df = pd.DataFrame(scaled_df, columns=['x1', 'x2', 'x3'])"
   ]
  },
  {
   "cell_type": "code",
   "execution_count": 0,
   "metadata": {
    "colab": {},
    "colab_type": "code",
    "id": "Hjj2zh-rVNGz",
    "outputId": "7620c6fc-28db-4336-ae20-4128b9798ef6",
    "slideshow": {
     "slide_type": "subslide"
    }
   },
   "outputs": [
    {
     "data": {
      "image/png": "[encoded data removed]",
      "text/plain": [
       "<Figure size 504x504 with 2 Axes>"
      ]
     },
     "metadata": {
      "needs_background": "light",
      "tags": []
     },
     "output_type": "display_data"
    }
   ],
   "source": [
    "# 3.7 Plot before and after scaling side by side to feel the difference! \n",
    "\n",
    "fig, (ax1, ax2) = plt.subplots(ncols=2, figsize=(7,7))\n",
    "ax1.set_title('Before Scaling / ZScore')\n",
    "sns.kdeplot(df['x1'], ax=ax1)\n",
    "sns.kdeplot(df['x2'], ax=ax1)\n",
    "sns.kdeplot(df['x3'], ax=ax1)\n",
    "ax2.set_title('After Standard Scaler / ZScore')\n",
    "sns.kdeplot(scaled_df['x1'], ax=ax2)\n",
    "sns.kdeplot(scaled_df['x2'], ax=ax2)\n",
    "sns.kdeplot(scaled_df['x3'], ax=ax2)\n",
    "plt.show()"
   ]
  },
  {
   "cell_type": "markdown",
   "metadata": {
    "colab_type": "text",
    "id": "3rOJj8vFVNG_",
    "slideshow": {
     "slide_type": "subslide"
    }
   },
   "source": [
    "<h4>Why Standardization Matters ? </h4>"
   ]
  },
  {
   "cell_type": "markdown",
   "metadata": {
    "colab_type": "text",
    "id": "cpQuXncSVNHD",
    "slideshow": {
     "slide_type": "subslide"
    }
   },
   "source": [
    "In statistics, standardization (sometimes called data normalization or feature scaling) refers to the process of rescaling the values of the variables in your data set so they share a common scale. Often performed as a pre-processing step. \n",
    "\n",
    "Particularly for cluster analysis, standardization may be important if you are working with data where each variable has a different unit (e.g., inches, meters, tons and kilograms), or where the scales of each of your variables are very different from one another (e.g., 0-1 vs 0-1000). \n",
    "\n",
    "The reason this importance is particularly high in cluster analysis is because groups are defined based on the distance between points in mathematical space."
   ]
  },
  {
   "cell_type": "markdown",
   "metadata": {
    "colab_type": "text",
    "id": "ti7lUMxAVNHF",
    "slideshow": {
     "slide_type": "slide"
    }
   },
   "source": [
    "<h3><font color=blue>This notebook will be shared. Now that you have learnt about several distance measures, please try to change the values of vectors, try different parameters seeing the library documentation and feel the difference.</font></h3>\n",
    "\n",
    "<h1><p style=\"text-align: center;\">Thank you for the Patience!</p></h1>"
   ]
  }
 ],
 "metadata": {
  "celltoolbar": "Slideshow",
  "colab": {
   "name": "Distance_Measures_Orientation.ipynb",
   "provenance": []
  },
  "kernelspec": {
   "display_name": "Python 3",
   "language": "python",
   "name": "python3"
  },
  "language_info": {
   "codemirror_mode": {
    "name": "ipython",
    "version": 3
   },
   "file_extension": ".py",
   "mimetype": "text/x-python",
   "name": "python",
   "nbconvert_exporter": "python",
   "pygments_lexer": "ipython3",
   "version": "3.8.3"
  }
 },
 "nbformat": 4,
 "nbformat_minor": 1
}
