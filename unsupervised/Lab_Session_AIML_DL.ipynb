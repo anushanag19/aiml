{
 "cells": [
  {
   "cell_type": "markdown",
   "metadata": {
    "colab_type": "text",
    "id": "srd8gU0yJ2Jf",
    "slideshow": {
     "slide_type": "slide"
    }
   },
   "source": [
    "# Immersion -- Deep Learning and ANN Lab session\n",
    "![lab2](lab2.png)"
   ]
  },
  {
   "cell_type": "markdown",
   "metadata": {
    "slideshow": {
     "slide_type": "slide"
    }
   },
   "source": [
    "## Brief Introduction to Tensorflow"
   ]
  },
  {
   "cell_type": "markdown",
   "metadata": {
    "slideshow": {
     "slide_type": "subslide"
    }
   },
   "source": [
    "**TensorFlow** is an end-to-end open source platform for machine learning. Its mostly used for Neural Networks. \n",
    "\n",
    "TensorFlow makes use of a computational graph framework. A Graph consists of two main components : *Nodes* and *Edges*.\n",
    "*Nodes* represent the mathematical operations and produces outputs, whereas *Edges* represents the input and output tensors between these nodes. This is why it is called **TensorFlow** because multiple tensors goes inside the graph, flows through several mathematical operations, and then comes out as a final output tensor.\n",
    "\n",
    "![Graph](graph.png)"
   ]
  },
  {
   "cell_type": "markdown",
   "metadata": {
    "slideshow": {
     "slide_type": "subslide"
    }
   },
   "source": [
    "Every successful 'run' of a computaional graph can be divided in two phases:\n",
    "1. **Construction Phase** : Assembling a Computational Graph. Ex : In keras when user defines the number of layers, units per layers, loss function, optimizer, learning rate, number of epochs etc. a graph is created.\n",
    "2. **Execution Phase** : Pushing the data through the graph and performing automatic differentiation (generally termed backward propagation) to update the trainable parameters. Ex: In keras when user runs 'model.fit()' it executes every node serially and updates tensors."
   ]
  },
  {
   "cell_type": "markdown",
   "metadata": {
    "slideshow": {
     "slide_type": "subslide"
    }
   },
   "source": [
    "![run](run.gif)"
   ]
  },
  {
   "cell_type": "markdown",
   "metadata": {
    "slideshow": {
     "slide_type": "subslide"
    }
   },
   "source": [
    "**What's exactly a Tensor?**\n",
    "\n",
    "Simply put, Tensors are multidimensional array of data. So a matrix is called a rank-2 tensor and vector a rank-1 tensor.\n",
    "\n",
    "![tensor](tensor.png)"
   ]
  },
  {
   "cell_type": "markdown",
   "metadata": {
    "colab_type": "text",
    "id": "jCMFR_nZ31c9",
    "slideshow": {
     "slide_type": "slide"
    }
   },
   "source": [
    "## Deep Neural Networks using Keras (Higher level API) with Tensorflow backend"
   ]
  },
  {
   "cell_type": "markdown",
   "metadata": {
    "colab_type": "text",
    "id": "Di_yBMSC31dD",
    "slideshow": {
     "slide_type": "slide"
    }
   },
   "source": [
    "## Import Libraries\n",
    "\n",
    "**Please use python3 (must) and Tensorflow 2.0 (or atleast >=1.14.0)**"
   ]
  },
  {
   "cell_type": "code",
   "execution_count": 1,
   "metadata": {
    "colab": {
     "base_uri": "https://localhost:8080/",
     "height": 34
    },
    "colab_type": "code",
    "id": "9lXI01MzKOzQ",
    "outputId": "dac335de-3476-48fe-d059-a3ee7100de5c",
    "slideshow": {
     "slide_type": "subslide"
    }
   },
   "outputs": [],
   "source": [
    "# In colab before import tensorflow\n",
    "# %tensorflow_version 2.x"
   ]
  },
  {
   "cell_type": "code",
   "execution_count": 2,
   "metadata": {
    "colab": {
     "base_uri": "https://localhost:8080/",
     "height": 34
    },
    "colab_type": "code",
    "id": "4hGYiWVU31dJ",
    "outputId": "8c2a778e-1585-4058-e118-c7ce95ba0a44",
    "slideshow": {
     "slide_type": "subslide"
    }
   },
   "outputs": [
    {
     "name": "stderr",
     "output_type": "stream",
     "text": [
      "C:\\Anaconda3\\lib\\site-packages\\tensorflow\\python\\framework\\dtypes.py:516: FutureWarning: Passing (type, 1) or '1type' as a synonym of type is deprecated; in a future version of numpy, it will be understood as (type, (1,)) / '(1,)type'.\n",
      "  _np_qint8 = np.dtype([(\"qint8\", np.int8, 1)])\n",
      "C:\\Anaconda3\\lib\\site-packages\\tensorflow\\python\\framework\\dtypes.py:517: FutureWarning: Passing (type, 1) or '1type' as a synonym of type is deprecated; in a future version of numpy, it will be understood as (type, (1,)) / '(1,)type'.\n",
      "  _np_quint8 = np.dtype([(\"quint8\", np.uint8, 1)])\n",
      "C:\\Anaconda3\\lib\\site-packages\\tensorflow\\python\\framework\\dtypes.py:518: FutureWarning: Passing (type, 1) or '1type' as a synonym of type is deprecated; in a future version of numpy, it will be understood as (type, (1,)) / '(1,)type'.\n",
      "  _np_qint16 = np.dtype([(\"qint16\", np.int16, 1)])\n",
      "C:\\Anaconda3\\lib\\site-packages\\tensorflow\\python\\framework\\dtypes.py:519: FutureWarning: Passing (type, 1) or '1type' as a synonym of type is deprecated; in a future version of numpy, it will be understood as (type, (1,)) / '(1,)type'.\n",
      "  _np_quint16 = np.dtype([(\"quint16\", np.uint16, 1)])\n",
      "C:\\Anaconda3\\lib\\site-packages\\tensorflow\\python\\framework\\dtypes.py:520: FutureWarning: Passing (type, 1) or '1type' as a synonym of type is deprecated; in a future version of numpy, it will be understood as (type, (1,)) / '(1,)type'.\n",
      "  _np_qint32 = np.dtype([(\"qint32\", np.int32, 1)])\n",
      "C:\\Anaconda3\\lib\\site-packages\\tensorflow\\python\\framework\\dtypes.py:525: FutureWarning: Passing (type, 1) or '1type' as a synonym of type is deprecated; in a future version of numpy, it will be understood as (type, (1,)) / '(1,)type'.\n",
      "  np_resource = np.dtype([(\"resource\", np.ubyte, 1)])\n",
      "C:\\Anaconda3\\lib\\site-packages\\tensorboard\\compat\\tensorflow_stub\\dtypes.py:541: FutureWarning: Passing (type, 1) or '1type' as a synonym of type is deprecated; in a future version of numpy, it will be understood as (type, (1,)) / '(1,)type'.\n",
      "  _np_qint8 = np.dtype([(\"qint8\", np.int8, 1)])\n",
      "C:\\Anaconda3\\lib\\site-packages\\tensorboard\\compat\\tensorflow_stub\\dtypes.py:542: FutureWarning: Passing (type, 1) or '1type' as a synonym of type is deprecated; in a future version of numpy, it will be understood as (type, (1,)) / '(1,)type'.\n",
      "  _np_quint8 = np.dtype([(\"quint8\", np.uint8, 1)])\n",
      "C:\\Anaconda3\\lib\\site-packages\\tensorboard\\compat\\tensorflow_stub\\dtypes.py:543: FutureWarning: Passing (type, 1) or '1type' as a synonym of type is deprecated; in a future version of numpy, it will be understood as (type, (1,)) / '(1,)type'.\n",
      "  _np_qint16 = np.dtype([(\"qint16\", np.int16, 1)])\n",
      "C:\\Anaconda3\\lib\\site-packages\\tensorboard\\compat\\tensorflow_stub\\dtypes.py:544: FutureWarning: Passing (type, 1) or '1type' as a synonym of type is deprecated; in a future version of numpy, it will be understood as (type, (1,)) / '(1,)type'.\n",
      "  _np_quint16 = np.dtype([(\"quint16\", np.uint16, 1)])\n",
      "C:\\Anaconda3\\lib\\site-packages\\tensorboard\\compat\\tensorflow_stub\\dtypes.py:545: FutureWarning: Passing (type, 1) or '1type' as a synonym of type is deprecated; in a future version of numpy, it will be understood as (type, (1,)) / '(1,)type'.\n",
      "  _np_qint32 = np.dtype([(\"qint32\", np.int32, 1)])\n",
      "C:\\Anaconda3\\lib\\site-packages\\tensorboard\\compat\\tensorflow_stub\\dtypes.py:550: FutureWarning: Passing (type, 1) or '1type' as a synonym of type is deprecated; in a future version of numpy, it will be understood as (type, (1,)) / '(1,)type'.\n",
      "  np_resource = np.dtype([(\"resource\", np.ubyte, 1)])\n"
     ]
    },
    {
     "name": "stdout",
     "output_type": "stream",
     "text": [
      "1.14.0\n"
     ]
    }
   ],
   "source": [
    "# Import Tensorflow \n",
    "import tensorflow as tf\n",
    "print(tf.__version__)\n",
    "\n",
    "# Import Keras specific modules\n",
    "from tensorflow.keras.models import Sequential\n",
    "from tensorflow.keras.layers import Dense, Dropout, Conv2D, MaxPool2D, Flatten\n",
    "from tensorflow.keras.regularizers import l2\n",
    "\n",
    "# import python libraries\n",
    "import random\n",
    "import numpy as np\n",
    "from matplotlib import pyplot as plt\n",
    "from sklearn.metrics import confusion_matrix\n",
    "\n",
    "# magic function for notebooks\n",
    "%matplotlib inline \n",
    "\n",
    "# Random Seed Generator\n",
    "random.seed(42) # Initialize the random number generator.\n",
    "np.random.seed(42) # With the seed reset, the same set of numbers will appear every time. \n",
    "#tf.random.set_seed(42) # sets the graph-level random seed"
   ]
  },
  {
   "cell_type": "markdown",
   "metadata": {
    "colab_type": "text",
    "id": "ccqvwptC31eL",
    "slideshow": {
     "slide_type": "slide"
    }
   },
   "source": [
    "## Dataset"
   ]
  },
  {
   "cell_type": "code",
   "execution_count": 3,
   "metadata": {
    "colab": {},
    "colab_type": "code",
    "id": "OWcwDcgW31eO",
    "slideshow": {
     "slide_type": "subslide"
    }
   },
   "outputs": [],
   "source": [
    "# Use the MNIST dataset  of Keras, already splitted to train and test sets\n",
    "(Xtrain, Ytrain) , (Xtest, Ytest) = tf.keras.datasets.mnist.load_data()"
   ]
  },
  {
   "cell_type": "code",
   "execution_count": 4,
   "metadata": {
    "colab": {
     "base_uri": "https://localhost:8080/",
     "height": 86
    },
    "colab_type": "code",
    "id": "5AaqNvYC31ea",
    "outputId": "9d2f430e-7a66-40a8-917a-8c3cdb25602b",
    "slideshow": {
     "slide_type": "subslide"
    }
   },
   "outputs": [
    {
     "name": "stdout",
     "output_type": "stream",
     "text": [
      "(60000, 28, 28)\n",
      "(10000, 28, 28)\n",
      "(60000,)\n",
      "(10000,)\n"
     ]
    }
   ],
   "source": [
    "# size of the datsets\n",
    "print(Xtrain.shape)\n",
    "print(Xtest.shape)\n",
    "print(Ytrain.shape)\n",
    "print(Ytest.shape)"
   ]
  },
  {
   "cell_type": "code",
   "execution_count": 5,
   "metadata": {
    "colab": {
     "base_uri": "https://localhost:8080/",
     "height": 282
    },
    "colab_type": "code",
    "id": "6PX0BZEz31el",
    "outputId": "9441ae18-864c-405b-ace7-f25d44fb1781",
    "slideshow": {
     "slide_type": "subslide"
    }
   },
   "outputs": [
    {
     "name": "stdout",
     "output_type": "stream",
     "text": [
      "Ytrain :  5\n"
     ]
    },
    {
     "data": {
      "image/png": "[encoded data removed]",
      "text/plain": [
       "<Figure size 432x288 with 1 Axes>"
      ]
     },
     "metadata": {
      "needs_background": "light"
     },
     "output_type": "display_data"
    }
   ],
   "source": [
    "# print a sample data\n",
    "plt.imshow(Xtrain[0], cmap='gray')\n",
    "print('Ytrain : ', Ytrain[0])"
   ]
  },
  {
   "cell_type": "code",
   "execution_count": 6,
   "metadata": {
    "colab": {},
    "colab_type": "code",
    "id": "Go-DE3WH31eu",
    "slideshow": {
     "slide_type": "subslide"
    }
   },
   "outputs": [],
   "source": [
    "# Normalize the data for \n",
    "# 60000 input images are in the train set.\n",
    "# 10000 input images are in the test set.\n",
    "\n",
    "# For DNN\n",
    "# reshape the input set to size 28*28.\n",
    "Xtraind = Xtrain.reshape(Xtrain.shape[0], 28*28)\n",
    "# normalize to values between 0 and 1; set datatype as float32\n",
    "Xtraind = Xtraind.astype('float32')/255 \n",
    "# reshape the input set to size 28*28.\n",
    "Xtestd = Xtest.reshape(Xtest.shape[0], 28*28)\n",
    "# normalize to values between 0 and 1; set datatype as float32\n",
    "Xtestd = Xtestd.astype('float32')/255 \n",
    "\n",
    "# For CNN\n",
    "# reshape the input set to size (28,28,1)\n",
    "Xtrainc = Xtrain.reshape(Xtrain.shape[0], 28, 28, 1)\n",
    "# normalize to values between 0 and 1; set datatype as float32\n",
    "Xtrainc = Xtrainc.astype('float32')/255\n",
    "# reshape the input set to size (28,28,1)\n",
    "Xtestc = Xtest.reshape(Xtest.shape[0], 28, 28, 1)\n",
    "# normalize to values between 0 and 1; set datatype as float32\n",
    "Xtestc = Xtestc.astype('float32')/255 \n",
    "\n",
    "# convert class vectors to binary class matrices\n",
    "Ytrain = tf.keras.utils.to_categorical(Ytrain)\n",
    "Ytest = tf.keras.utils.to_categorical(Ytest)"
   ]
  },
  {
   "cell_type": "code",
   "execution_count": 7,
   "metadata": {
    "colab": {
     "base_uri": "https://localhost:8080/",
     "height": 286
    },
    "colab_type": "code",
    "id": "Hn1p5RVq31e2",
    "outputId": "80b8e936-edba-4746-a640-cd1c36ddc92e",
    "slideshow": {
     "slide_type": "subslide"
    }
   },
   "outputs": [
    {
     "name": "stdout",
     "output_type": "stream",
     "text": [
      "Ytrain:  [1. 0. 0. 0. 0. 0. 0. 0. 0. 0.]\n"
     ]
    },
    {
     "data": {
      "image/png": "[encoded data removed]",
      "text/plain": [
       "<Figure size 432x288 with 1 Axes>"
      ]
     },
     "metadata": {
      "needs_background": "light"
     },
     "output_type": "display_data"
    }
   ],
   "source": [
    "# print an input data for dnn model\n",
    "# for cnn model we input the image as it is\n",
    "plt.imshow(Xtrain[1].reshape(28*28,1), cmap='gist_gray',aspect=0.005)\n",
    "print('Ytrain: ', Ytrain[1])"
   ]
  },
  {
   "cell_type": "markdown",
   "metadata": {
    "colab_type": "text",
    "id": "lH30TIf031do",
    "slideshow": {
     "slide_type": "slide"
    }
   },
   "source": [
    "## DNN Model\n",
    "\n",
    "Using Keras, create a Dense NN Sequential Model\n",
    "\n",
    "Add dense layers, specifying the number of units in each layer and the activation function used in the layer.\n",
    "Add a dropout layer too.\n",
    "\n",
    "![dnn](dnn.png)"
   ]
  },
  {
   "cell_type": "code",
   "execution_count": 8,
   "metadata": {
    "colab": {
     "base_uri": "https://localhost:8080/",
     "height": 295
    },
    "colab_type": "code",
    "id": "wnR11r5e31eA",
    "outputId": "c9a51cf5-664c-41ef-ae42-c94aab787d21",
    "slideshow": {
     "slide_type": "subslide"
    }
   },
   "outputs": [
    {
     "name": "stdout",
     "output_type": "stream",
     "text": [
      "WARNING:tensorflow:From C:\\Anaconda3\\lib\\site-packages\\tensorflow\\python\\ops\\init_ops.py:1251: calling VarianceScaling.__init__ (from tensorflow.python.ops.init_ops) with dtype is deprecated and will be removed in a future version.\n",
      "Instructions for updating:\n",
      "Call initializer instance with the dtype argument instead of passing it to the constructor\n",
      "Model: \"sequential\"\n",
      "_________________________________________________________________\n",
      "Layer (type)                 Output Shape              Param #   \n",
      "=================================================================\n",
      "dense (Dense)                (None, 64)                50240     \n",
      "_________________________________________________________________\n",
      "dense_1 (Dense)              (None, 32)                2080      \n",
      "_________________________________________________________________\n",
      "dropout (Dropout)            (None, 32)                0         \n",
      "_________________________________________________________________\n",
      "dense_2 (Dense)              (None, 10)                330       \n",
      "=================================================================\n",
      "Total params: 52,650\n",
      "Trainable params: 52,650\n",
      "Non-trainable params: 0\n",
      "_________________________________________________________________\n"
     ]
    }
   ],
   "source": [
    "# Create a sequential model object\n",
    "dnnmodel = Sequential()\n",
    "\n",
    "# Layer 1 = first hidden layer\n",
    "# specify the input size for in the first layer.\n",
    "dnnmodel.add(Dense(64, activation='relu', input_shape= (28*28,)))\n",
    "\n",
    "# Layer 2 = second hidden layer \n",
    "dnnmodel.add(Dense(32, activation='relu'))\n",
    "\n",
    "# Add dropout of 25% to layer 2\n",
    "dnnmodel.add(Dropout(0.25))\n",
    "\n",
    "# Layer 3 = output layer\n",
    "dnnmodel.add(Dense(10, activation='softmax'))\n",
    "\n",
    "dnnmodel.summary()"
   ]
  },
  {
   "cell_type": "markdown",
   "metadata": {
    "colab_type": "text",
    "id": "M0fkHtZvSuV-",
    "slideshow": {
     "slide_type": "subslide"
    }
   },
   "source": [
    "### Optimization of DNN"
   ]
  },
  {
   "cell_type": "code",
   "execution_count": 9,
   "metadata": {
    "colab": {},
    "colab_type": "code",
    "id": "4Mfrp6t5Stwg",
    "slideshow": {
     "slide_type": "subslide"
    }
   },
   "outputs": [],
   "source": [
    "# Configure  the model for training, by using appropriate optimizers \n",
    "# Available optimizer: adam, rmsprop, adagrad, sgd etc.\n",
    "# loss:  objective that the model will try to minimize. \n",
    "# Available loss: categorical_crossentropy, binary_crossentropy etc.\n",
    "# metrics: List of metrics to be evaluated by the model during training and testing. \n",
    "\n",
    "dnnmodel.compile(optimizer = 'adam',\n",
    "                 loss = 'categorical_crossentropy', \n",
    "                 metrics=['accuracy'])"
   ]
  },
  {
   "cell_type": "markdown",
   "metadata": {
    "colab_type": "text",
    "id": "Gp1LdsQqR0L7",
    "slideshow": {
     "slide_type": "slide"
    }
   },
   "source": [
    "## CNN Model\n",
    "\n",
    "Using Keras, create a Convolutional NN Sequential Model\n",
    "\n",
    "Add 2-dim convolutional layers, specifying the number of kernels and its sizes in each layer and the activation function used in the layer.\n",
    "Add a 2-dim maxpool layer of pool size 2.\n",
    "Use L2 regularizer instead of Dropout.\n",
    "\n",
    "![cnn](cnn.jpeg)"
   ]
  },
  {
   "cell_type": "code",
   "execution_count": 10,
   "metadata": {
    "colab": {
     "base_uri": "https://localhost:8080/",
     "height": 330
    },
    "colab_type": "code",
    "id": "czLbJ641RvQQ",
    "outputId": "2c4294c1-bbc4-4122-886f-b05231b9d159",
    "slideshow": {
     "slide_type": "subslide"
    }
   },
   "outputs": [
    {
     "name": "stdout",
     "output_type": "stream",
     "text": [
      "Model: \"sequential_1\"\n",
      "_________________________________________________________________\n",
      "Layer (type)                 Output Shape              Param #   \n",
      "=================================================================\n",
      "conv2d (Conv2D)              (None, 24, 24, 64)        1664      \n",
      "_________________________________________________________________\n",
      "max_pooling2d (MaxPooling2D) (None, 12, 12, 64)        0         \n",
      "_________________________________________________________________\n",
      "conv2d_1 (Conv2D)            (None, 8, 8, 32)          51232     \n",
      "_________________________________________________________________\n",
      "max_pooling2d_1 (MaxPooling2 (None, 4, 4, 32)          0         \n",
      "_________________________________________________________________\n",
      "flatten (Flatten)            (None, 512)               0         \n",
      "_________________________________________________________________\n",
      "dense_3 (Dense)              (None, 128)               65664     \n",
      "_________________________________________________________________\n",
      "dense_4 (Dense)              (None, 10)                1290      \n",
      "=================================================================\n",
      "Total params: 119,850\n",
      "Trainable params: 119,850\n",
      "Non-trainable params: 0\n",
      "_________________________________________________________________\n"
     ]
    }
   ],
   "source": [
    "# Create a sequential model object\n",
    "cnnmodel = Sequential()\n",
    "\n",
    "# Layer 1 = first hidden layer\n",
    "# specify the input size for in the first layer.\n",
    "cnnmodel.add(Conv2D(64, kernel_size=(5,5), activation='relu', input_shape=(28,28,1)))\n",
    "\n",
    "# Add a Maxpool layer\n",
    "cnnmodel.add(MaxPool2D(pool_size=(2, 2)))\n",
    "\n",
    "# Layer 2 = second hidden layer \n",
    "cnnmodel.add(Conv2D(32, (5,5), activation='relu', kernel_regularizer=l2(1e-04)))\n",
    "\n",
    "# Add a Maxpool layer\n",
    "cnnmodel.add(MaxPool2D(pool_size=(2, 2)))\n",
    "\n",
    "# Flatten the outputs\n",
    "cnnmodel.add(Flatten())\n",
    "\n",
    "# Layer 3 = Dense layer\n",
    "cnnmodel.add(Dense(128, activation='softmax'))\n",
    "\n",
    "# Layer 4 = output layer\n",
    "cnnmodel.add(Dense(10, activation='softmax'))\n",
    "\n",
    "cnnmodel.summary()"
   ]
  },
  {
   "cell_type": "markdown",
   "metadata": {
    "colab_type": "text",
    "id": "20sWzKxOkJ_g",
    "slideshow": {
     "slide_type": "subslide"
    }
   },
   "source": [
    "As you can see Dense Layers add lots of parameters (70%) and not the Convolutional layers.\n",
    "\n",
    "For convolutional models output layers we generally don't use dense layers anymore and replace it with 1x1 and globalmaxpool2d layers. These are beyond this session."
   ]
  },
  {
   "cell_type": "markdown",
   "metadata": {
    "colab_type": "text",
    "id": "UGJ7cwHnko5o",
    "slideshow": {
     "slide_type": "subslide"
    }
   },
   "source": [
    "### Optimization of CNN"
   ]
  },
  {
   "cell_type": "code",
   "execution_count": 11,
   "metadata": {
    "colab": {},
    "colab_type": "code",
    "id": "fTZfV-pzcKwi",
    "slideshow": {
     "slide_type": "subslide"
    }
   },
   "outputs": [],
   "source": [
    "# Configure  the model for training, by using appropriate optimizers \n",
    "# Available optimizer: adam, rmsprop, adagrad, sgd etc.\n",
    "# loss:  objective that the model will try to minimize. \n",
    "# Available loss: categorical_crossentropy, binary_crossentropy etc.\n",
    "# metrics: List of metrics to be evaluated by the model during training and testing.\n",
    "\n",
    "cnnmodel.compile(optimizer = 'adam',\n",
    "                 loss = 'categorical_crossentropy', \n",
    "                 metrics=['accuracy'])"
   ]
  },
  {
   "cell_type": "markdown",
   "metadata": {
    "colab_type": "text",
    "id": "XOz2Xn2c31fN",
    "slideshow": {
     "slide_type": "slide"
    }
   },
   "source": [
    "## Train the Model"
   ]
  },
  {
   "cell_type": "code",
   "execution_count": 12,
   "metadata": {
    "colab": {
     "base_uri": "https://localhost:8080/",
     "height": 382
    },
    "colab_type": "code",
    "id": "M205MNYa31fP",
    "outputId": "7336983f-e14f-4f54-fd03-59a58269d3a5",
    "slideshow": {
     "slide_type": "subslide"
    }
   },
   "outputs": [
    {
     "name": "stdout",
     "output_type": "stream",
     "text": [
      "Epoch 1/10\n",
      "60000/60000 [==============================] - 4s 64us/sample - loss: 0.4694 - acc: 0.8618\n",
      "Epoch 2/10\n",
      "60000/60000 [==============================] - 6s 100us/sample - loss: 0.2070 - acc: 0.9414\n",
      "Epoch 3/10\n",
      "60000/60000 [==============================] - 3s 55us/sample - loss: 0.1585 - acc: 0.9548\n",
      "Epoch 4/10\n",
      "60000/60000 [==============================] - 4s 68us/sample - loss: 0.1273 - acc: 0.9637\n",
      "Epoch 5/10\n",
      "60000/60000 [==============================] - 3s 47us/sample - loss: 0.1091 - acc: 0.9682\n",
      "Epoch 6/10\n",
      "60000/60000 [==============================] - 3s 48us/sample - loss: 0.0941 - acc: 0.9726\n",
      "Epoch 7/10\n",
      "60000/60000 [==============================] - 2s 41us/sample - loss: 0.0874 - acc: 0.9743\n",
      "Epoch 8/10\n",
      "60000/60000 [==============================] - 3s 42us/sample - loss: 0.0785 - acc: 0.9763\n",
      "Epoch 9/10\n",
      "60000/60000 [==============================] - 3s 58us/sample - loss: 0.0731 - acc: 0.9780\n",
      "Epoch 10/10\n",
      "60000/60000 [==============================] - 3s 54us/sample - loss: 0.0653 - acc: 0.9802\n"
     ]
    }
   ],
   "source": [
    "# train the dnn model\n",
    "\n",
    "historyd = dnnmodel.fit(Xtraind, Ytrain, epochs=10, batch_size=64)"
   ]
  },
  {
   "cell_type": "code",
   "execution_count": 13,
   "metadata": {
    "colab": {
     "base_uri": "https://localhost:8080/",
     "height": 382
    },
    "colab_type": "code",
    "id": "QkLR6cRwXIin",
    "outputId": "872b6a6c-03ae-4a26-cca8-6616f8dae6f6",
    "slideshow": {
     "slide_type": "subslide"
    }
   },
   "outputs": [
    {
     "name": "stdout",
     "output_type": "stream",
     "text": [
      "Epoch 1/10\n",
      "60000/60000 [==============================] - 49s 813us/sample - loss: 1.5534 - acc: 0.7436\n",
      "Epoch 2/10\n",
      "60000/60000 [==============================] - 56s 938us/sample - loss: 0.7953 - acc: 0.7954\n",
      "Epoch 3/10\n",
      "60000/60000 [==============================] - 54s 904us/sample - loss: 0.5253 - acc: 0.8017\n",
      "Epoch 4/10\n",
      "60000/60000 [==============================] - 50s 841us/sample - loss: 0.4198 - acc: 0.8041\n",
      "Epoch 5/10\n",
      "60000/60000 [==============================] - 52s 864us/sample - loss: 0.3713 - acc: 0.8058\n",
      "Epoch 6/10\n",
      "60000/60000 [==============================] - 47s 776us/sample - loss: 0.3453 - acc: 0.8100\n",
      "Epoch 7/10\n",
      "60000/60000 [==============================] - 50s 831us/sample - loss: 0.3267 - acc: 0.8128\n",
      "Epoch 8/10\n",
      "60000/60000 [==============================] - 47s 777us/sample - loss: 0.3153 - acc: 0.8203\n",
      "Epoch 9/10\n",
      "60000/60000 [==============================] - 41s 685us/sample - loss: 0.2928 - acc: 0.8911\n",
      "Epoch 10/10\n",
      "60000/60000 [==============================] - 43s 715us/sample - loss: 0.1866 - acc: 0.9841\n"
     ]
    }
   ],
   "source": [
    "# train the cnn model\n",
    "\n",
    "historyc = cnnmodel.fit(Xtrainc, Ytrain, epochs=10, batch_size=64)"
   ]
  },
  {
   "cell_type": "markdown",
   "metadata": {
    "colab_type": "text",
    "id": "DpSLPmsV31fW",
    "slideshow": {
     "slide_type": "slide"
    }
   },
   "source": [
    "## Results and Outputs"
   ]
  },
  {
   "cell_type": "markdown",
   "metadata": {
    "colab_type": "text",
    "id": "Zb-6LlqHmuak",
    "slideshow": {
     "slide_type": "subslide"
    }
   },
   "source": [
    "### DNN"
   ]
  },
  {
   "cell_type": "code",
   "execution_count": 14,
   "metadata": {
    "colab": {
     "base_uri": "https://localhost:8080/",
     "height": 295
    },
    "colab_type": "code",
    "id": "Fyd_OuPI31fi",
    "outputId": "230df73a-2416-4c61-c681-fd7f037d793a",
    "slideshow": {
     "slide_type": "subslide"
    }
   },
   "outputs": [
    {
     "data": {
      "image/png": "[encoded data removed]",
      "text/plain": [
       "<Figure size 432x288 with 1 Axes>"
      ]
     },
     "metadata": {
      "needs_background": "light"
     },
     "output_type": "display_data"
    }
   ],
   "source": [
    "# training accuracy for dnn model\n",
    "plt.plot(historyd.history['acc'], '-x', label=' Train_acc')\n",
    "plt.xlabel('Epochs')\n",
    "plt.ylabel('Accuracy')\n",
    "plt.title('Accuracy vs No. of epochs')\n",
    "plt.legend()\n",
    "plt.show()"
   ]
  },
  {
   "cell_type": "code",
   "execution_count": 15,
   "metadata": {
    "colab": {
     "base_uri": "https://localhost:8080/",
     "height": 295
    },
    "colab_type": "code",
    "id": "82ItdXJct0MM",
    "outputId": "400ed643-e463-482f-f340-59491ef979fc",
    "slideshow": {
     "slide_type": "subslide"
    }
   },
   "outputs": [
    {
     "data": {
      "image/png": "[encoded data removed]",
      "text/plain": [
       "<Figure size 432x288 with 1 Axes>"
      ]
     },
     "metadata": {
      "needs_background": "light"
     },
     "output_type": "display_data"
    }
   ],
   "source": [
    "#training loss for dnn model\n",
    "plt.plot(historyd.history['loss'], '-.', label=' Train_loss')\n",
    "plt.xlabel('epochs')\n",
    "plt.ylabel('Loss')\n",
    "plt.title('Loss vs No. of epochs')\n",
    "plt.legend()\n",
    "plt.show()"
   ]
  },
  {
   "cell_type": "markdown",
   "metadata": {
    "colab_type": "text",
    "id": "sKWqV-yJmxEJ",
    "slideshow": {
     "slide_type": "subslide"
    }
   },
   "source": [
    "### CNN"
   ]
  },
  {
   "cell_type": "code",
   "execution_count": 16,
   "metadata": {
    "colab": {
     "base_uri": "https://localhost:8080/",
     "height": 295
    },
    "colab_type": "code",
    "id": "zAlhGaiMXZ-V",
    "outputId": "c2bb109c-bf21-4189-d4b6-87429d0e6da5",
    "slideshow": {
     "slide_type": "subslide"
    }
   },
   "outputs": [
    {
     "data": {
      "image/png": "[encoded data removed]",
      "text/plain": [
       "<Figure size 432x288 with 1 Axes>"
      ]
     },
     "metadata": {
      "needs_background": "light"
     },
     "output_type": "display_data"
    }
   ],
   "source": [
    "# training accuracy for cnn model\n",
    "plt.plot(historyc.history['acc'], '-x', label=' Train_acc')\n",
    "plt.xlabel('Epochs')\n",
    "plt.ylabel('Accuracy')\n",
    "plt.title('Accuracy vs No. of epochs')\n",
    "plt.legend()\n",
    "plt.show()"
   ]
  },
  {
   "cell_type": "code",
   "execution_count": 17,
   "metadata": {
    "colab": {
     "base_uri": "https://localhost:8080/",
     "height": 295
    },
    "colab_type": "code",
    "id": "W1SjfZ__XhUZ",
    "outputId": "64998ada-eee4-4285-96ea-54cd4ff26a22",
    "slideshow": {
     "slide_type": "subslide"
    }
   },
   "outputs": [
    {
     "data": {
      "image/png": "[encoded data removed]",
      "text/plain": [
       "<Figure size 432x288 with 1 Axes>"
      ]
     },
     "metadata": {
      "needs_background": "light"
     },
     "output_type": "display_data"
    }
   ],
   "source": [
    "#training loss for cnn model\n",
    "plt.plot(historyc.history['loss'], '-.', label=' Train_loss')\n",
    "plt.xlabel('epochs')\n",
    "plt.ylabel('Loss')\n",
    "plt.title('Loss vs No. of epochs')\n",
    "plt.legend()\n",
    "plt.show()"
   ]
  },
  {
   "cell_type": "markdown",
   "metadata": {
    "colab_type": "text",
    "id": "WvtuXPgU31fy",
    "slideshow": {
     "slide_type": "slide"
    }
   },
   "source": [
    "## Testing the Model"
   ]
  },
  {
   "cell_type": "markdown",
   "metadata": {
    "colab_type": "text",
    "id": "rLhrEBaPm3W0",
    "slideshow": {
     "slide_type": "subslide"
    }
   },
   "source": [
    "### DNN"
   ]
  },
  {
   "cell_type": "code",
   "execution_count": 18,
   "metadata": {
    "colab": {
     "base_uri": "https://localhost:8080/",
     "height": 34
    },
    "colab_type": "code",
    "id": "7BqZ-gtw31f0",
    "outputId": "1ebac6b4-3123-49af-d36a-4ef49eb532c8",
    "slideshow": {
     "slide_type": "subslide"
    }
   },
   "outputs": [
    {
     "name": "stdout",
     "output_type": "stream",
     "text": [
      "10000/10000 [==============================] - 1s 89us/sample - loss: 0.0863 - acc: 0.9739\n"
     ]
    }
   ],
   "source": [
    "# testing the dnn model\n",
    "\n",
    "testLoss, testAccuracy = dnnmodel.evaluate(Xtestd, Ytest)"
   ]
  },
  {
   "cell_type": "code",
   "execution_count": 19,
   "metadata": {
    "colab": {
     "base_uri": "https://localhost:8080/",
     "height": 52
    },
    "colab_type": "code",
    "id": "WjeXgatc31f6",
    "outputId": "ba03e464-b4e6-4c3c-db3b-694ba7d3d546",
    "slideshow": {
     "slide_type": "subslide"
    }
   },
   "outputs": [
    {
     "name": "stdout",
     "output_type": "stream",
     "text": [
      "Testing loss \t 0.08632604354599607\n",
      "Testing accuracy  97.39000201225281 %\n"
     ]
    }
   ],
   "source": [
    "print('Testing loss \\t', testLoss)\n",
    "print('Testing accuracy ', testAccuracy * 100, '%')"
   ]
  },
  {
   "cell_type": "markdown",
   "metadata": {
    "colab_type": "text",
    "id": "GcHom_Rnm5QL",
    "slideshow": {
     "slide_type": "subslide"
    }
   },
   "source": [
    "### CNN"
   ]
  },
  {
   "cell_type": "code",
   "execution_count": 20,
   "metadata": {
    "colab": {
     "base_uri": "https://localhost:8080/",
     "height": 34
    },
    "colab_type": "code",
    "id": "VTP56CFGXo1W",
    "outputId": "085583e6-5c76-46b3-b496-4bcd3f9cf294",
    "slideshow": {
     "slide_type": "subslide"
    }
   },
   "outputs": [
    {
     "name": "stdout",
     "output_type": "stream",
     "text": [
      "10000/10000 [==============================] - 3s 297us/sample - loss: 0.1531 - acc: 0.9881\n"
     ]
    }
   ],
   "source": [
    "# testing the cnn model\n",
    "\n",
    "testLoss, testAccuracy = cnnmodel.evaluate(Xtestc, Ytest)"
   ]
  },
  {
   "cell_type": "code",
   "execution_count": 21,
   "metadata": {
    "colab": {
     "base_uri": "https://localhost:8080/",
     "height": 52
    },
    "colab_type": "code",
    "id": "nZwcSKUBXrKF",
    "outputId": "d6959f49-53ae-43cc-8c68-5d57a13977c4",
    "slideshow": {
     "slide_type": "subslide"
    }
   },
   "outputs": [
    {
     "name": "stdout",
     "output_type": "stream",
     "text": [
      "Testing loss \t 0.1531226616859436\n",
      "Testing accuracy  98.8099992275238 %\n"
     ]
    }
   ],
   "source": [
    "print('Testing loss \\t', testLoss)\n",
    "print('Testing accuracy ', testAccuracy * 100, '%')"
   ]
  },
  {
   "cell_type": "markdown",
   "metadata": {
    "colab_type": "text",
    "id": "sQ15NWabJ2OZ",
    "slideshow": {
     "slide_type": "slide"
    }
   },
   "source": [
    "## Confusion Matrix"
   ]
  },
  {
   "cell_type": "markdown",
   "metadata": {
    "colab_type": "text",
    "id": "t_fyYYsHm73z",
    "slideshow": {
     "slide_type": "subslide"
    }
   },
   "source": [
    "### DNN"
   ]
  },
  {
   "cell_type": "code",
   "execution_count": 22,
   "metadata": {
    "colab": {
     "base_uri": "https://localhost:8080/",
     "height": 191
    },
    "colab_type": "code",
    "id": "97A0t7SMvgQ-",
    "outputId": "1e0d588e-720a-4097-bd09-918bf17f04ff",
    "slideshow": {
     "slide_type": "subslide"
    }
   },
   "outputs": [
    {
     "name": "stdout",
     "output_type": "stream",
     "text": [
      "[[ 973    0    0    2    1    0    2    0    1    1]\n",
      " [   0 1122    2    2    0    0    2    1    6    0]\n",
      " [   7    3 1000    5    3    0    3    5    6    0]\n",
      " [   1    1    3  993    0    2    0    4    2    4]\n",
      " [   0    0    4    0  970    0    2    1    1    4]\n",
      " [   4    0    0   21    2  846    5    3    7    4]\n",
      " [   5    3    1    0    6    4  936    0    3    0]\n",
      " [   1    6   11    5    4    0    0  993    2    6]\n",
      " [  15    0    6    9    6    3    4    3  926    2]\n",
      " [   3    2    1    4   13    0    0    4    2  980]]\n"
     ]
    }
   ],
   "source": [
    "# Confusion matrix for dnn model\n",
    "predictions = dnnmodel.predict(Xtestd)\n",
    "pred_labels = np.argmax(predictions, axis=1)\n",
    "true_labels = np.argmax(Ytest,axis=1)\n",
    "print(confusion_matrix(true_labels, pred_labels))"
   ]
  },
  {
   "cell_type": "markdown",
   "metadata": {
    "colab_type": "text",
    "id": "GOmSLMxkm9EZ",
    "slideshow": {
     "slide_type": "subslide"
    }
   },
   "source": [
    "### CNN"
   ]
  },
  {
   "cell_type": "code",
   "execution_count": 23,
   "metadata": {
    "colab": {
     "base_uri": "https://localhost:8080/",
     "height": 191
    },
    "colab_type": "code",
    "id": "R4D8K1hrMRae",
    "outputId": "8eba898f-a181-466a-d95c-eafbafc90827",
    "slideshow": {
     "slide_type": "subslide"
    }
   },
   "outputs": [
    {
     "name": "stdout",
     "output_type": "stream",
     "text": [
      "[[ 976    0    0    0    0    1    1    1    1    0]\n",
      " [   0 1129    2    0    0    0    0    1    1    2]\n",
      " [   0    1 1025    2    0    0    0    3    1    0]\n",
      " [   0    0    0 1006    0    0    0    3    0    1]\n",
      " [   0    0    0    0  963    0    3    0    0   16]\n",
      " [  11    0    0   12    0  865    2    0    2    0]\n",
      " [   5    1    0    0    1    2  946    0    3    0]\n",
      " [   0    2    2    0    0    0    0 1021    1    2]\n",
      " [   2    0    2    1    0    0    0    1  967    1]\n",
      " [   3    0    0    0    6    7    0    2    8  983]]\n"
     ]
    }
   ],
   "source": [
    "# Confusion matrix for cnn model\n",
    "predictions = cnnmodel.predict(Xtestc)\n",
    "pred_labels = np.argmax(predictions, axis=1)\n",
    "true_labels = np.argmax(Ytest,axis=1)\n",
    "print(confusion_matrix(true_labels, pred_labels))"
   ]
  },
  {
   "cell_type": "markdown",
   "metadata": {
    "colab": {},
    "colab_type": "code",
    "id": "gBWydGwPj6KP",
    "slideshow": {
     "slide_type": "slide"
    }
   },
   "source": [
    "<h1><p style=\"text-align: center;\">Thank you for the Patience!</p></h1>"
   ]
  }
 ],
 "metadata": {
  "accelerator": "GPU",
  "celltoolbar": "Slideshow",
  "colab": {
   "collapsed_sections": [],
   "name": "Lab_Session_AIML_DL.ipynb",
   "provenance": []
  },
  "kernelspec": {
   "display_name": "Python 3",
   "language": "python",
   "name": "python3"
  },
  "language_info": {
   "codemirror_mode": {
    "name": "ipython",
    "version": 3
   },
   "file_extension": ".py",
   "mimetype": "text/x-python",
   "name": "python",
   "nbconvert_exporter": "python",
   "pygments_lexer": "ipython3",
   "version": "3.7.4"
  }
 },
 "nbformat": 4,
 "nbformat_minor": 1
}
