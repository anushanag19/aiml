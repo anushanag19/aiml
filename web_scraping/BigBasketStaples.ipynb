{
 "cells": [
  {
   "cell_type": "code",
   "execution_count": 24,
   "metadata": {},
   "outputs": [],
   "source": [
    "import pandas as pd\n",
    "import numpy as np\n",
    "import matplotlib.pyplot as plt\n",
    "import seaborn as sns\n",
    "from re import search\n",
    "\n",
    "%matplotlib inline"
   ]
  },
  {
   "cell_type": "code",
   "execution_count": 25,
   "metadata": {},
   "outputs": [
    {
     "name": "stdout",
     "output_type": "stream",
     "text": [
      "Requirement already up-to-date: selenium in c:\\programdata\\anaconda3\\lib\\site-packages (3.141.0)\n",
      "Requirement already satisfied, skipping upgrade: urllib3 in c:\\programdata\\anaconda3\\lib\\site-packages (from selenium) (1.24.2)\n",
      "Note: you may need to restart the kernel to use updated packages.\n"
     ]
    }
   ],
   "source": [
    "pip install -U selenium"
   ]
  },
  {
   "cell_type": "code",
   "execution_count": 26,
   "metadata": {},
   "outputs": [
    {
     "name": "stdout",
     "output_type": "stream",
     "text": [
      "3.7.4 (default, Aug  9 2019, 18:34:13) [MSC v.1915 64 bit (AMD64)]\n"
     ]
    }
   ],
   "source": [
    "import sys\n",
    "print(sys.version)"
   ]
  },
  {
   "cell_type": "code",
   "execution_count": 28,
   "metadata": {},
   "outputs": [
    {
     "name": "stdout",
     "output_type": "stream",
     "text": [
      "https://www.bigbasket.com/product/get-products/?slug=dals-pulses&page=1&tab_type=[%22all%22]&sorted_on=popularity&listtype=pc\n",
      "https://www.bigbasket.com/product/get-products/?slug=dals-pulses&page=2&tab_type=[%22all%22]&sorted_on=popularity&listtype=pc\n",
      "https://www.bigbasket.com/product/get-products/?slug=dals-pulses&page=3&tab_type=[%22all%22]&sorted_on=popularity&listtype=pc\n",
      "https://www.bigbasket.com/product/get-products/?slug=dals-pulses&page=4&tab_type=[%22all%22]&sorted_on=popularity&listtype=pc\n",
      "https://www.bigbasket.com/product/get-products/?slug=dals-pulses&page=5&tab_type=[%22all%22]&sorted_on=popularity&listtype=pc\n",
      "https://www.bigbasket.com/product/get-products/?slug=dals-pulses&page=6&tab_type=[%22all%22]&sorted_on=popularity&listtype=pc\n",
      "https://www.bigbasket.com/product/get-products/?slug=dals-pulses&page=7&tab_type=[%22all%22]&sorted_on=popularity&listtype=pc\n",
      "https://www.bigbasket.com/product/get-products/?slug=dals-pulses&page=8&tab_type=[%22all%22]&sorted_on=popularity&listtype=pc\n",
      "https://www.bigbasket.com/product/get-products/?slug=dals-pulses&page=9&tab_type=[%22all%22]&sorted_on=popularity&listtype=pc\n",
      "tlcs 254\n",
      "llcn 254\n",
      "brand 254\n",
      "mrp 254\n",
      "sp 254\n",
      "disc 254\n",
      "sku 254\n",
      "desc 254\n",
      "purl 254\n",
      "<class 'pandas.core.frame.DataFrame'>\n",
      "Int64Index: 173 entries, 5 to 247\n",
      "Data columns (total 9 columns):\n",
      "product        173 non-null object\n",
      "category       173 non-null object\n",
      "brand          173 non-null object\n",
      "mrp            173 non-null object\n",
      "sp             173 non-null object\n",
      "discount       173 non-null object\n",
      "sku            173 non-null int64\n",
      "description    173 non-null object\n",
      "url            173 non-null object\n",
      "dtypes: int64(1), object(8)\n",
      "memory usage: 13.5+ KB\n"
     ]
    }
   ],
   "source": [
    "from urllib.request import urlopen\n",
    "from bs4 import BeautifulSoup\n",
    "from http.cookiejar import CookieJar\n",
    "import urllib\n",
    "import urllib.request\n",
    "import html.parser\n",
    "import requests\n",
    "from requests.exceptions import HTTPError\n",
    "from socket import error as SocketError\n",
    "from selenium import webdriver\n",
    "from xml.dom.minidom import parseString\n",
    "import json        \n",
    "import xmlrpc.client\n",
    "\n",
    "base_url=\"https://www.bigbasket.com/product/get-products\"\n",
    "cat_path=\"/?slug=dals-pulses\"\n",
    "page=\"&page=\"\n",
    "qry_prm=\"&tab_type=[%22all%22]&sorted_on=popularity&listtype=pc\"\n",
    "\n",
    "page_vals = [\"1\",\"2\",\"3\",\"4\",\"5\",\"6\",\"7\",\"8\",\"9\"]\n",
    "\n",
    "tlcs  = [] #tlc_s\n",
    "llcn  = [] #llc_n\n",
    "brand = [] #p_brand\n",
    "mrp   = [] #mrp\n",
    "sp    = [] #sp\n",
    "disc  = [] #dis_val\n",
    "sku   = [] #sku\n",
    "desc  = [] #p_desc\n",
    "purl  = [] #absolute_url\n",
    "\n",
    "def append (myjson, index, key):\n",
    "    if key == \"tlc_s\": \n",
    "        tlcs.append(myjson[index])\n",
    "    elif key == \"llc_n\":    \n",
    "        llcn.append(myjson[index])\n",
    "    elif key == \"p_brand\":    \n",
    "        brand.append(myjson[index])\n",
    "    elif key == \"mrp\":    \n",
    "        mrp.append(myjson[index])\n",
    "    elif key == \"sp\":    \n",
    "        sp.append(myjson[index])\n",
    "    elif key == \"dis_val\":    \n",
    "        disc.append(myjson[index])\n",
    "    elif key == \"sku\":    \n",
    "        sku.append(myjson[index])\n",
    "    elif key == \"p_desc\":    \n",
    "        desc.append(myjson[index])\n",
    "    elif key == \"absolute_url\":    \n",
    "        purl.append(myjson[index])\n",
    "\n",
    "def get_all(myjson, key):\n",
    "    if type(myjson) == str:\n",
    "        myjson = json.loads(myjson)\n",
    "    if type(myjson) is dict:\n",
    "        for jsonkey in myjson:\n",
    "            if jsonkey == key:\n",
    "                append (myjson, jsonkey, key)\n",
    "            elif type(myjson[jsonkey]) in (list, dict):\n",
    "                get_all(myjson[jsonkey], key)\n",
    "    elif type(myjson) is list:\n",
    "        for item in myjson:\n",
    "            if item == key:\n",
    "                append (myjson, item, key)\n",
    "            elif type(item) in (list, dict):\n",
    "                get_all(item, key)\n",
    "    \n",
    "for page_index in page_vals: \n",
    "    req_url = base_url+cat_path+page+page_index+qry_prm\n",
    "    print (req_url)\n",
    "    try:\n",
    "        req=urllib.request.Request(req_url)\n",
    "        cj = CookieJar()\n",
    "        opener = urllib.request.build_opener(urllib.request.HTTPCookieProcessor(cj))\n",
    "        req.add_header('User-Agent','Mozilla/5.0')\n",
    "        response = opener.open(req)\n",
    "        p_json = response.read().decode('utf8', errors='ignore')\n",
    "        json_object = get_all (p_json, \"tlc_s\")\n",
    "        json_object = get_all (p_json, \"llc_n\")\n",
    "        json_object = get_all (p_json, \"p_brand\")\n",
    "        json_object = get_all (p_json, \"mrp\")\n",
    "        json_object = get_all (p_json, \"sp\")\n",
    "        json_object = get_all (p_json, \"dis_val\")\n",
    "        json_object = get_all (p_json, \"sku\")\n",
    "        json_object = get_all (p_json, \"p_desc\")\n",
    "        json_object = get_all (p_json, \"absolute_url\")\n",
    "        response.close()\n",
    "    except urllib.request.HTTPError as inst:\n",
    "        output = format(inst)\n",
    "        print(output)\n",
    "    \n",
    "print (\"tlcs\", len(tlcs))\n",
    "print (\"llcn\", len(llcn))\n",
    "print (\"brand\", len(brand))\n",
    "print (\"mrp\", len(mrp))\n",
    "print (\"sp\", len(sp))\n",
    "print (\"disc\", len(disc))\n",
    "print (\"sku\", len(sku))\n",
    "print (\"desc\", len(desc))\n",
    "print (\"purl\", len(purl))\n",
    "\n",
    "\n",
    "df = pd.DataFrame()\n",
    "df[\"product\"] = pd.Series(tlcs)\n",
    "df[\"category\"] = pd.Series(llcn)\n",
    "df[\"brand\"] = pd.Series(brand)\n",
    "df[\"mrp\"] = pd.Series(mrp)\n",
    "df[\"sp\"] = pd.Series(sp)\n",
    "df[\"discount\"] = pd.Series(disc)\n",
    "df[\"sku\"] = pd.Series(sku)\n",
    "df[\"description\"] = pd.Series(desc)\n",
    "df[\"url\"] = pd.Series(purl)\n",
    "\n",
    "df.drop (df[df['product'] != 'foodgrains-oil-masala'].index, inplace=True)\n",
    "df.info()\n",
    "df.to_csv('BigBasketStaples.csv')"
   ]
  },
  {
   "cell_type": "markdown",
   "metadata": {},
   "source": [
    "### DATA CLEANING"
   ]
  },
  {
   "cell_type": "code",
   "execution_count": 29,
   "metadata": {
    "scrolled": true
   },
   "outputs": [
    {
     "name": "stdout",
     "output_type": "stream",
     "text": [
      "<class 'pandas.core.frame.DataFrame'>\n",
      "Int64Index: 173 entries, 5 to 247\n",
      "Data columns (total 9 columns):\n",
      "product        173 non-null object\n",
      "category       173 non-null object\n",
      "brand          173 non-null object\n",
      "mrp            173 non-null object\n",
      "sp             173 non-null object\n",
      "discount       173 non-null object\n",
      "sku            173 non-null int64\n",
      "description    173 non-null object\n",
      "url            173 non-null object\n",
      "dtypes: int64(1), object(8)\n",
      "memory usage: 13.5+ KB\n"
     ]
    }
   ],
   "source": [
    "df.info()"
   ]
  },
  {
   "cell_type": "code",
   "execution_count": 30,
   "metadata": {},
   "outputs": [
    {
     "data": {
      "text/plain": [
       "Index(['product', 'category', 'brand', 'mrp', 'sp', 'discount', 'sku',\n",
       "       'description', 'url'],\n",
       "      dtype='object')"
      ]
     },
     "execution_count": 30,
     "metadata": {},
     "output_type": "execute_result"
    }
   ],
   "source": [
    "df.columns"
   ]
  },
  {
   "cell_type": "code",
   "execution_count": 31,
   "metadata": {},
   "outputs": [
    {
     "data": {
      "text/html": [
       "<div>\n",
       "<style scoped>\n",
       "    .dataframe tbody tr th:only-of-type {\n",
       "        vertical-align: middle;\n",
       "    }\n",
       "\n",
       "    .dataframe tbody tr th {\n",
       "        vertical-align: top;\n",
       "    }\n",
       "\n",
       "    .dataframe thead th {\n",
       "        text-align: right;\n",
       "    }\n",
       "</style>\n",
       "<table border=\"1\" class=\"dataframe\">\n",
       "  <thead>\n",
       "    <tr style=\"text-align: right;\">\n",
       "      <th></th>\n",
       "      <th>product</th>\n",
       "      <th>category</th>\n",
       "      <th>brand</th>\n",
       "      <th>mrp</th>\n",
       "      <th>sp</th>\n",
       "      <th>discount</th>\n",
       "      <th>sku</th>\n",
       "      <th>description</th>\n",
       "      <th>url</th>\n",
       "    </tr>\n",
       "  </thead>\n",
       "  <tbody>\n",
       "    <tr>\n",
       "      <td>5</td>\n",
       "      <td>foodgrains-oil-masala</td>\n",
       "      <td>Sugar &amp; Jaggery</td>\n",
       "      <td>bb Popular</td>\n",
       "      <td>275.00</td>\n",
       "      <td>216.00</td>\n",
       "      <td>21</td>\n",
       "      <td>30005417</td>\n",
       "      <td>Sugar</td>\n",
       "      <td>/pd/30005417/bb-popular-sugar-5-kg/</td>\n",
       "    </tr>\n",
       "    <tr>\n",
       "      <td>6</td>\n",
       "      <td>foodgrains-oil-masala</td>\n",
       "      <td>Sugar &amp; Jaggery</td>\n",
       "      <td>bb Popular</td>\n",
       "      <td>55.00</td>\n",
       "      <td>45.00</td>\n",
       "      <td>18</td>\n",
       "      <td>40019396</td>\n",
       "      <td>Sugar</td>\n",
       "      <td>/pd/40019396/bb-popular-sugar-1-kg/</td>\n",
       "    </tr>\n",
       "    <tr>\n",
       "      <td>7</td>\n",
       "      <td>foodgrains-oil-masala</td>\n",
       "      <td>Sugar &amp; Jaggery</td>\n",
       "      <td>bb Popular</td>\n",
       "      <td>110.00</td>\n",
       "      <td>89.00</td>\n",
       "      <td>19</td>\n",
       "      <td>40019397</td>\n",
       "      <td>Sugar</td>\n",
       "      <td>/pd/40019397/bb-popular-sugar-2-kg/</td>\n",
       "    </tr>\n",
       "    <tr>\n",
       "      <td>8</td>\n",
       "      <td>foodgrains-oil-masala</td>\n",
       "      <td>Sugar &amp; Jaggery</td>\n",
       "      <td>bb Popular</td>\n",
       "      <td>275.00</td>\n",
       "      <td>216.00</td>\n",
       "      <td>21</td>\n",
       "      <td>30005417</td>\n",
       "      <td>Sugar</td>\n",
       "      <td>/pd/30005417/bb-popular-sugar-5-kg/</td>\n",
       "    </tr>\n",
       "    <tr>\n",
       "      <td>31</td>\n",
       "      <td>foodgrains-oil-masala</td>\n",
       "      <td>Atta Whole Wheat</td>\n",
       "      <td>Aashirvaad</td>\n",
       "      <td>490.00</td>\n",
       "      <td>412.00</td>\n",
       "      <td>16</td>\n",
       "      <td>126906</td>\n",
       "      <td>Atta - Whole Wheat</td>\n",
       "      <td>/pd/126906/aashirvaad-atta-whole-wheat-10-kg-p...</td>\n",
       "    </tr>\n",
       "  </tbody>\n",
       "</table>\n",
       "</div>"
      ],
      "text/plain": [
       "                  product          category       brand     mrp      sp  \\\n",
       "5   foodgrains-oil-masala   Sugar & Jaggery  bb Popular  275.00  216.00   \n",
       "6   foodgrains-oil-masala   Sugar & Jaggery  bb Popular   55.00   45.00   \n",
       "7   foodgrains-oil-masala   Sugar & Jaggery  bb Popular  110.00   89.00   \n",
       "8   foodgrains-oil-masala   Sugar & Jaggery  bb Popular  275.00  216.00   \n",
       "31  foodgrains-oil-masala  Atta Whole Wheat  Aashirvaad  490.00  412.00   \n",
       "\n",
       "   discount       sku         description  \\\n",
       "5        21  30005417               Sugar   \n",
       "6        18  40019396               Sugar   \n",
       "7        19  40019397               Sugar   \n",
       "8        21  30005417               Sugar   \n",
       "31       16    126906  Atta - Whole Wheat   \n",
       "\n",
       "                                                  url  \n",
       "5                 /pd/30005417/bb-popular-sugar-5-kg/  \n",
       "6                 /pd/40019396/bb-popular-sugar-1-kg/  \n",
       "7                 /pd/40019397/bb-popular-sugar-2-kg/  \n",
       "8                 /pd/30005417/bb-popular-sugar-5-kg/  \n",
       "31  /pd/126906/aashirvaad-atta-whole-wheat-10-kg-p...  "
      ]
     },
     "execution_count": 31,
     "metadata": {},
     "output_type": "execute_result"
    }
   ],
   "source": [
    "df.head()"
   ]
  },
  {
   "cell_type": "code",
   "execution_count": 32,
   "metadata": {},
   "outputs": [],
   "source": [
    "#Dropping columns that dont mean much for us here. Dropping sku\n",
    "df.drop('sku', axis=1, inplace=True)\n"
   ]
  },
  {
   "cell_type": "code",
   "execution_count": 33,
   "metadata": {},
   "outputs": [
    {
     "data": {
      "text/html": [
       "<div>\n",
       "<style scoped>\n",
       "    .dataframe tbody tr th:only-of-type {\n",
       "        vertical-align: middle;\n",
       "    }\n",
       "\n",
       "    .dataframe tbody tr th {\n",
       "        vertical-align: top;\n",
       "    }\n",
       "\n",
       "    .dataframe thead th {\n",
       "        text-align: right;\n",
       "    }\n",
       "</style>\n",
       "<table border=\"1\" class=\"dataframe\">\n",
       "  <thead>\n",
       "    <tr style=\"text-align: right;\">\n",
       "      <th></th>\n",
       "      <th>product</th>\n",
       "      <th>category</th>\n",
       "      <th>brand</th>\n",
       "      <th>mrp</th>\n",
       "      <th>sp</th>\n",
       "      <th>discount</th>\n",
       "      <th>description</th>\n",
       "      <th>url</th>\n",
       "    </tr>\n",
       "  </thead>\n",
       "  <tbody>\n",
       "    <tr>\n",
       "      <td>5</td>\n",
       "      <td>foodgrains-oil-masala</td>\n",
       "      <td>Sugar &amp; Jaggery</td>\n",
       "      <td>bb Popular</td>\n",
       "      <td>275.00</td>\n",
       "      <td>216.00</td>\n",
       "      <td>21</td>\n",
       "      <td>Sugar</td>\n",
       "      <td>/pd/30005417/bb-popular-sugar-5-kg/</td>\n",
       "    </tr>\n",
       "    <tr>\n",
       "      <td>6</td>\n",
       "      <td>foodgrains-oil-masala</td>\n",
       "      <td>Sugar &amp; Jaggery</td>\n",
       "      <td>bb Popular</td>\n",
       "      <td>55.00</td>\n",
       "      <td>45.00</td>\n",
       "      <td>18</td>\n",
       "      <td>Sugar</td>\n",
       "      <td>/pd/40019396/bb-popular-sugar-1-kg/</td>\n",
       "    </tr>\n",
       "    <tr>\n",
       "      <td>7</td>\n",
       "      <td>foodgrains-oil-masala</td>\n",
       "      <td>Sugar &amp; Jaggery</td>\n",
       "      <td>bb Popular</td>\n",
       "      <td>110.00</td>\n",
       "      <td>89.00</td>\n",
       "      <td>19</td>\n",
       "      <td>Sugar</td>\n",
       "      <td>/pd/40019397/bb-popular-sugar-2-kg/</td>\n",
       "    </tr>\n",
       "  </tbody>\n",
       "</table>\n",
       "</div>"
      ],
      "text/plain": [
       "                 product         category       brand     mrp      sp  \\\n",
       "5  foodgrains-oil-masala  Sugar & Jaggery  bb Popular  275.00  216.00   \n",
       "6  foodgrains-oil-masala  Sugar & Jaggery  bb Popular   55.00   45.00   \n",
       "7  foodgrains-oil-masala  Sugar & Jaggery  bb Popular  110.00   89.00   \n",
       "\n",
       "  discount description                                  url  \n",
       "5       21       Sugar  /pd/30005417/bb-popular-sugar-5-kg/  \n",
       "6       18       Sugar  /pd/40019396/bb-popular-sugar-1-kg/  \n",
       "7       19       Sugar  /pd/40019397/bb-popular-sugar-2-kg/  "
      ]
     },
     "execution_count": 33,
     "metadata": {},
     "output_type": "execute_result"
    }
   ],
   "source": [
    "df.head(3)"
   ]
  },
  {
   "cell_type": "code",
   "execution_count": 34,
   "metadata": {},
   "outputs": [
    {
     "data": {
      "text/plain": [
       "Index(['product', 'category', 'brand', 'mrp', 'sp', 'discount', 'description',\n",
       "       'url'],\n",
       "      dtype='object')"
      ]
     },
     "execution_count": 34,
     "metadata": {},
     "output_type": "execute_result"
    }
   ],
   "source": [
    "df.columns"
   ]
  },
  {
   "cell_type": "code",
   "execution_count": 35,
   "metadata": {},
   "outputs": [],
   "source": [
    "df.columns=['Product', 'Category', 'Brand', 'MRP', 'ActualPrice', 'Discount', 'ProductDesc','Url']"
   ]
  },
  {
   "cell_type": "code",
   "execution_count": 36,
   "metadata": {},
   "outputs": [],
   "source": [
    "#From Url column deriving Product Quantity\n",
    "df=df[~df.Url.str.contains(\"combo\", na=False)]"
   ]
  },
  {
   "cell_type": "code",
   "execution_count": 37,
   "metadata": {},
   "outputs": [],
   "source": [
    "def getQtforPcs(qt):\n",
    "    array=qt.split('x')\n",
    "    array = [int(i) for i in array] \n",
    "    return np.prod(array)"
   ]
  },
  {
   "cell_type": "code",
   "execution_count": 39,
   "metadata": {},
   "outputs": [],
   "source": [
    "def getQuantity(x):\n",
    "    array = x.split('/')\n",
    "    qttemp=array[3].split('-')\n",
    "    size=len(qttemp)\n",
    "    wt=qttemp[size-1]\n",
    "    qt=qttemp[size-2]\n",
    "    if(wt=='kg' or wt=='gm' or wt=='g'):\n",
    "            if(wt=='g'):\n",
    "                return qt+'gm'\n",
    "            else:\n",
    "                return qt+wt\n",
    "    elif(wt=='pouch' or wt=='bag'):\n",
    "        return qttemp[size-3]+qttemp[size-2]\n",
    "    \n",
    "df['Quantity'] = df['Url'].apply(lambda x: getQuantity(x))"
   ]
  },
  {
   "cell_type": "code",
   "execution_count": 40,
   "metadata": {},
   "outputs": [
    {
     "name": "stdout",
     "output_type": "stream",
     "text": [
      "<class 'pandas.core.frame.DataFrame'>\n",
      "Int64Index: 165 entries, 5 to 247\n",
      "Data columns (total 9 columns):\n",
      "Product        165 non-null object\n",
      "Category       165 non-null object\n",
      "Brand          165 non-null object\n",
      "MRP            165 non-null object\n",
      "ActualPrice    165 non-null object\n",
      "Discount       165 non-null object\n",
      "ProductDesc    165 non-null object\n",
      "Url            165 non-null object\n",
      "Quantity       160 non-null object\n",
      "dtypes: object(9)\n",
      "memory usage: 12.9+ KB\n"
     ]
    }
   ],
   "source": [
    "df.info()"
   ]
  },
  {
   "cell_type": "code",
   "execution_count": 41,
   "metadata": {},
   "outputs": [
    {
     "name": "stdout",
     "output_type": "stream",
     "text": [
      "Product        0\n",
      "Category       0\n",
      "Brand          0\n",
      "MRP            0\n",
      "ActualPrice    0\n",
      "Discount       0\n",
      "ProductDesc    0\n",
      "Url            0\n",
      "Quantity       5\n",
      "dtype: int64\n"
     ]
    }
   ],
   "source": [
    "print(df.isnull().sum())"
   ]
  },
  {
   "cell_type": "code",
   "execution_count": 17,
   "metadata": {},
   "outputs": [
    {
     "name": "stdout",
     "output_type": "stream",
     "text": [
      "5        5kg\n",
      "6        1kg\n",
      "7        2kg\n",
      "8        5kg\n",
      "31      None\n",
      "32      None\n",
      "33      None\n",
      "58      None\n",
      "59      None\n",
      "60      None\n",
      "77     500gm\n",
      "78       1kg\n",
      "79       1kg\n",
      "80       1kg\n",
      "81       2kg\n",
      "82     500gm\n",
      "83       1kg\n",
      "84      None\n",
      "85      None\n",
      "86      None\n",
      "88      None\n",
      "89       1kg\n",
      "90       1kg\n",
      "91     500gm\n",
      "92     500gm\n",
      "93      None\n",
      "94      None\n",
      "95      None\n",
      "96      None\n",
      "97      None\n",
      "98      None\n",
      "99      None\n",
      "100     None\n",
      "101     None\n",
      "102     None\n",
      "103     None\n",
      "104     None\n",
      "105     None\n",
      "106     None\n",
      "107      1kg\n",
      "108     None\n",
      "109     None\n",
      "110     None\n",
      "111     None\n",
      "112      2kg\n",
      "113      1kg\n",
      "114      2kg\n",
      "116     None\n",
      "117      1kg\n",
      "118    500gm\n",
      "119    500gm\n",
      "120     None\n",
      "121      1kg\n",
      "122    500gm\n",
      "123      2kg\n",
      "124      1kg\n",
      "125      1kg\n",
      "126     None\n",
      "127     None\n",
      "128     None\n",
      "129     None\n",
      "130     None\n",
      "131      1kg\n",
      "132      2kg\n",
      "133      1kg\n",
      "134     None\n",
      "135     None\n",
      "136     None\n",
      "137    500gm\n",
      "138     None\n",
      "139     None\n",
      "140     None\n",
      "141     None\n",
      "142     None\n",
      "143     None\n",
      "144     None\n",
      "145     None\n",
      "146     None\n",
      "147      1kg\n",
      "148      1kg\n",
      "149      2kg\n",
      "150      5kg\n",
      "151      5kg\n",
      "152      1kg\n",
      "153     None\n",
      "154    500gm\n",
      "155    200gm\n",
      "156    500gm\n",
      "157     None\n",
      "158      1kg\n",
      "159    500gm\n",
      "160      1kg\n",
      "161      1kg\n",
      "162      2kg\n",
      "163    500gm\n",
      "164    500gm\n",
      "165    500gm\n",
      "166      2kg\n",
      "167    500gm\n",
      "168      1kg\n",
      "169      1kg\n",
      "170     None\n",
      "172      1kg\n",
      "173     None\n",
      "174     None\n",
      "175     None\n",
      "176     None\n",
      "177     None\n",
      "178    500gm\n",
      "179     None\n",
      "180    200gm\n",
      "181    500gm\n",
      "182     None\n",
      "183     None\n",
      "184    500gm\n",
      "185     None\n",
      "186      1kg\n",
      "187      1kg\n",
      "188    200gm\n",
      "189    500gm\n",
      "190    500gm\n",
      "191     None\n",
      "192      1kg\n",
      "193    200gm\n",
      "194    500gm\n",
      "195     None\n",
      "196     None\n",
      "197     23gm\n",
      "198      1kg\n",
      "199    500gm\n",
      "200      1kg\n",
      "201    500gm\n",
      "202    500gm\n",
      "203    500gm\n",
      "204    500gm\n",
      "205    500gm\n",
      "206    500gm\n",
      "207    500gm\n",
      "208    500gm\n",
      "209    500gm\n",
      "210    500gm\n",
      "211    500gm\n",
      "212    500gm\n",
      "225      1kg\n",
      "226     None\n",
      "227     None\n",
      "228     None\n",
      "229      2kg\n",
      "231     None\n",
      "232    500gm\n",
      "233     None\n",
      "234     None\n",
      "235     None\n",
      "236    500gm\n",
      "237    500gm\n",
      "238    500gm\n",
      "239    200gm\n",
      "240    500gm\n",
      "241     None\n",
      "242     None\n",
      "243    500gm\n",
      "244      1kg\n",
      "245      1kg\n",
      "246    500gm\n",
      "247      1kg\n",
      "Name: Quantity, dtype: object\n"
     ]
    }
   ],
   "source": [
    "with pd.option_context('display.max_rows', None, 'display.max_columns', None):  # more options can be specified also\n",
    "    print(df['Quantity'])"
   ]
  },
  {
   "cell_type": "code",
   "execution_count": 18,
   "metadata": {},
   "outputs": [],
   "source": [
    "#Dropping whenever quantity is a combo. As we cant compare combos accross website and provide recommendation.\n",
    "#Combos can be of any variety, itll be too complex to compare combos."
   ]
  },
  {
   "cell_type": "code",
   "execution_count": 19,
   "metadata": {},
   "outputs": [],
   "source": [
    "#df=df[~df.Url.str.contains(\"combo\", na=False)]"
   ]
  },
  {
   "cell_type": "code",
   "execution_count": 20,
   "metadata": {},
   "outputs": [
    {
     "name": "stdout",
     "output_type": "stream",
     "text": [
      "<class 'pandas.core.frame.DataFrame'>\n",
      "Int64Index: 165 entries, 5 to 247\n",
      "Data columns (total 9 columns):\n",
      "Product        165 non-null object\n",
      "Category       165 non-null object\n",
      "Brand          165 non-null object\n",
      "MRP            165 non-null object\n",
      "ActualPrice    165 non-null object\n",
      "Discount       165 non-null object\n",
      "ProductDesc    165 non-null object\n",
      "Url            165 non-null object\n",
      "Quantity       94 non-null object\n",
      "dtypes: object(9)\n",
      "memory usage: 12.9+ KB\n"
     ]
    }
   ],
   "source": [
    "df.info()"
   ]
  },
  {
   "cell_type": "code",
   "execution_count": 21,
   "metadata": {},
   "outputs": [],
   "source": [
    "str1='5x3'\n",
    "array=str1.split('x')"
   ]
  },
  {
   "cell_type": "code",
   "execution_count": 22,
   "metadata": {},
   "outputs": [
    {
     "data": {
      "text/plain": [
       "['5', '3']"
      ]
     },
     "execution_count": 22,
     "metadata": {},
     "output_type": "execute_result"
    }
   ],
   "source": [
    "array"
   ]
  },
  {
   "cell_type": "code",
   "execution_count": 23,
   "metadata": {},
   "outputs": [
    {
     "data": {
      "text/plain": [
       "144"
      ]
     },
     "execution_count": 23,
     "metadata": {},
     "output_type": "execute_result"
    }
   ],
   "source": [
    "import numpy as np\n",
    "mylist = [ 2, 3, 4, 6] \n",
    "result = np.prod(np.array(mylist))  \n",
    "result"
   ]
  },
  {
   "cell_type": "code",
   "execution_count": null,
   "metadata": {},
   "outputs": [],
   "source": []
  }
 ],
 "metadata": {
  "kernelspec": {
   "display_name": "Python 3",
   "language": "python",
   "name": "python3"
  },
  "language_info": {
   "codemirror_mode": {
    "name": "ipython",
    "version": 3
   },
   "file_extension": ".py",
   "mimetype": "text/x-python",
   "name": "python",
   "nbconvert_exporter": "python",
   "pygments_lexer": "ipython3",
   "version": "3.7.4"
  }
 },
 "nbformat": 4,
 "nbformat_minor": 4
}
