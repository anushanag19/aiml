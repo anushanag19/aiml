{
 "cells": [
  {
   "cell_type": "markdown",
   "metadata": {},
   "source": [
    "# FE Assignment2 Question2"
   ]
  },
  {
   "cell_type": "markdown",
   "metadata": {},
   "source": [
    "### (B)\tTAKE THE IRIS DATA SET, OBTAINED FROM THE UNIVERSITY OF CALIFORNIA-IRVINE MACHINE LEARNING REPOSITORY (LINK PROVIDED IN THE REFERENCE SECTION), AS A DATA SET TO BE DISCRETIZED. PERFORM DATA DISCRETIZATION FOR EACH OF FOUR NUMERIC ATTRIBUTE USING CHIMERGE METHOD. (LET THE STOPPING CRITERIA BE: MAX-INTERVAL 6). YOU NEED TO WRITE A SMALL PYTHON PROGRAM RO DO THIS TO AVOID CLUMSY NUMERICAL COMPUTATIONS. SUBMIT YOUR SIMPLE ANALYSIS AND YOUR TEST RESULTS: SPLIT-POINTS, FINAL INTERVALS AND THE WELL DOCUMENTED SOURCE PROGRAM IN PYTHON JUPYTER NOTEBOOK.                                                                                                                                 [8]"
   ]
  },
  {
   "cell_type": "code",
   "execution_count": 4,
   "metadata": {},
   "outputs": [],
   "source": [
    "#import necessary libraries\n",
    "import pandas as pd\n",
    "from collections import Counter\n",
    "import numpy as np\n"
   ]
  },
  {
   "cell_type": "code",
   "execution_count": 7,
   "metadata": {
    "scrolled": true
   },
   "outputs": [
    {
     "name": "stdout",
     "output_type": "stream",
     "text": [
      "<class 'pandas.core.frame.DataFrame'>\n",
      "RangeIndex: 150 entries, 0 to 149\n",
      "Data columns (total 5 columns):\n",
      "0    150 non-null float64\n",
      "1    150 non-null float64\n",
      "2    150 non-null float64\n",
      "3    150 non-null float64\n",
      "4    150 non-null object\n",
      "dtypes: float64(4), object(1)\n",
      "memory usage: 6.0+ KB\n"
     ]
    }
   ],
   "source": [
    "#Read the iris dataset into pandas dataframe with headers off as this data file has no headers\n",
    "iris = pd.read_csv('http://archive.ics.uci.edu/ml/machine-learning-databases/iris/iris.data', header=None)\n",
    "iris.info()"
   ]
  },
  {
   "cell_type": "markdown",
   "metadata": {},
   "source": [
    "###### Assigning column names to Iris data"
   ]
  },
  {
   "cell_type": "code",
   "execution_count": 8,
   "metadata": {},
   "outputs": [],
   "source": [
    "iris.columns = ['sepal_l', 'sepal_w', 'petal_l', 'petal_w', 'type']"
   ]
  },
  {
   "cell_type": "code",
   "execution_count": 9,
   "metadata": {},
   "outputs": [
    {
     "data": {
      "text/html": [
       "<div>\n",
       "<style scoped>\n",
       "    .dataframe tbody tr th:only-of-type {\n",
       "        vertical-align: middle;\n",
       "    }\n",
       "\n",
       "    .dataframe tbody tr th {\n",
       "        vertical-align: top;\n",
       "    }\n",
       "\n",
       "    .dataframe thead th {\n",
       "        text-align: right;\n",
       "    }\n",
       "</style>\n",
       "<table border=\"1\" class=\"dataframe\">\n",
       "  <thead>\n",
       "    <tr style=\"text-align: right;\">\n",
       "      <th></th>\n",
       "      <th>sepal_l</th>\n",
       "      <th>sepal_w</th>\n",
       "      <th>petal_l</th>\n",
       "      <th>petal_w</th>\n",
       "      <th>type</th>\n",
       "    </tr>\n",
       "  </thead>\n",
       "  <tbody>\n",
       "    <tr>\n",
       "      <td>0</td>\n",
       "      <td>5.1</td>\n",
       "      <td>3.5</td>\n",
       "      <td>1.4</td>\n",
       "      <td>0.2</td>\n",
       "      <td>Iris-setosa</td>\n",
       "    </tr>\n",
       "    <tr>\n",
       "      <td>1</td>\n",
       "      <td>4.9</td>\n",
       "      <td>3.0</td>\n",
       "      <td>1.4</td>\n",
       "      <td>0.2</td>\n",
       "      <td>Iris-setosa</td>\n",
       "    </tr>\n",
       "    <tr>\n",
       "      <td>2</td>\n",
       "      <td>4.7</td>\n",
       "      <td>3.2</td>\n",
       "      <td>1.3</td>\n",
       "      <td>0.2</td>\n",
       "      <td>Iris-setosa</td>\n",
       "    </tr>\n",
       "    <tr>\n",
       "      <td>3</td>\n",
       "      <td>4.6</td>\n",
       "      <td>3.1</td>\n",
       "      <td>1.5</td>\n",
       "      <td>0.2</td>\n",
       "      <td>Iris-setosa</td>\n",
       "    </tr>\n",
       "    <tr>\n",
       "      <td>4</td>\n",
       "      <td>5.0</td>\n",
       "      <td>3.6</td>\n",
       "      <td>1.4</td>\n",
       "      <td>0.2</td>\n",
       "      <td>Iris-setosa</td>\n",
       "    </tr>\n",
       "  </tbody>\n",
       "</table>\n",
       "</div>"
      ],
      "text/plain": [
       "   sepal_l  sepal_w  petal_l  petal_w         type\n",
       "0      5.1      3.5      1.4      0.2  Iris-setosa\n",
       "1      4.9      3.0      1.4      0.2  Iris-setosa\n",
       "2      4.7      3.2      1.3      0.2  Iris-setosa\n",
       "3      4.6      3.1      1.5      0.2  Iris-setosa\n",
       "4      5.0      3.6      1.4      0.2  Iris-setosa"
      ]
     },
     "execution_count": 9,
     "metadata": {},
     "output_type": "execute_result"
    }
   ],
   "source": [
    "iris.head(5)"
   ]
  },
  {
   "cell_type": "markdown",
   "metadata": {},
   "source": [
    "#Chimerge algorithm\n",
    "1. Sort the distinct feature values\n",
    "2. Form intervals for each distinct value in the sorted distinct feature list.\n",
    "3. Check if num of intervals > max_intervals(6) then go to step 4. Else Step 12.\n",
    "4. Calculate the occurrences of the class label for each interval created in Step2. This is observed values\n",
    "5. Calculate expected values for each interval.\n",
    "6. Calculate chi square value using observed (Step3) and expected (Step4)) values for each interval.\n",
    "7. Repeat step 3,4,5 till for all the intervals created in Step2.\n",
    "8. Once Chi square values are calculated for all intervals, find mininum chi square value.\n",
    "9. Create new intervals: Copy existing intervals from Step 2 for all expect for the interval with mininum chi square.\n",
    "   For minimum chi square interval, form a new interval by combining it with next interval and add it to the new intervals.\n",
    "10. Repeat Step 8 till all intervals are added to new intervals. We get New merged intervals for next Iteration.\n",
    "11. Go to Step 3.\n",
    "12. Repeat Step 1 to 11 for other features."
   ]
  },
  {
   "cell_type": "code",
   "execution_count": 10,
   "metadata": {},
   "outputs": [],
   "source": [
    "def chimerge(data, attr, label, max_intervals):\n",
    "    #In case of division by zero, ignore the error\n",
    "    np.seterr(divide='ignore', invalid='ignore')\n",
    "    \n",
    "    #1.Sort the distinct feature values\n",
    "    distinct_vals = sorted(set(data[attr]))  \n",
    "    \n",
    "    #Get the distinct sorted labels\n",
    "    labels = sorted(set(data[label]))  \n",
    "    \n",
    "    #A dictionary of counts for each label\n",
    "    empty_count = {l: 0 for l in labels}  \n",
    "    \n",
    "    # 2.Form intervals for each distinct value in the sorted distinct feature list.\n",
    "    intervals = [[distinct_vals[i], distinct_vals[i]] for i in range(len(distinct_vals))] \n",
    " \n",
    "    # 3. Keep applying chimerge process as long as we reach the max_intervals condition\n",
    "    while len(intervals) > max_intervals:\n",
    "        \n",
    "        #Array to hold the chi values for this iteration\n",
    "        chi = []\n",
    "        \n",
    "        #Calculate chi values for each consecutive intervals in this iteration\n",
    "        for i in range(len(intervals)-1):\n",
    "            \n",
    "            # 4.Calculate the occurrences of the class label for each interval created in Step2. This is observed values\n",
    "            obs0 = data[data[attr].between(intervals[i][0], intervals[i][1])]\n",
    "            obs1 = data[data[attr].between(intervals[i+1][0], intervals[i+1][1])]\n",
    "            total = len(obs0) + len(obs1)\n",
    "            \n",
    "            #Count the values for each label for given attribute\n",
    "            count_0 = np.array([v for i, v in {**empty_count, **Counter(obs0[label])}.items()])\n",
    "            count_1 = np.array([v for i, v in {**empty_count, **Counter(obs1[label])}.items()])\n",
    "            count_total = count_0 + count_1\n",
    "            \n",
    "            # 5. Calculate expected values for each interval.\n",
    "            expected_0 = count_total*sum(count_0)/total\n",
    "            expected_1 = count_total*sum(count_1)/total\n",
    "  \n",
    "            # 6.Calculate chi square value using observed (Step3) and expected (Step4)) values for each interval.\n",
    "            chi_ = (count_0 - expected_0)**2/expected_0 + (count_1 - expected_1)**2/expected_1\n",
    "            chi_ = np.nan_to_num(chi_) # Deal with the zero counts\n",
    "            \n",
    "            # Finally do the summation for Chi2 and append it to list of chi values\n",
    "            chi.append(sum(chi_)) \n",
    "            \n",
    "        \n",
    "        #8. Once Chi square values are calculated for all intervals, find mininum chi square value.\n",
    "        min_chi = min(chi)  \n",
    " \n",
    "        #Find the first index with minumum chi\n",
    "        for i, v in enumerate(chi):\n",
    "            if v == min_chi:\n",
    "                min_chi_index = i # Find the index of the interval to be merged\n",
    "                break\n",
    "                \n",
    "        \n",
    "        # 9. Create new intervals: Copy existing intervals from Step 2 for all expect for the interval with mininum chi square. \n",
    "        #For minimum chi square interval, form a new interval by combining it with next interval and add it to the new intervals.\n",
    "        new_intervals = [] \n",
    "        skip = False\n",
    "        done = False\n",
    "        \n",
    "        #Merge the intervals found at min_chi_index with next interval\n",
    "        for i in range(len(intervals)):\n",
    "            if skip:\n",
    "                skip = False\n",
    "                continue\n",
    "            if i == min_chi_index and not done: #For minimum chi square interval, form a new interval by combining it with next interval and add it to the new intervals\n",
    "                t = intervals[i] + intervals[i+1]\n",
    "                new_intervals.append([min(t), max(t)])\n",
    "                skip = True\n",
    "                done = True\n",
    "            else:\n",
    "                new_intervals.append(intervals[i])\n",
    "        \n",
    "        #Start the chimerge with new set of merged intervals\n",
    "        intervals = new_intervals\n",
    "    \n",
    "    #Print split points for the given attribute\n",
    "    print('\\nSplit points for',attr)\n",
    "    for i in intervals:\n",
    "        print(i[0])\n",
    "        \n",
    "    #print intervals for the given attribute\n",
    "    print('Intervals for', attr)\n",
    "    \n",
    "    for i in intervals:\n",
    "        print('[', i[0], ',', i[1], ']', sep='')\n",
    "        "
   ]
  },
  {
   "cell_type": "markdown",
   "metadata": {},
   "source": [
    "#12. Perform chimerge and get final intervals on each feature with stopping criteria as maximum 6 intervals"
   ]
  },
  {
   "cell_type": "code",
   "execution_count": 15,
   "metadata": {},
   "outputs": [
    {
     "name": "stdout",
     "output_type": "stream",
     "text": [
      "\n",
      "Split points for sepal_l\n",
      "4.3\n",
      "4.9\n",
      "5.0\n",
      "5.5\n",
      "5.8\n",
      "7.1\n",
      "Intervals for sepal_l\n",
      "[4.3,4.8]\n",
      "[4.9,4.9]\n",
      "[5.0,5.4]\n",
      "[5.5,5.7]\n",
      "[5.8,7.0]\n",
      "[7.1,7.9]\n",
      "\n",
      "Split points for sepal_w\n",
      "2.0\n",
      "2.3\n",
      "2.5\n",
      "2.9\n",
      "3.0\n",
      "3.4\n",
      "Intervals for sepal_w\n",
      "[2.0,2.2]\n",
      "[2.3,2.4]\n",
      "[2.5,2.8]\n",
      "[2.9,2.9]\n",
      "[3.0,3.3]\n",
      "[3.4,4.4]\n",
      "\n",
      "Split points for petal_l\n",
      "1.0\n",
      "3.0\n",
      "4.5\n",
      "4.8\n",
      "5.0\n",
      "5.2\n",
      "Intervals for petal_l\n",
      "[1.0,1.9]\n",
      "[3.0,4.4]\n",
      "[4.5,4.7]\n",
      "[4.8,4.9]\n",
      "[5.0,5.1]\n",
      "[5.2,6.9]\n",
      "\n",
      "Split points for petal_w\n",
      "0.1\n",
      "1.0\n",
      "1.4\n",
      "1.7\n",
      "1.8\n",
      "1.9\n",
      "Intervals for petal_w\n",
      "[0.1,0.6]\n",
      "[1.0,1.3]\n",
      "[1.4,1.6]\n",
      "[1.7,1.7]\n",
      "[1.8,1.8]\n",
      "[1.9,2.5]\n"
     ]
    }
   ],
   "source": [
    "for attr in ['sepal_l','sepal_w', 'petal_l', 'petal_w']:\n",
    "    chimerge(data=iris, attr=attr, label='type', max_intervals=6)"
   ]
  },
  {
   "cell_type": "code",
   "execution_count": 18,
   "metadata": {},
   "outputs": [
    {
     "name": "stdout",
     "output_type": "stream",
     "text": [
      "Final intervals for each feature where merging is stopped at 6 and their respective split points are printed above!\n"
     ]
    }
   ],
   "source": [
    "print(\"Final intervals for each feature where merging is stopped at 6 and their respective split points are printed above!\")"
   ]
  }
 ],
 "metadata": {
  "kernelspec": {
   "display_name": "Python 3",
   "language": "python",
   "name": "python3"
  },
  "language_info": {
   "codemirror_mode": {
    "name": "ipython",
    "version": 3
   },
   "file_extension": ".py",
   "mimetype": "text/x-python",
   "name": "python",
   "nbconvert_exporter": "python",
   "pygments_lexer": "ipython3",
   "version": "3.7.4"
  },
  "toc": {
   "base_numbering": 1,
   "nav_menu": {},
   "number_sections": true,
   "sideBar": true,
   "skip_h1_title": false,
   "title_cell": "Table of Contents",
   "title_sidebar": "Contents",
   "toc_cell": false,
   "toc_position": {},
   "toc_section_display": true,
   "toc_window_display": false
  },
  "varInspector": {
   "cols": {
    "lenName": 16,
    "lenType": 16,
    "lenVar": 40
   },
   "kernels_config": {
    "python": {
     "delete_cmd_postfix": "",
     "delete_cmd_prefix": "del ",
     "library": "var_list.py",
     "varRefreshCmd": "print(var_dic_list())"
    },
    "r": {
     "delete_cmd_postfix": ") ",
     "delete_cmd_prefix": "rm(",
     "library": "var_list.r",
     "varRefreshCmd": "cat(var_dic_list()) "
    }
   },
   "position": {
    "height": "351px",
    "left": "995px",
    "right": "20px",
    "top": "120px",
    "width": "351px"
   },
   "types_to_exclude": [
    "module",
    "function",
    "builtin_function_or_method",
    "instance",
    "_Feature"
   ],
   "window_display": false
  }
 },
 "nbformat": 4,
 "nbformat_minor": 4
}
