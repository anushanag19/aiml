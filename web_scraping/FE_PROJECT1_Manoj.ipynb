{
 "cells": [
  {
   "cell_type": "code",
   "execution_count": 49,
   "metadata": {},
   "outputs": [],
   "source": [
    "import pandas as pd\n",
    "import numpy as np\n",
    "import matplotlib.pyplot as plt\n",
    "import seaborn as sns\n",
    "from re import search\n",
    "\n",
    "%matplotlib inline"
   ]
  },
  {
   "cell_type": "code",
   "execution_count": 2,
   "metadata": {},
   "outputs": [
    {
     "name": "stdout",
     "output_type": "stream",
     "text": [
      "Requirement already up-to-date: selenium in c:\\programdata\\anaconda3\\lib\\site-packages (3.141.0)\n",
      "Requirement already satisfied, skipping upgrade: urllib3 in c:\\programdata\\anaconda3\\lib\\site-packages (from selenium) (1.24.2)\n",
      "Note: you may need to restart the kernel to use updated packages.\n"
     ]
    }
   ],
   "source": [
    "pip install -U selenium"
   ]
  },
  {
   "cell_type": "code",
   "execution_count": 3,
   "metadata": {},
   "outputs": [
    {
     "name": "stdout",
     "output_type": "stream",
     "text": [
      "3.7.4 (default, Aug  9 2019, 18:34:13) [MSC v.1915 64 bit (AMD64)]\n"
     ]
    }
   ],
   "source": [
    "import sys\n",
    "print(sys.version)"
   ]
  },
  {
   "cell_type": "code",
   "execution_count": 5,
   "metadata": {},
   "outputs": [
    {
     "name": "stdout",
     "output_type": "stream",
     "text": [
      "https://www.bigbasket.com/product/get-products/?slug=fruits-vegetables&page=1&tab_type=[%22all%22]&sorted_on=popularity&listtype=pc\n",
      "https://www.bigbasket.com/product/get-products/?slug=fruits-vegetables&page=2&tab_type=[%22all%22]&sorted_on=popularity&listtype=pc\n",
      "https://www.bigbasket.com/product/get-products/?slug=fruits-vegetables&page=3&tab_type=[%22all%22]&sorted_on=popularity&listtype=pc\n",
      "https://www.bigbasket.com/product/get-products/?slug=fruits-vegetables&page=4&tab_type=[%22all%22]&sorted_on=popularity&listtype=pc\n",
      "https://www.bigbasket.com/product/get-products/?slug=fruits-vegetables&page=5&tab_type=[%22all%22]&sorted_on=popularity&listtype=pc\n",
      "https://www.bigbasket.com/product/get-products/?slug=fruits-vegetables&page=6&tab_type=[%22all%22]&sorted_on=popularity&listtype=pc\n",
      "https://www.bigbasket.com/product/get-products/?slug=fruits-vegetables&page=7&tab_type=[%22all%22]&sorted_on=popularity&listtype=pc\n",
      "https://www.bigbasket.com/product/get-products/?slug=fruits-vegetables&page=8&tab_type=[%22all%22]&sorted_on=popularity&listtype=pc\n",
      "https://www.bigbasket.com/product/get-products/?slug=fruits-vegetables&page=9&tab_type=[%22all%22]&sorted_on=popularity&listtype=pc\n",
      "tlcs 280\n",
      "llcn 280\n",
      "brand 280\n",
      "mrp 280\n",
      "sp 280\n",
      "disc 280\n",
      "sku 280\n",
      "desc 280\n",
      "purl 280\n",
      "<class 'pandas.core.frame.DataFrame'>\n",
      "Int64Index: 208 entries, 3 to 279\n",
      "Data columns (total 9 columns):\n",
      "product        208 non-null object\n",
      "category       208 non-null object\n",
      "brand          208 non-null object\n",
      "mrp            208 non-null object\n",
      "sp             208 non-null object\n",
      "discount       208 non-null object\n",
      "sku            208 non-null int64\n",
      "description    208 non-null object\n",
      "url            208 non-null object\n",
      "dtypes: int64(1), object(8)\n",
      "memory usage: 16.2+ KB\n"
     ]
    }
   ],
   "source": [
    "from urllib.request import urlopen\n",
    "from bs4 import BeautifulSoup\n",
    "from http.cookiejar import CookieJar\n",
    "import urllib\n",
    "import urllib.request\n",
    "import html.parser\n",
    "import requests\n",
    "from requests.exceptions import HTTPError\n",
    "from socket import error as SocketError\n",
    "from selenium import webdriver\n",
    "from xml.dom.minidom import parseString\n",
    "import json        \n",
    "import xmlrpc.client\n",
    "\n",
    "base_url=\"https://www.bigbasket.com/product/get-products\"\n",
    "cat_path=\"/?slug=fruits-vegetables\"\n",
    "page=\"&page=\"\n",
    "qry_prm=\"&tab_type=[%22all%22]&sorted_on=popularity&listtype=pc\"\n",
    "\n",
    "page_vals = [\"1\",\"2\",\"3\",\"4\",\"5\",\"6\",\"7\",\"8\",\"9\"]\n",
    "\n",
    "tlcs  = [] #tlc_s\n",
    "llcn  = [] #llc_n\n",
    "brand = [] #p_brand\n",
    "mrp   = [] #mrp\n",
    "sp    = [] #sp\n",
    "disc  = [] #dis_val\n",
    "sku   = [] #sku\n",
    "desc  = [] #p_desc\n",
    "purl  = [] #absolute_url\n",
    "\n",
    "def append (myjson, index, key):\n",
    "    if key == \"tlc_s\": \n",
    "        tlcs.append(myjson[index])\n",
    "    elif key == \"llc_n\":    \n",
    "        llcn.append(myjson[index])\n",
    "    elif key == \"p_brand\":    \n",
    "        brand.append(myjson[index])\n",
    "    elif key == \"mrp\":    \n",
    "        mrp.append(myjson[index])\n",
    "    elif key == \"sp\":    \n",
    "        sp.append(myjson[index])\n",
    "    elif key == \"dis_val\":    \n",
    "        disc.append(myjson[index])\n",
    "    elif key == \"sku\":    \n",
    "        sku.append(myjson[index])\n",
    "    elif key == \"p_desc\":    \n",
    "        desc.append(myjson[index])\n",
    "    elif key == \"absolute_url\":    \n",
    "        purl.append(myjson[index])\n",
    "\n",
    "def get_all(myjson, key):\n",
    "    if type(myjson) == str:\n",
    "        myjson = json.loads(myjson)\n",
    "    if type(myjson) is dict:\n",
    "        for jsonkey in myjson:\n",
    "            if jsonkey == key:\n",
    "                append (myjson, jsonkey, key)\n",
    "            elif type(myjson[jsonkey]) in (list, dict):\n",
    "                get_all(myjson[jsonkey], key)\n",
    "    elif type(myjson) is list:\n",
    "        for item in myjson:\n",
    "            if item == key:\n",
    "                append (myjson, item, key)\n",
    "            elif type(item) in (list, dict):\n",
    "                get_all(item, key)\n",
    "    \n",
    "for page_index in page_vals: \n",
    "    req_url = base_url+cat_path+page+page_index+qry_prm\n",
    "    print (req_url)\n",
    "    try:\n",
    "        req=urllib.request.Request(req_url)\n",
    "        cj = CookieJar()\n",
    "        opener = urllib.request.build_opener(urllib.request.HTTPCookieProcessor(cj))\n",
    "        req.add_header('User-Agent','Mozilla/5.0')\n",
    "        response = opener.open(req)\n",
    "        p_json = response.read().decode('utf8', errors='ignore')\n",
    "        json_object = get_all (p_json, \"tlc_s\")\n",
    "        json_object = get_all (p_json, \"llc_n\")\n",
    "        json_object = get_all (p_json, \"p_brand\")\n",
    "        json_object = get_all (p_json, \"mrp\")\n",
    "        json_object = get_all (p_json, \"sp\")\n",
    "        json_object = get_all (p_json, \"dis_val\")\n",
    "        json_object = get_all (p_json, \"sku\")\n",
    "        json_object = get_all (p_json, \"p_desc\")\n",
    "        json_object = get_all (p_json, \"absolute_url\")\n",
    "        response.close()\n",
    "    except urllib.request.HTTPError as inst:\n",
    "        output = format(inst)\n",
    "        print(output)\n",
    "    \n",
    "print (\"tlcs\", len(tlcs))\n",
    "print (\"llcn\", len(llcn))\n",
    "print (\"brand\", len(brand))\n",
    "print (\"mrp\", len(mrp))\n",
    "print (\"sp\", len(sp))\n",
    "print (\"disc\", len(disc))\n",
    "print (\"sku\", len(sku))\n",
    "print (\"desc\", len(desc))\n",
    "print (\"purl\", len(purl))\n",
    "\n",
    "\n",
    "df = pd.DataFrame()\n",
    "df[\"product\"] = pd.Series(tlcs)\n",
    "df[\"category\"] = pd.Series(llcn)\n",
    "df[\"brand\"] = pd.Series(brand)\n",
    "df[\"mrp\"] = pd.Series(mrp)\n",
    "df[\"sp\"] = pd.Series(sp)\n",
    "df[\"discount\"] = pd.Series(disc)\n",
    "df[\"sku\"] = pd.Series(sku)\n",
    "df[\"description\"] = pd.Series(desc)\n",
    "df[\"url\"] = pd.Series(purl)\n",
    "\n",
    "df.drop (df[df['product'] != 'fruits-vegetables'].index, inplace=True)\n",
    "df.info()\n",
    "df.to_csv('BigBasket.csv')"
   ]
  },
  {
   "cell_type": "markdown",
   "metadata": {},
   "source": [
    "### DATA CLEANING"
   ]
  },
  {
   "cell_type": "code",
   "execution_count": 6,
   "metadata": {
    "scrolled": true
   },
   "outputs": [
    {
     "name": "stdout",
     "output_type": "stream",
     "text": [
      "<class 'pandas.core.frame.DataFrame'>\n",
      "Int64Index: 208 entries, 3 to 279\n",
      "Data columns (total 9 columns):\n",
      "product        208 non-null object\n",
      "category       208 non-null object\n",
      "brand          208 non-null object\n",
      "mrp            208 non-null object\n",
      "sp             208 non-null object\n",
      "discount       208 non-null object\n",
      "sku            208 non-null int64\n",
      "description    208 non-null object\n",
      "url            208 non-null object\n",
      "dtypes: int64(1), object(8)\n",
      "memory usage: 16.2+ KB\n"
     ]
    }
   ],
   "source": [
    "df.info()"
   ]
  },
  {
   "cell_type": "code",
   "execution_count": 7,
   "metadata": {},
   "outputs": [
    {
     "data": {
      "text/plain": [
       "Index(['product', 'category', 'brand', 'mrp', 'sp', 'discount', 'sku',\n",
       "       'description', 'url'],\n",
       "      dtype='object')"
      ]
     },
     "execution_count": 7,
     "metadata": {},
     "output_type": "execute_result"
    }
   ],
   "source": [
    "df.columns"
   ]
  },
  {
   "cell_type": "code",
   "execution_count": 8,
   "metadata": {},
   "outputs": [
    {
     "data": {
      "text/html": [
       "<div>\n",
       "<style scoped>\n",
       "    .dataframe tbody tr th:only-of-type {\n",
       "        vertical-align: middle;\n",
       "    }\n",
       "\n",
       "    .dataframe tbody tr th {\n",
       "        vertical-align: top;\n",
       "    }\n",
       "\n",
       "    .dataframe thead th {\n",
       "        text-align: right;\n",
       "    }\n",
       "</style>\n",
       "<table border=\"1\" class=\"dataframe\">\n",
       "  <thead>\n",
       "    <tr style=\"text-align: right;\">\n",
       "      <th></th>\n",
       "      <th>product</th>\n",
       "      <th>category</th>\n",
       "      <th>brand</th>\n",
       "      <th>mrp</th>\n",
       "      <th>sp</th>\n",
       "      <th>discount</th>\n",
       "      <th>sku</th>\n",
       "      <th>description</th>\n",
       "      <th>url</th>\n",
       "    </tr>\n",
       "  </thead>\n",
       "  <tbody>\n",
       "    <tr>\n",
       "      <td>3</td>\n",
       "      <td>fruits-vegetables</td>\n",
       "      <td>Potato, Onion &amp; Tomato</td>\n",
       "      <td>Fresho</td>\n",
       "      <td>25.00</td>\n",
       "      <td>20.00</td>\n",
       "      <td>20</td>\n",
       "      <td>10000148</td>\n",
       "      <td>Onion</td>\n",
       "      <td>/pd/10000148/fresho-onion-1-kg/</td>\n",
       "    </tr>\n",
       "    <tr>\n",
       "      <td>4</td>\n",
       "      <td>fruits-vegetables</td>\n",
       "      <td>Potato, Onion &amp; Tomato</td>\n",
       "      <td>Fresho</td>\n",
       "      <td>46.25</td>\n",
       "      <td>37.00</td>\n",
       "      <td>20</td>\n",
       "      <td>10000159</td>\n",
       "      <td>Potato</td>\n",
       "      <td>/pd/10000159/fresho-potato-1-kg/</td>\n",
       "    </tr>\n",
       "    <tr>\n",
       "      <td>9</td>\n",
       "      <td>fruits-vegetables</td>\n",
       "      <td>Mangoes</td>\n",
       "      <td>bb Combo</td>\n",
       "      <td>333.75</td>\n",
       "      <td>267.00</td>\n",
       "      <td>20</td>\n",
       "      <td>1200345</td>\n",
       "      <td>Mango - Banganpalli</td>\n",
       "      <td>/pd/1200345/bb-combo-mango-banganpalli-3-kg/</td>\n",
       "    </tr>\n",
       "    <tr>\n",
       "      <td>10</td>\n",
       "      <td>fruits-vegetables</td>\n",
       "      <td>Mangoes</td>\n",
       "      <td>Fresho</td>\n",
       "      <td>111.25</td>\n",
       "      <td>89.00</td>\n",
       "      <td>20</td>\n",
       "      <td>10000298</td>\n",
       "      <td>Banganapalli Mango</td>\n",
       "      <td>/pd/10000298/fresho-banganapalli-mango-1-kg/</td>\n",
       "    </tr>\n",
       "    <tr>\n",
       "      <td>11</td>\n",
       "      <td>fruits-vegetables</td>\n",
       "      <td>Mangoes</td>\n",
       "      <td>Fresho</td>\n",
       "      <td>111.25</td>\n",
       "      <td>89.00</td>\n",
       "      <td>20</td>\n",
       "      <td>10000298</td>\n",
       "      <td>Banganapalli Mango</td>\n",
       "      <td>/pd/10000298/fresho-banganapalli-mango-1-kg/</td>\n",
       "    </tr>\n",
       "  </tbody>\n",
       "</table>\n",
       "</div>"
      ],
      "text/plain": [
       "              product                category     brand     mrp      sp  \\\n",
       "3   fruits-vegetables  Potato, Onion & Tomato    Fresho   25.00   20.00   \n",
       "4   fruits-vegetables  Potato, Onion & Tomato    Fresho   46.25   37.00   \n",
       "9   fruits-vegetables                 Mangoes  bb Combo  333.75  267.00   \n",
       "10  fruits-vegetables                 Mangoes    Fresho  111.25   89.00   \n",
       "11  fruits-vegetables                 Mangoes    Fresho  111.25   89.00   \n",
       "\n",
       "   discount       sku          description  \\\n",
       "3        20  10000148                Onion   \n",
       "4        20  10000159               Potato   \n",
       "9        20   1200345  Mango - Banganpalli   \n",
       "10       20  10000298   Banganapalli Mango   \n",
       "11       20  10000298   Banganapalli Mango   \n",
       "\n",
       "                                             url  \n",
       "3                /pd/10000148/fresho-onion-1-kg/  \n",
       "4               /pd/10000159/fresho-potato-1-kg/  \n",
       "9   /pd/1200345/bb-combo-mango-banganpalli-3-kg/  \n",
       "10  /pd/10000298/fresho-banganapalli-mango-1-kg/  \n",
       "11  /pd/10000298/fresho-banganapalli-mango-1-kg/  "
      ]
     },
     "execution_count": 8,
     "metadata": {},
     "output_type": "execute_result"
    }
   ],
   "source": [
    "df.head()"
   ]
  },
  {
   "cell_type": "code",
   "execution_count": 9,
   "metadata": {},
   "outputs": [],
   "source": [
    "#Dropping columns that dont mean much for us here. Dropping sku\n",
    "df.drop('sku', axis=1, inplace=True)\n"
   ]
  },
  {
   "cell_type": "code",
   "execution_count": 10,
   "metadata": {},
   "outputs": [
    {
     "data": {
      "text/html": [
       "<div>\n",
       "<style scoped>\n",
       "    .dataframe tbody tr th:only-of-type {\n",
       "        vertical-align: middle;\n",
       "    }\n",
       "\n",
       "    .dataframe tbody tr th {\n",
       "        vertical-align: top;\n",
       "    }\n",
       "\n",
       "    .dataframe thead th {\n",
       "        text-align: right;\n",
       "    }\n",
       "</style>\n",
       "<table border=\"1\" class=\"dataframe\">\n",
       "  <thead>\n",
       "    <tr style=\"text-align: right;\">\n",
       "      <th></th>\n",
       "      <th>product</th>\n",
       "      <th>category</th>\n",
       "      <th>brand</th>\n",
       "      <th>mrp</th>\n",
       "      <th>sp</th>\n",
       "      <th>discount</th>\n",
       "      <th>description</th>\n",
       "      <th>url</th>\n",
       "    </tr>\n",
       "  </thead>\n",
       "  <tbody>\n",
       "    <tr>\n",
       "      <td>3</td>\n",
       "      <td>fruits-vegetables</td>\n",
       "      <td>Potato, Onion &amp; Tomato</td>\n",
       "      <td>Fresho</td>\n",
       "      <td>25.00</td>\n",
       "      <td>20.00</td>\n",
       "      <td>20</td>\n",
       "      <td>Onion</td>\n",
       "      <td>/pd/10000148/fresho-onion-1-kg/</td>\n",
       "    </tr>\n",
       "    <tr>\n",
       "      <td>4</td>\n",
       "      <td>fruits-vegetables</td>\n",
       "      <td>Potato, Onion &amp; Tomato</td>\n",
       "      <td>Fresho</td>\n",
       "      <td>46.25</td>\n",
       "      <td>37.00</td>\n",
       "      <td>20</td>\n",
       "      <td>Potato</td>\n",
       "      <td>/pd/10000159/fresho-potato-1-kg/</td>\n",
       "    </tr>\n",
       "    <tr>\n",
       "      <td>9</td>\n",
       "      <td>fruits-vegetables</td>\n",
       "      <td>Mangoes</td>\n",
       "      <td>bb Combo</td>\n",
       "      <td>333.75</td>\n",
       "      <td>267.00</td>\n",
       "      <td>20</td>\n",
       "      <td>Mango - Banganpalli</td>\n",
       "      <td>/pd/1200345/bb-combo-mango-banganpalli-3-kg/</td>\n",
       "    </tr>\n",
       "  </tbody>\n",
       "</table>\n",
       "</div>"
      ],
      "text/plain": [
       "             product                category     brand     mrp      sp  \\\n",
       "3  fruits-vegetables  Potato, Onion & Tomato    Fresho   25.00   20.00   \n",
       "4  fruits-vegetables  Potato, Onion & Tomato    Fresho   46.25   37.00   \n",
       "9  fruits-vegetables                 Mangoes  bb Combo  333.75  267.00   \n",
       "\n",
       "  discount          description                                           url  \n",
       "3       20                Onion               /pd/10000148/fresho-onion-1-kg/  \n",
       "4       20               Potato              /pd/10000159/fresho-potato-1-kg/  \n",
       "9       20  Mango - Banganpalli  /pd/1200345/bb-combo-mango-banganpalli-3-kg/  "
      ]
     },
     "execution_count": 10,
     "metadata": {},
     "output_type": "execute_result"
    }
   ],
   "source": [
    "df.head(3)"
   ]
  },
  {
   "cell_type": "code",
   "execution_count": 11,
   "metadata": {},
   "outputs": [
    {
     "data": {
      "text/plain": [
       "Index(['product', 'category', 'brand', 'mrp', 'sp', 'discount', 'description',\n",
       "       'url'],\n",
       "      dtype='object')"
      ]
     },
     "execution_count": 11,
     "metadata": {},
     "output_type": "execute_result"
    }
   ],
   "source": [
    "df.columns"
   ]
  },
  {
   "cell_type": "code",
   "execution_count": 12,
   "metadata": {},
   "outputs": [],
   "source": [
    "df.columns=['Product', 'Category', 'Brand', 'MRP', 'ActualPrice', 'Discount', 'ProductDesc','Url']"
   ]
  },
  {
   "cell_type": "code",
   "execution_count": 21,
   "metadata": {},
   "outputs": [],
   "source": [
    "#From Url column deriving Product Quantity\n",
    "df=df[~df.Url.str.contains(\"combo\", na=False)]"
   ]
  },
  {
   "cell_type": "code",
   "execution_count": 51,
   "metadata": {},
   "outputs": [],
   "source": [
    "def getQtforPcs(qt):\n",
    "    array=qt.split('x')\n",
    "    array = [int(i) for i in array] \n",
    "    return np.prod(array)"
   ]
  },
  {
   "cell_type": "code",
   "execution_count": 52,
   "metadata": {},
   "outputs": [
    {
     "ename": "TypeError",
     "evalue": "ufunc 'add' did not contain a loop with signature matching types dtype('<U11') dtype('<U11') dtype('<U11')",
     "output_type": "error",
     "traceback": [
      "\u001b[1;31m---------------------------------------------------------------------------\u001b[0m",
      "\u001b[1;31mTypeError\u001b[0m                                 Traceback (most recent call last)",
      "\u001b[1;32m<ipython-input-52-828b9968c426>\u001b[0m in \u001b[0;36m<module>\u001b[1;34m\u001b[0m\n\u001b[0;32m     17\u001b[0m         \u001b[1;32mreturn\u001b[0m \u001b[0mqttemp\u001b[0m\u001b[1;33m[\u001b[0m\u001b[0msize\u001b[0m\u001b[1;33m-\u001b[0m\u001b[1;36m3\u001b[0m\u001b[1;33m]\u001b[0m\u001b[1;33m+\u001b[0m\u001b[0mqttemp\u001b[0m\u001b[1;33m[\u001b[0m\u001b[0msize\u001b[0m\u001b[1;33m-\u001b[0m\u001b[1;36m2\u001b[0m\u001b[1;33m]\u001b[0m\u001b[1;33m\u001b[0m\u001b[1;33m\u001b[0m\u001b[0m\n\u001b[0;32m     18\u001b[0m \u001b[1;33m\u001b[0m\u001b[0m\n\u001b[1;32m---> 19\u001b[1;33m \u001b[0mdf\u001b[0m\u001b[1;33m[\u001b[0m\u001b[1;34m'Quantity'\u001b[0m\u001b[1;33m]\u001b[0m \u001b[1;33m=\u001b[0m \u001b[0mdf\u001b[0m\u001b[1;33m[\u001b[0m\u001b[1;34m'Url'\u001b[0m\u001b[1;33m]\u001b[0m\u001b[1;33m.\u001b[0m\u001b[0mapply\u001b[0m\u001b[1;33m(\u001b[0m\u001b[1;32mlambda\u001b[0m \u001b[0mx\u001b[0m\u001b[1;33m:\u001b[0m \u001b[0mgetQuantity\u001b[0m\u001b[1;33m(\u001b[0m\u001b[0mx\u001b[0m\u001b[1;33m)\u001b[0m\u001b[1;33m)\u001b[0m\u001b[1;33m\u001b[0m\u001b[1;33m\u001b[0m\u001b[0m\n\u001b[0m",
      "\u001b[1;32mC:\\ProgramData\\Anaconda3\\lib\\site-packages\\pandas\\core\\series.py\u001b[0m in \u001b[0;36mapply\u001b[1;34m(self, func, convert_dtype, args, **kwds)\u001b[0m\n\u001b[0;32m   4040\u001b[0m             \u001b[1;32melse\u001b[0m\u001b[1;33m:\u001b[0m\u001b[1;33m\u001b[0m\u001b[1;33m\u001b[0m\u001b[0m\n\u001b[0;32m   4041\u001b[0m                 \u001b[0mvalues\u001b[0m \u001b[1;33m=\u001b[0m \u001b[0mself\u001b[0m\u001b[1;33m.\u001b[0m\u001b[0mastype\u001b[0m\u001b[1;33m(\u001b[0m\u001b[0mobject\u001b[0m\u001b[1;33m)\u001b[0m\u001b[1;33m.\u001b[0m\u001b[0mvalues\u001b[0m\u001b[1;33m\u001b[0m\u001b[1;33m\u001b[0m\u001b[0m\n\u001b[1;32m-> 4042\u001b[1;33m                 \u001b[0mmapped\u001b[0m \u001b[1;33m=\u001b[0m \u001b[0mlib\u001b[0m\u001b[1;33m.\u001b[0m\u001b[0mmap_infer\u001b[0m\u001b[1;33m(\u001b[0m\u001b[0mvalues\u001b[0m\u001b[1;33m,\u001b[0m \u001b[0mf\u001b[0m\u001b[1;33m,\u001b[0m \u001b[0mconvert\u001b[0m\u001b[1;33m=\u001b[0m\u001b[0mconvert_dtype\u001b[0m\u001b[1;33m)\u001b[0m\u001b[1;33m\u001b[0m\u001b[1;33m\u001b[0m\u001b[0m\n\u001b[0m\u001b[0;32m   4043\u001b[0m \u001b[1;33m\u001b[0m\u001b[0m\n\u001b[0;32m   4044\u001b[0m         \u001b[1;32mif\u001b[0m \u001b[0mlen\u001b[0m\u001b[1;33m(\u001b[0m\u001b[0mmapped\u001b[0m\u001b[1;33m)\u001b[0m \u001b[1;32mand\u001b[0m \u001b[0misinstance\u001b[0m\u001b[1;33m(\u001b[0m\u001b[0mmapped\u001b[0m\u001b[1;33m[\u001b[0m\u001b[1;36m0\u001b[0m\u001b[1;33m]\u001b[0m\u001b[1;33m,\u001b[0m \u001b[0mSeries\u001b[0m\u001b[1;33m)\u001b[0m\u001b[1;33m:\u001b[0m\u001b[1;33m\u001b[0m\u001b[1;33m\u001b[0m\u001b[0m\n",
      "\u001b[1;32mpandas\\_libs\\lib.pyx\u001b[0m in \u001b[0;36mpandas._libs.lib.map_infer\u001b[1;34m()\u001b[0m\n",
      "\u001b[1;32m<ipython-input-52-828b9968c426>\u001b[0m in \u001b[0;36m<lambda>\u001b[1;34m(x)\u001b[0m\n\u001b[0;32m     17\u001b[0m         \u001b[1;32mreturn\u001b[0m \u001b[0mqttemp\u001b[0m\u001b[1;33m[\u001b[0m\u001b[0msize\u001b[0m\u001b[1;33m-\u001b[0m\u001b[1;36m3\u001b[0m\u001b[1;33m]\u001b[0m\u001b[1;33m+\u001b[0m\u001b[0mqttemp\u001b[0m\u001b[1;33m[\u001b[0m\u001b[0msize\u001b[0m\u001b[1;33m-\u001b[0m\u001b[1;36m2\u001b[0m\u001b[1;33m]\u001b[0m\u001b[1;33m\u001b[0m\u001b[1;33m\u001b[0m\u001b[0m\n\u001b[0;32m     18\u001b[0m \u001b[1;33m\u001b[0m\u001b[0m\n\u001b[1;32m---> 19\u001b[1;33m \u001b[0mdf\u001b[0m\u001b[1;33m[\u001b[0m\u001b[1;34m'Quantity'\u001b[0m\u001b[1;33m]\u001b[0m \u001b[1;33m=\u001b[0m \u001b[0mdf\u001b[0m\u001b[1;33m[\u001b[0m\u001b[1;34m'Url'\u001b[0m\u001b[1;33m]\u001b[0m\u001b[1;33m.\u001b[0m\u001b[0mapply\u001b[0m\u001b[1;33m(\u001b[0m\u001b[1;32mlambda\u001b[0m \u001b[0mx\u001b[0m\u001b[1;33m:\u001b[0m \u001b[0mgetQuantity\u001b[0m\u001b[1;33m(\u001b[0m\u001b[0mx\u001b[0m\u001b[1;33m)\u001b[0m\u001b[1;33m)\u001b[0m\u001b[1;33m\u001b[0m\u001b[1;33m\u001b[0m\u001b[0m\n\u001b[0m",
      "\u001b[1;32m<ipython-input-52-828b9968c426>\u001b[0m in \u001b[0;36mgetQuantity\u001b[1;34m(x)\u001b[0m\n\u001b[0;32m     11\u001b[0m                 \u001b[1;32mreturn\u001b[0m \u001b[0mqt\u001b[0m\u001b[1;33m+\u001b[0m\u001b[1;34m'gm'\u001b[0m\u001b[1;33m\u001b[0m\u001b[1;33m\u001b[0m\u001b[0m\n\u001b[0;32m     12\u001b[0m             \u001b[1;32melif\u001b[0m\u001b[1;33m(\u001b[0m\u001b[0mwt\u001b[0m\u001b[1;33m==\u001b[0m\u001b[1;34m'pcs'\u001b[0m\u001b[1;33m)\u001b[0m\u001b[1;33m:\u001b[0m\u001b[1;33m\u001b[0m\u001b[1;33m\u001b[0m\u001b[0m\n\u001b[1;32m---> 13\u001b[1;33m                 \u001b[1;32mreturn\u001b[0m \u001b[0mqt\u001b[0m\u001b[1;33m+\u001b[0m\u001b[1;34m'pc'\u001b[0m\u001b[1;33m\u001b[0m\u001b[1;33m\u001b[0m\u001b[0m\n\u001b[0m\u001b[0;32m     14\u001b[0m             \u001b[1;32melse\u001b[0m\u001b[1;33m:\u001b[0m\u001b[1;33m\u001b[0m\u001b[1;33m\u001b[0m\u001b[0m\n\u001b[0;32m     15\u001b[0m                 \u001b[1;32mreturn\u001b[0m \u001b[0mqt\u001b[0m\u001b[1;33m+\u001b[0m\u001b[0mwt\u001b[0m\u001b[1;33m\u001b[0m\u001b[1;33m\u001b[0m\u001b[0m\n",
      "\u001b[1;31mTypeError\u001b[0m: ufunc 'add' did not contain a loop with signature matching types dtype('<U11') dtype('<U11') dtype('<U11')"
     ]
    }
   ],
   "source": [
    "def getQuantity(x):\n",
    "    array = x.split('/')\n",
    "    qttemp=array[3].split('-')\n",
    "    size=len(qttemp)\n",
    "    wt=qttemp[size-1]\n",
    "    qt=qttemp[size-2]\n",
    "    if(wt=='kg' or wt=='gm' or wt=='g' or wt=='pcs' or wt=='pc'):\n",
    "            if(search('x', qt)):\n",
    "                qt=getQtforPcs(qt)\n",
    "            if(wt=='g'):\n",
    "                return qt+'gm'\n",
    "            elif(wt=='pcs'):\n",
    "                return qt+'pc'\n",
    "            else:\n",
    "                return qt+wt\n",
    "    elif(wt=='bunch'):\n",
    "        return qttemp[size-3]+qttemp[size-2]\n",
    "    \n",
    "df['Quantity'] = df['Url'].apply(lambda x: getQuantity(x))"
   ]
  },
  {
   "cell_type": "code",
   "execution_count": 35,
   "metadata": {},
   "outputs": [
    {
     "name": "stdout",
     "output_type": "stream",
     "text": [
      "<class 'pandas.core.frame.DataFrame'>\n",
      "Int64Index: 202 entries, 3 to 279\n",
      "Data columns (total 9 columns):\n",
      "Product        202 non-null object\n",
      "Category       202 non-null object\n",
      "Brand          202 non-null object\n",
      "MRP            202 non-null object\n",
      "ActualPrice    202 non-null object\n",
      "Discount       202 non-null object\n",
      "ProductDesc    202 non-null object\n",
      "Url            202 non-null object\n",
      "Quantity       202 non-null object\n",
      "dtypes: object(9)\n",
      "memory usage: 15.8+ KB\n"
     ]
    }
   ],
   "source": [
    "df.info()"
   ]
  },
  {
   "cell_type": "code",
   "execution_count": 24,
   "metadata": {},
   "outputs": [
    {
     "name": "stdout",
     "output_type": "stream",
     "text": [
      "Product        0\n",
      "Category       0\n",
      "Brand          0\n",
      "MRP            0\n",
      "ActualPrice    0\n",
      "Discount       0\n",
      "ProductDesc    0\n",
      "Url            0\n",
      "Quantity       0\n",
      "dtype: int64\n"
     ]
    }
   ],
   "source": [
    "print(df.isnull().sum())"
   ]
  },
  {
   "cell_type": "code",
   "execution_count": 36,
   "metadata": {},
   "outputs": [
    {
     "name": "stdout",
     "output_type": "stream",
     "text": [
      "3          1kg\n",
      "4          1kg\n",
      "10         1kg\n",
      "11         1kg\n",
      "77       500gm\n",
      "78         1pc\n",
      "79         1pc\n",
      "80         1pc\n",
      "81         1kg\n",
      "82         1kg\n",
      "83       500gm\n",
      "84       500gm\n",
      "85         1pc\n",
      "86         2pc\n",
      "87       500gm\n",
      "88       250gm\n",
      "89       250gm\n",
      "90         4pc\n",
      "91       100gm\n",
      "92       100gm\n",
      "93       500gm\n",
      "94       250gm\n",
      "95       250gm\n",
      "96         1kg\n",
      "97       100gm\n",
      "98       500gm\n",
      "99       250gm\n",
      "100      500gm\n",
      "101      500gm\n",
      "102        4pc\n",
      "103        1kg\n",
      "104        1pc\n",
      "105        1pc\n",
      "106      500gm\n",
      "107        1kg\n",
      "108        1kg\n",
      "109      100gm\n",
      "110        1kg\n",
      "111        1kg\n",
      "112      500gm\n",
      "114      500gm\n",
      "115      100gm\n",
      "116      2x4pc\n",
      "117      3x2pc\n",
      "118        2pc\n",
      "119        4pc\n",
      "120        4pc\n",
      "121      250gm\n",
      "122      500gm\n",
      "123        3pc\n",
      "124      500gm\n",
      "125      500gm\n",
      "126      100gm\n",
      "128      100gm\n",
      "129        1kg\n",
      "130      500gm\n",
      "131      250gm\n",
      "132      250gm\n",
      "133        4pc\n",
      "134        6pc\n",
      "135        6pc\n",
      "137        1kg\n",
      "138      500gm\n",
      "139        4pc\n",
      "140      100gm\n",
      "141      250gm\n",
      "142      250gm\n",
      "143      250gm\n",
      "144      100gm\n",
      "145      500gm\n",
      "146      500gm\n",
      "147        3kg\n",
      "148      5x3kg\n",
      "149      5x3kg\n",
      "150        1kg\n",
      "151      2x4pc\n",
      "152        4pc\n",
      "153        4pc\n",
      "155        1pc\n",
      "156      250gm\n",
      "157      250gm\n",
      "158      250gm\n",
      "159      500gm\n",
      "160      500gm\n",
      "161        1kg\n",
      "162        4pc\n",
      "163      5x6pc\n",
      "164      5x4pc\n",
      "165        6pc\n",
      "166        6pc\n",
      "167      250gm\n",
      "168      500gm\n",
      "169      500gm\n",
      "170      500gm\n",
      "171        1pc\n",
      "172      500gm\n",
      "173      500gm\n",
      "174      250gm\n",
      "176        1pc\n",
      "177      500gm\n",
      "178      400gm\n",
      "179      500gm\n",
      "180        1kg\n",
      "181      500gm\n",
      "182        1pc\n",
      "183        1pc\n",
      "184        4pc\n",
      "185        1pc\n",
      "186        1kg\n",
      "187      250gm\n",
      "188      500gm\n",
      "189        1pc\n",
      "190        1pc\n",
      "191        1pc\n",
      "192        4pc\n",
      "193      250gm\n",
      "194      500gm\n",
      "195      500gm\n",
      "196      500gm\n",
      "197        1pc\n",
      "198      250gm\n",
      "199      500gm\n",
      "200        4pc\n",
      "201        1kg\n",
      "202      250gm\n",
      "203        1pc\n",
      "204      500gm\n",
      "205      500gm\n",
      "206      250gm\n",
      "207        4pc\n",
      "208      2x4pc\n",
      "209      2x4pc\n",
      "210      500gm\n",
      "211      100gm\n",
      "212    3x100gm\n",
      "213      100gm\n",
      "214        1kg\n",
      "215      700gm\n",
      "216      2x4pc\n",
      "217      2x4pc\n",
      "218      250gm\n",
      "219        1kg\n",
      "220      250gm\n",
      "221      500gm\n",
      "222      250gm\n",
      "223      500gm\n",
      "224      250gm\n",
      "225      250gm\n",
      "226      200gm\n",
      "227        1pc\n",
      "228      2x4pc\n",
      "229        4pc\n",
      "230        4pc\n",
      "231      250gm\n",
      "232      100gm\n",
      "233      200gm\n",
      "234      250gm\n",
      "235        1pc\n",
      "236      250gm\n",
      "237      200gm\n",
      "238      2x4pc\n",
      "239        4pc\n",
      "240        4pc\n",
      "241      150gm\n",
      "242      500gm\n",
      "243      500gm\n",
      "244        1kg\n",
      "245      250gm\n",
      "246      100gm\n",
      "247        1pc\n",
      "248      100gm\n",
      "249      500gm\n",
      "250      250gm\n",
      "251      500gm\n",
      "252      500gm\n",
      "253      250gm\n",
      "254      100gm\n",
      "255      500gm\n",
      "256        4pc\n",
      "257      500gm\n",
      "258      200gm\n",
      "259      400gm\n",
      "260      250gm\n",
      "261        1pc\n",
      "262        1pc\n",
      "263        1pc\n",
      "264      250gm\n",
      "265      200gm\n",
      "266        1kg\n",
      "267      250gm\n",
      "268      500gm\n",
      "269        5pc\n",
      "270      500gm\n",
      "271        1kg\n",
      "272        1pc\n",
      "273      250gm\n",
      "274      250gm\n",
      "275      225gm\n",
      "276      500gm\n",
      "277      250gm\n",
      "278      100gm\n",
      "279        1kg\n",
      "Name: Quantity, dtype: object\n"
     ]
    }
   ],
   "source": [
    "with pd.option_context('display.max_rows', None, 'display.max_columns', None):  # more options can be specified also\n",
    "    print(df['Quantity'])"
   ]
  },
  {
   "cell_type": "code",
   "execution_count": null,
   "metadata": {},
   "outputs": [],
   "source": [
    "#Dropping whenever quantity is a combo. As we cant compare combos accross website and provide recommendation.\n",
    "#Combos can be of any variety, itll be too complex to compare combos."
   ]
  },
  {
   "cell_type": "code",
   "execution_count": null,
   "metadata": {},
   "outputs": [],
   "source": [
    "#df=df[~df.Url.str.contains(\"combo\", na=False)]"
   ]
  },
  {
   "cell_type": "code",
   "execution_count": null,
   "metadata": {},
   "outputs": [],
   "source": [
    "df.info()"
   ]
  },
  {
   "cell_type": "code",
   "execution_count": 37,
   "metadata": {},
   "outputs": [],
   "source": [
    "str1='5x3'\n",
    "array=str1.split('x')"
   ]
  },
  {
   "cell_type": "code",
   "execution_count": 38,
   "metadata": {},
   "outputs": [
    {
     "data": {
      "text/plain": [
       "['5', '3']"
      ]
     },
     "execution_count": 38,
     "metadata": {},
     "output_type": "execute_result"
    }
   ],
   "source": [
    "array"
   ]
  },
  {
   "cell_type": "code",
   "execution_count": 42,
   "metadata": {},
   "outputs": [
    {
     "data": {
      "text/plain": [
       "144"
      ]
     },
     "execution_count": 42,
     "metadata": {},
     "output_type": "execute_result"
    }
   ],
   "source": [
    "import numpy as np\n",
    "mylist = [ 2, 3, 4, 6] \n",
    "result = np.prod(np.array(mylist))  \n",
    "result"
   ]
  },
  {
   "cell_type": "code",
   "execution_count": null,
   "metadata": {},
   "outputs": [],
   "source": []
  }
 ],
 "metadata": {
  "kernelspec": {
   "display_name": "Python 3",
   "language": "python",
   "name": "python3"
  },
  "language_info": {
   "codemirror_mode": {
    "name": "ipython",
    "version": 3
   },
   "file_extension": ".py",
   "mimetype": "text/x-python",
   "name": "python",
   "nbconvert_exporter": "python",
   "pygments_lexer": "ipython3",
   "version": "3.7.4"
  }
 },
 "nbformat": 4,
 "nbformat_minor": 4
}
