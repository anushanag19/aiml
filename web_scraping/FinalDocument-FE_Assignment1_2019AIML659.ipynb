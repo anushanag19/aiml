{
 "cells": [
  {
   "cell_type": "markdown",
   "metadata": {},
   "source": [
    "# Feature Engineering-Assignment1-Bollywood data analysis and clean up"
   ]
  },
  {
   "cell_type": "code",
   "execution_count": 1,
   "metadata": {},
   "outputs": [],
   "source": [
    "import pandas as pd\n",
    "import numpy as np\n",
    "from glob import glob\n",
    "from IPython.core.display import HTML"
   ]
  },
  {
   "cell_type": "code",
   "execution_count": 2,
   "metadata": {},
   "outputs": [],
   "source": [
    "df1 = pd.read_csv(\"bollywood.csv\")\n",
    "df2 = pd.read_csv(\"bollywood - 2.csv\")"
   ]
  },
  {
   "cell_type": "code",
   "execution_count": 3,
   "metadata": {},
   "outputs": [
    {
     "data": {
      "text/plain": [
       "Index(['No', 'RelDate', 'MovieName', 'ReleaseTime', 'Genre', 'Budget',\n",
       "       'BoxOfficeCollection', 'YoutubeViews', 'YoutubeLikes',\n",
       "       'YoutubeDislikes', 'YoutubeLikeDislikes'],\n",
       "      dtype='object')"
      ]
     },
     "execution_count": 3,
     "metadata": {},
     "output_type": "execute_result"
    }
   ],
   "source": [
    "df1.columns"
   ]
  },
  {
   "cell_type": "code",
   "execution_count": 4,
   "metadata": {},
   "outputs": [
    {
     "data": {
      "text/plain": [
       "Index(['Movie_ID', 'Release_Date', 'Movie_Name', 'Release_Time', 'Genre',\n",
       "       'BudgetCr', 'BoxOfficeCollectionCr', 'Youtube_Views', 'Youtube_Likes',\n",
       "       'Youtube_Dislikes'],\n",
       "      dtype='object')"
      ]
     },
     "execution_count": 4,
     "metadata": {},
     "output_type": "execute_result"
    }
   ],
   "source": [
    "df2.columns"
   ]
  },
  {
   "cell_type": "code",
   "execution_count": 5,
   "metadata": {},
   "outputs": [],
   "source": [
    "# Changing column names of dataset1 to same as dataset2."
   ]
  },
  {
   "cell_type": "code",
   "execution_count": 6,
   "metadata": {},
   "outputs": [],
   "source": [
    "df1.columns=['Movie_ID', 'Release_Date', 'Movie_Name', 'Release_Time', 'Genre',\n",
    "       'BudgetCr', 'BoxOfficeCollectionCr', 'Youtube_Views', 'Youtube_Likes',\n",
    "       'Youtube_Dislikes','YoutubeLikeDislikes']"
   ]
  },
  {
   "cell_type": "code",
   "execution_count": 7,
   "metadata": {},
   "outputs": [
    {
     "data": {
      "text/html": [
       "<div>\n",
       "<style scoped>\n",
       "    .dataframe tbody tr th:only-of-type {\n",
       "        vertical-align: middle;\n",
       "    }\n",
       "\n",
       "    .dataframe tbody tr th {\n",
       "        vertical-align: top;\n",
       "    }\n",
       "\n",
       "    .dataframe thead th {\n",
       "        text-align: right;\n",
       "    }\n",
       "</style>\n",
       "<table border=\"1\" class=\"dataframe\">\n",
       "  <thead>\n",
       "    <tr style=\"text-align: right;\">\n",
       "      <th></th>\n",
       "      <th>Movie_ID</th>\n",
       "      <th>Release_Date</th>\n",
       "      <th>Movie_Name</th>\n",
       "      <th>Release_Time</th>\n",
       "      <th>Genre</th>\n",
       "      <th>BudgetCr</th>\n",
       "      <th>BoxOfficeCollectionCr</th>\n",
       "      <th>Youtube_Views</th>\n",
       "      <th>Youtube_Likes</th>\n",
       "      <th>Youtube_Dislikes</th>\n",
       "      <th>YoutubeLikeDislikes</th>\n",
       "    </tr>\n",
       "  </thead>\n",
       "  <tbody>\n",
       "    <tr>\n",
       "      <td>0</td>\n",
       "      <td>1</td>\n",
       "      <td>Apr-18-2014</td>\n",
       "      <td>2 States</td>\n",
       "      <td>3</td>\n",
       "      <td>RomanceGenre</td>\n",
       "      <td>36Cr</td>\n",
       "      <td>104</td>\n",
       "      <td>8576361</td>\n",
       "      <td>26622.0</td>\n",
       "      <td>2527.0</td>\n",
       "      <td>29149</td>\n",
       "    </tr>\n",
       "    <tr>\n",
       "      <td>1</td>\n",
       "      <td>2</td>\n",
       "      <td>Jan-4-2013</td>\n",
       "      <td>Table No. 21</td>\n",
       "      <td>4</td>\n",
       "      <td>Thriller</td>\n",
       "      <td>Cr10</td>\n",
       "      <td>12</td>\n",
       "      <td>1087320</td>\n",
       "      <td>1129.0</td>\n",
       "      <td>137.0</td>\n",
       "      <td>1266</td>\n",
       "    </tr>\n",
       "    <tr>\n",
       "      <td>2</td>\n",
       "      <td>3</td>\n",
       "      <td>Jul-18-2014</td>\n",
       "      <td>Amit Sahni Ki List</td>\n",
       "      <td>4</td>\n",
       "      <td>ComedyGenre</td>\n",
       "      <td>10Cr</td>\n",
       "      <td>4</td>\n",
       "      <td>572336</td>\n",
       "      <td>586.0</td>\n",
       "      <td>54.0</td>\n",
       "      <td>640</td>\n",
       "    </tr>\n",
       "  </tbody>\n",
       "</table>\n",
       "</div>"
      ],
      "text/plain": [
       "   Movie_ID Release_Date          Movie_Name  Release_Time         Genre  \\\n",
       "0         1  Apr-18-2014            2 States             3  RomanceGenre   \n",
       "1         2   Jan-4-2013        Table No. 21             4     Thriller    \n",
       "2         3  Jul-18-2014  Amit Sahni Ki List             4   ComedyGenre   \n",
       "\n",
       "  BudgetCr BoxOfficeCollectionCr  Youtube_Views  Youtube_Likes  \\\n",
       "0     36Cr                   104        8576361        26622.0   \n",
       "1     Cr10                    12        1087320         1129.0   \n",
       "2     10Cr                     4         572336          586.0   \n",
       "\n",
       "   Youtube_Dislikes  YoutubeLikeDislikes  \n",
       "0            2527.0                29149  \n",
       "1             137.0                 1266  \n",
       "2              54.0                  640  "
      ]
     },
     "execution_count": 7,
     "metadata": {},
     "output_type": "execute_result"
    }
   ],
   "source": [
    "df1.head(3)"
   ]
  },
  {
   "cell_type": "code",
   "execution_count": 8,
   "metadata": {},
   "outputs": [
    {
     "data": {
      "text/html": [
       "<div>\n",
       "<style scoped>\n",
       "    .dataframe tbody tr th:only-of-type {\n",
       "        vertical-align: middle;\n",
       "    }\n",
       "\n",
       "    .dataframe tbody tr th {\n",
       "        vertical-align: top;\n",
       "    }\n",
       "\n",
       "    .dataframe thead th {\n",
       "        text-align: right;\n",
       "    }\n",
       "</style>\n",
       "<table border=\"1\" class=\"dataframe\">\n",
       "  <thead>\n",
       "    <tr style=\"text-align: right;\">\n",
       "      <th></th>\n",
       "      <th>Movie_ID</th>\n",
       "      <th>Release_Date</th>\n",
       "      <th>Movie_Name</th>\n",
       "      <th>Release_Time</th>\n",
       "      <th>Genre</th>\n",
       "      <th>BudgetCr</th>\n",
       "      <th>BoxOfficeCollectionCr</th>\n",
       "      <th>Youtube_Views</th>\n",
       "      <th>Youtube_Likes</th>\n",
       "      <th>Youtube_Dislikes</th>\n",
       "    </tr>\n",
       "  </thead>\n",
       "  <tbody>\n",
       "    <tr>\n",
       "      <td>0</td>\n",
       "      <td>51</td>\n",
       "      <td>04-Jul-14</td>\n",
       "      <td>Lekar Hum Deewana Dil</td>\n",
       "      <td>N</td>\n",
       "      <td>Romance</td>\n",
       "      <td>16</td>\n",
       "      <td>2.50</td>\n",
       "      <td>3998331</td>\n",
       "      <td>2307</td>\n",
       "      <td>497</td>\n",
       "    </tr>\n",
       "    <tr>\n",
       "      <td>1</td>\n",
       "      <td>52</td>\n",
       "      <td>22-Mar-13</td>\n",
       "      <td>Aatma</td>\n",
       "      <td>N</td>\n",
       "      <td>Thriller</td>\n",
       "      <td>8</td>\n",
       "      <td>8.78</td>\n",
       "      <td>841891</td>\n",
       "      <td>997</td>\n",
       "      <td>306</td>\n",
       "    </tr>\n",
       "    <tr>\n",
       "      <td>2</td>\n",
       "      <td>53</td>\n",
       "      <td>04-Apr-14</td>\n",
       "      <td>Main Tera Hero</td>\n",
       "      <td>LW</td>\n",
       "      <td>Comedy</td>\n",
       "      <td>40</td>\n",
       "      <td>55.00</td>\n",
       "      <td>4903941</td>\n",
       "      <td>12657</td>\n",
       "      <td>2139</td>\n",
       "    </tr>\n",
       "  </tbody>\n",
       "</table>\n",
       "</div>"
      ],
      "text/plain": [
       "   Movie_ID Release_Date             Movie_Name Release_Time     Genre  \\\n",
       "0        51    04-Jul-14  Lekar Hum Deewana Dil            N   Romance   \n",
       "1        52    22-Mar-13                  Aatma            N  Thriller   \n",
       "2        53    04-Apr-14         Main Tera Hero           LW    Comedy   \n",
       "\n",
       "   BudgetCr  BoxOfficeCollectionCr  Youtube_Views  Youtube_Likes  \\\n",
       "0        16                   2.50        3998331           2307   \n",
       "1         8                   8.78         841891            997   \n",
       "2        40                  55.00        4903941          12657   \n",
       "\n",
       "   Youtube_Dislikes  \n",
       "0               497  \n",
       "1               306  \n",
       "2              2139  "
      ]
     },
     "execution_count": 8,
     "metadata": {},
     "output_type": "execute_result"
    }
   ],
   "source": [
    "df2.head(3)"
   ]
  },
  {
   "cell_type": "code",
   "execution_count": 9,
   "metadata": {},
   "outputs": [
    {
     "name": "stdout",
     "output_type": "stream",
     "text": [
      "<class 'pandas.core.frame.DataFrame'>\n",
      "RangeIndex: 51 entries, 0 to 50\n",
      "Data columns (total 11 columns):\n",
      "Movie_ID                 51 non-null int64\n",
      "Release_Date             51 non-null object\n",
      "Movie_Name               51 non-null object\n",
      "Release_Time             51 non-null int64\n",
      "Genre                    51 non-null object\n",
      "BudgetCr                 51 non-null object\n",
      "BoxOfficeCollectionCr    51 non-null object\n",
      "Youtube_Views            51 non-null int64\n",
      "Youtube_Likes            50 non-null float64\n",
      "Youtube_Dislikes         48 non-null float64\n",
      "YoutubeLikeDislikes      51 non-null int64\n",
      "dtypes: float64(2), int64(4), object(5)\n",
      "memory usage: 4.5+ KB\n"
     ]
    }
   ],
   "source": [
    "df1.info()"
   ]
  },
  {
   "cell_type": "code",
   "execution_count": 10,
   "metadata": {},
   "outputs": [
    {
     "name": "stdout",
     "output_type": "stream",
     "text": [
      "<class 'pandas.core.frame.DataFrame'>\n",
      "RangeIndex: 99 entries, 0 to 98\n",
      "Data columns (total 10 columns):\n",
      "Movie_ID                 99 non-null int64\n",
      "Release_Date             99 non-null object\n",
      "Movie_Name               99 non-null object\n",
      "Release_Time             99 non-null object\n",
      "Genre                    99 non-null object\n",
      "BudgetCr                 99 non-null int64\n",
      "BoxOfficeCollectionCr    99 non-null float64\n",
      "Youtube_Views            99 non-null int64\n",
      "Youtube_Likes            99 non-null int64\n",
      "Youtube_Dislikes         99 non-null int64\n",
      "dtypes: float64(1), int64(5), object(4)\n",
      "memory usage: 7.9+ KB\n"
     ]
    }
   ],
   "source": [
    "df2.info()"
   ]
  },
  {
   "cell_type": "markdown",
   "metadata": {},
   "source": [
    "### Q1. Identify and rectify the eight prominent data quality issues present in the given datasets.                                                                                                                   "
   ]
  },
  {
   "cell_type": "markdown",
   "metadata": {},
   "source": [
    "Eight data quality issues in the current datasets that need to be fixed:\n",
    "#1. Missing column in dataset2 YoutubeLikeDislikes. \n",
    "#2. Missing values in Youtube_Likes and Youtube_Dislikes columns.\n",
    "#3. Release_Date date format standardize in both files and has some invalid data which are not date.\n",
    "#4. Release_Time categorical value not in same format in both files.\n",
    "#5. Genre categorical value not in same format in both files. \n",
    "#6. BudgetCr :All the data is not in Numerical format. Some have Cr added to them.\n",
    "#7. BoxOfficeCollectionCr: All the data is not in Numerical format. Some have Cr added to them.\n",
    "#8. Duplicate entries are present."
   ]
  },
  {
   "cell_type": "markdown",
   "metadata": {},
   "source": [
    "###### 1. Missing column in dataset2 YoutubeLikeDislikes. Adding column and adding value to this column"
   ]
  },
  {
   "cell_type": "code",
   "execution_count": 11,
   "metadata": {},
   "outputs": [],
   "source": [
    "df2['YoutubeLikeDislikes']=df2['Youtube_Likes']+df2['Youtube_Dislikes']"
   ]
  },
  {
   "cell_type": "code",
   "execution_count": 12,
   "metadata": {},
   "outputs": [
    {
     "name": "stdout",
     "output_type": "stream",
     "text": [
      "<class 'pandas.core.frame.DataFrame'>\n",
      "RangeIndex: 99 entries, 0 to 98\n",
      "Data columns (total 11 columns):\n",
      "Movie_ID                 99 non-null int64\n",
      "Release_Date             99 non-null object\n",
      "Movie_Name               99 non-null object\n",
      "Release_Time             99 non-null object\n",
      "Genre                    99 non-null object\n",
      "BudgetCr                 99 non-null int64\n",
      "BoxOfficeCollectionCr    99 non-null float64\n",
      "Youtube_Views            99 non-null int64\n",
      "Youtube_Likes            99 non-null int64\n",
      "Youtube_Dislikes         99 non-null int64\n",
      "YoutubeLikeDislikes      99 non-null int64\n",
      "dtypes: float64(1), int64(6), object(4)\n",
      "memory usage: 8.6+ KB\n"
     ]
    }
   ],
   "source": [
    "df2.info()"
   ]
  },
  {
   "cell_type": "markdown",
   "metadata": {},
   "source": [
    "###### 2. Missing values in Youtube_Likes and Youtube_Dislikes columns in dataset1. Deriving missing values using formula\n",
    "YoutubeLikeDislikes = Youtube_Likes + Youtube_Dislikes"
   ]
  },
  {
   "cell_type": "code",
   "execution_count": 13,
   "metadata": {},
   "outputs": [
    {
     "data": {
      "text/html": [
       "<div>\n",
       "<style scoped>\n",
       "    .dataframe tbody tr th:only-of-type {\n",
       "        vertical-align: middle;\n",
       "    }\n",
       "\n",
       "    .dataframe tbody tr th {\n",
       "        vertical-align: top;\n",
       "    }\n",
       "\n",
       "    .dataframe thead th {\n",
       "        text-align: right;\n",
       "    }\n",
       "</style>\n",
       "<table border=\"1\" class=\"dataframe\">\n",
       "  <thead>\n",
       "    <tr style=\"text-align: right;\">\n",
       "      <th></th>\n",
       "      <th>Movie_ID</th>\n",
       "      <th>Release_Date</th>\n",
       "      <th>Movie_Name</th>\n",
       "      <th>Release_Time</th>\n",
       "      <th>Genre</th>\n",
       "      <th>BudgetCr</th>\n",
       "      <th>BoxOfficeCollectionCr</th>\n",
       "      <th>Youtube_Views</th>\n",
       "      <th>Youtube_Likes</th>\n",
       "      <th>Youtube_Dislikes</th>\n",
       "      <th>YoutubeLikeDislikes</th>\n",
       "    </tr>\n",
       "  </thead>\n",
       "  <tbody>\n",
       "    <tr>\n",
       "      <td>39</td>\n",
       "      <td>40</td>\n",
       "      <td>Jun-20-2014</td>\n",
       "      <td>Humshakals</td>\n",
       "      <td>2</td>\n",
       "      <td>ComedyGenre</td>\n",
       "      <td>75Cr</td>\n",
       "      <td>63.7</td>\n",
       "      <td>6280868</td>\n",
       "      <td>NaN</td>\n",
       "      <td>1.0</td>\n",
       "      <td>2</td>\n",
       "    </tr>\n",
       "  </tbody>\n",
       "</table>\n",
       "</div>"
      ],
      "text/plain": [
       "    Movie_ID Release_Date  Movie_Name  Release_Time        Genre BudgetCr  \\\n",
       "39        40  Jun-20-2014  Humshakals             2  ComedyGenre     75Cr   \n",
       "\n",
       "   BoxOfficeCollectionCr  Youtube_Views  Youtube_Likes  Youtube_Dislikes  \\\n",
       "39                  63.7        6280868            NaN               1.0   \n",
       "\n",
       "    YoutubeLikeDislikes  \n",
       "39                    2  "
      ]
     },
     "execution_count": 13,
     "metadata": {},
     "output_type": "execute_result"
    }
   ],
   "source": [
    "df1[df1['Youtube_Likes'].isnull()]\n"
   ]
  },
  {
   "cell_type": "code",
   "execution_count": 14,
   "metadata": {},
   "outputs": [
    {
     "data": {
      "text/html": [
       "<div>\n",
       "<style scoped>\n",
       "    .dataframe tbody tr th:only-of-type {\n",
       "        vertical-align: middle;\n",
       "    }\n",
       "\n",
       "    .dataframe tbody tr th {\n",
       "        vertical-align: top;\n",
       "    }\n",
       "\n",
       "    .dataframe thead th {\n",
       "        text-align: right;\n",
       "    }\n",
       "</style>\n",
       "<table border=\"1\" class=\"dataframe\">\n",
       "  <thead>\n",
       "    <tr style=\"text-align: right;\">\n",
       "      <th></th>\n",
       "      <th>Movie_ID</th>\n",
       "      <th>Release_Date</th>\n",
       "      <th>Movie_Name</th>\n",
       "      <th>Release_Time</th>\n",
       "      <th>Genre</th>\n",
       "      <th>BudgetCr</th>\n",
       "      <th>BoxOfficeCollectionCr</th>\n",
       "      <th>Youtube_Views</th>\n",
       "      <th>Youtube_Likes</th>\n",
       "      <th>Youtube_Dislikes</th>\n",
       "      <th>YoutubeLikeDislikes</th>\n",
       "    </tr>\n",
       "  </thead>\n",
       "  <tbody>\n",
       "    <tr>\n",
       "      <td>9</td>\n",
       "      <td>10</td>\n",
       "      <td>Jan-11-2013</td>\n",
       "      <td>Gangoobai</td>\n",
       "      <td>4</td>\n",
       "      <td>DramaGenre</td>\n",
       "      <td>2Cr</td>\n",
       "      <td>Cr0.01</td>\n",
       "      <td>4354</td>\n",
       "      <td>1.0</td>\n",
       "      <td>NaN</td>\n",
       "      <td>2</td>\n",
       "    </tr>\n",
       "    <tr>\n",
       "      <td>31</td>\n",
       "      <td>32</td>\n",
       "      <td>Feb-15-2013</td>\n",
       "      <td>Murder 3</td>\n",
       "      <td>1</td>\n",
       "      <td>Thriller</td>\n",
       "      <td>12Cr</td>\n",
       "      <td>25</td>\n",
       "      <td>2249055</td>\n",
       "      <td>1879.0</td>\n",
       "      <td>NaN</td>\n",
       "      <td>2626</td>\n",
       "    </tr>\n",
       "    <tr>\n",
       "      <td>46</td>\n",
       "      <td>47</td>\n",
       "      <td>Mar-15-2013</td>\n",
       "      <td>Mere Dad Ki Maruti</td>\n",
       "      <td>4</td>\n",
       "      <td>ComedyGenre</td>\n",
       "      <td>5Cr</td>\n",
       "      <td>11</td>\n",
       "      <td>569711</td>\n",
       "      <td>1226.0</td>\n",
       "      <td>NaN</td>\n",
       "      <td>1359</td>\n",
       "    </tr>\n",
       "  </tbody>\n",
       "</table>\n",
       "</div>"
      ],
      "text/plain": [
       "    Movie_ID Release_Date          Movie_Name  Release_Time        Genre  \\\n",
       "9         10  Jan-11-2013           Gangoobai             4   DramaGenre   \n",
       "31        32  Feb-15-2013            Murder 3             1     Thriller   \n",
       "46        47  Mar-15-2013  Mere Dad Ki Maruti             4  ComedyGenre   \n",
       "\n",
       "   BudgetCr BoxOfficeCollectionCr  Youtube_Views  Youtube_Likes  \\\n",
       "9       2Cr                Cr0.01           4354            1.0   \n",
       "31     12Cr                    25        2249055         1879.0   \n",
       "46      5Cr                    11         569711         1226.0   \n",
       "\n",
       "    Youtube_Dislikes  YoutubeLikeDislikes  \n",
       "9                NaN                    2  \n",
       "31               NaN                 2626  \n",
       "46               NaN                 1359  "
      ]
     },
     "execution_count": 14,
     "metadata": {},
     "output_type": "execute_result"
    }
   ],
   "source": [
    "df1[df1['Youtube_Dislikes'].isnull()]"
   ]
  },
  {
   "cell_type": "code",
   "execution_count": 15,
   "metadata": {},
   "outputs": [],
   "source": [
    "df1.Youtube_Likes.fillna(  df1['YoutubeLikeDislikes']-df1['Youtube_Dislikes'], inplace=True )\n",
    "df1.Youtube_Dislikes.fillna(  df1['YoutubeLikeDislikes']-df1['Youtube_Likes'], inplace=True )"
   ]
  },
  {
   "cell_type": "code",
   "execution_count": 16,
   "metadata": {},
   "outputs": [
    {
     "name": "stdout",
     "output_type": "stream",
     "text": [
      "<class 'pandas.core.frame.DataFrame'>\n",
      "RangeIndex: 51 entries, 0 to 50\n",
      "Data columns (total 11 columns):\n",
      "Movie_ID                 51 non-null int64\n",
      "Release_Date             51 non-null object\n",
      "Movie_Name               51 non-null object\n",
      "Release_Time             51 non-null int64\n",
      "Genre                    51 non-null object\n",
      "BudgetCr                 51 non-null object\n",
      "BoxOfficeCollectionCr    51 non-null object\n",
      "Youtube_Views            51 non-null int64\n",
      "Youtube_Likes            51 non-null float64\n",
      "Youtube_Dislikes         51 non-null float64\n",
      "YoutubeLikeDislikes      51 non-null int64\n",
      "dtypes: float64(2), int64(4), object(5)\n",
      "memory usage: 4.5+ KB\n"
     ]
    }
   ],
   "source": [
    "df1.info()"
   ]
  },
  {
   "cell_type": "markdown",
   "metadata": {},
   "source": [
    "###### 3. Release_Date date format standardize in both files and has some invalid data which are not date."
   ]
  },
  {
   "cell_type": "code",
   "execution_count": 17,
   "metadata": {},
   "outputs": [],
   "source": [
    "# Creating new column Release_Date_new and deriving its value by formatting Release_Date. \n",
    "# This will be dropped after copying it back in Release_Date\n",
    "# errors='coerce' will set invalid dates as NaT without throwing error\n",
    "df1[\"Release_Date_new\"] = pd.to_datetime(df1.Release_Date, format='%b-%d-%Y', errors='coerce')"
   ]
  },
  {
   "cell_type": "code",
   "execution_count": 18,
   "metadata": {},
   "outputs": [
    {
     "data": {
      "text/html": [
       "<div>\n",
       "<style scoped>\n",
       "    .dataframe tbody tr th:only-of-type {\n",
       "        vertical-align: middle;\n",
       "    }\n",
       "\n",
       "    .dataframe tbody tr th {\n",
       "        vertical-align: top;\n",
       "    }\n",
       "\n",
       "    .dataframe thead th {\n",
       "        text-align: right;\n",
       "    }\n",
       "</style>\n",
       "<table border=\"1\" class=\"dataframe\">\n",
       "  <thead>\n",
       "    <tr style=\"text-align: right;\">\n",
       "      <th></th>\n",
       "      <th>Movie_ID</th>\n",
       "      <th>Release_Date</th>\n",
       "      <th>Movie_Name</th>\n",
       "      <th>Release_Time</th>\n",
       "      <th>Genre</th>\n",
       "      <th>BudgetCr</th>\n",
       "      <th>BoxOfficeCollectionCr</th>\n",
       "      <th>Youtube_Views</th>\n",
       "      <th>Youtube_Likes</th>\n",
       "      <th>Youtube_Dislikes</th>\n",
       "      <th>YoutubeLikeDislikes</th>\n",
       "      <th>Release_Date_new</th>\n",
       "    </tr>\n",
       "  </thead>\n",
       "  <tbody>\n",
       "    <tr>\n",
       "      <td>6</td>\n",
       "      <td>7</td>\n",
       "      <td>Sqp-19-2014</td>\n",
       "      <td>Daawat-E-Ishq</td>\n",
       "      <td>4</td>\n",
       "      <td>ComedyGenre</td>\n",
       "      <td>30Cr</td>\n",
       "      <td>24.6</td>\n",
       "      <td>3905050</td>\n",
       "      <td>8315.0</td>\n",
       "      <td>1373.0</td>\n",
       "      <td>9688</td>\n",
       "      <td>NaT</td>\n",
       "    </tr>\n",
       "    <tr>\n",
       "      <td>12</td>\n",
       "      <td>13</td>\n",
       "      <td>Jum-27-2014</td>\n",
       "      <td>Ek Villain</td>\n",
       "      <td>2</td>\n",
       "      <td>RomanceGenre</td>\n",
       "      <td>35Cr</td>\n",
       "      <td>105.5</td>\n",
       "      <td>4518748</td>\n",
       "      <td>13558.0</td>\n",
       "      <td>1094.0</td>\n",
       "      <td>14652</td>\n",
       "      <td>NaT</td>\n",
       "    </tr>\n",
       "    <tr>\n",
       "      <td>17</td>\n",
       "      <td>18</td>\n",
       "      <td>juu-6-2014</td>\n",
       "      <td>Filmistaan</td>\n",
       "      <td>2</td>\n",
       "      <td>ComedyGenre</td>\n",
       "      <td>10Cr</td>\n",
       "      <td>6</td>\n",
       "      <td>989096</td>\n",
       "      <td>1608.0</td>\n",
       "      <td>173.0</td>\n",
       "      <td>1781</td>\n",
       "      <td>NaT</td>\n",
       "    </tr>\n",
       "    <tr>\n",
       "      <td>34</td>\n",
       "      <td>35</td>\n",
       "      <td>Feb-21-204</td>\n",
       "      <td>Highway</td>\n",
       "      <td>4</td>\n",
       "      <td>Drama</td>\n",
       "      <td>30Cr</td>\n",
       "      <td>27.25</td>\n",
       "      <td>3043012</td>\n",
       "      <td>9100.0</td>\n",
       "      <td>971.0</td>\n",
       "      <td>10071</td>\n",
       "      <td>NaT</td>\n",
       "    </tr>\n",
       "  </tbody>\n",
       "</table>\n",
       "</div>"
      ],
      "text/plain": [
       "    Movie_ID Release_Date     Movie_Name  Release_Time         Genre BudgetCr  \\\n",
       "6          7  Sqp-19-2014  Daawat-E-Ishq             4   ComedyGenre     30Cr   \n",
       "12        13  Jum-27-2014     Ek Villain             2  RomanceGenre     35Cr   \n",
       "17        18   juu-6-2014     Filmistaan             2   ComedyGenre     10Cr   \n",
       "34        35   Feb-21-204        Highway             4        Drama      30Cr   \n",
       "\n",
       "   BoxOfficeCollectionCr  Youtube_Views  Youtube_Likes  Youtube_Dislikes  \\\n",
       "6                   24.6        3905050         8315.0            1373.0   \n",
       "12                 105.5        4518748        13558.0            1094.0   \n",
       "17                     6         989096         1608.0             173.0   \n",
       "34                 27.25        3043012         9100.0             971.0   \n",
       "\n",
       "    YoutubeLikeDislikes Release_Date_new  \n",
       "6                  9688              NaT  \n",
       "12                14652              NaT  \n",
       "17                 1781              NaT  \n",
       "34                10071              NaT  "
      ]
     },
     "execution_count": 18,
     "metadata": {},
     "output_type": "execute_result"
    }
   ],
   "source": [
    "df1[df1.Release_Date_new.isnull() ]"
   ]
  },
  {
   "cell_type": "code",
   "execution_count": 19,
   "metadata": {},
   "outputs": [],
   "source": [
    "#Fixing the invalid dates in dataset1"
   ]
  },
  {
   "cell_type": "code",
   "execution_count": 20,
   "metadata": {},
   "outputs": [],
   "source": [
    "df1[\"Release_Date\"].replace(to_replace =\"Sqp\", value = \"Sep\", regex = True, inplace=True)\n",
    "df1[\"Release_Date\"].replace(to_replace =\"Jum\", value = \"Jun\", regex = True, inplace=True)\n",
    "df1[\"Release_Date\"].replace(to_replace =\"juu\", value = \"Jun\", regex = True, inplace=True)\n",
    "df1[\"Release_Date\"].replace(to_replace =\"204\", value = \"2014\", regex = True, inplace=True)"
   ]
  },
  {
   "cell_type": "code",
   "execution_count": 21,
   "metadata": {},
   "outputs": [
    {
     "data": {
      "text/html": [
       "<div>\n",
       "<style scoped>\n",
       "    .dataframe tbody tr th:only-of-type {\n",
       "        vertical-align: middle;\n",
       "    }\n",
       "\n",
       "    .dataframe tbody tr th {\n",
       "        vertical-align: top;\n",
       "    }\n",
       "\n",
       "    .dataframe thead th {\n",
       "        text-align: right;\n",
       "    }\n",
       "</style>\n",
       "<table border=\"1\" class=\"dataframe\">\n",
       "  <thead>\n",
       "    <tr style=\"text-align: right;\">\n",
       "      <th></th>\n",
       "      <th>Movie_ID</th>\n",
       "      <th>Release_Date</th>\n",
       "      <th>Movie_Name</th>\n",
       "      <th>Release_Time</th>\n",
       "      <th>Genre</th>\n",
       "      <th>BudgetCr</th>\n",
       "      <th>BoxOfficeCollectionCr</th>\n",
       "      <th>Youtube_Views</th>\n",
       "      <th>Youtube_Likes</th>\n",
       "      <th>Youtube_Dislikes</th>\n",
       "      <th>YoutubeLikeDislikes</th>\n",
       "      <th>Release_Date_new</th>\n",
       "    </tr>\n",
       "  </thead>\n",
       "  <tbody>\n",
       "    <tr>\n",
       "      <td>6</td>\n",
       "      <td>7</td>\n",
       "      <td>Sep-19-2014</td>\n",
       "      <td>Daawat-E-Ishq</td>\n",
       "      <td>4</td>\n",
       "      <td>ComedyGenre</td>\n",
       "      <td>30Cr</td>\n",
       "      <td>24.6</td>\n",
       "      <td>3905050</td>\n",
       "      <td>8315.0</td>\n",
       "      <td>1373.0</td>\n",
       "      <td>9688</td>\n",
       "      <td>NaT</td>\n",
       "    </tr>\n",
       "    <tr>\n",
       "      <td>12</td>\n",
       "      <td>13</td>\n",
       "      <td>Jun-27-2014</td>\n",
       "      <td>Ek Villain</td>\n",
       "      <td>2</td>\n",
       "      <td>RomanceGenre</td>\n",
       "      <td>35Cr</td>\n",
       "      <td>105.5</td>\n",
       "      <td>4518748</td>\n",
       "      <td>13558.0</td>\n",
       "      <td>1094.0</td>\n",
       "      <td>14652</td>\n",
       "      <td>NaT</td>\n",
       "    </tr>\n",
       "    <tr>\n",
       "      <td>17</td>\n",
       "      <td>18</td>\n",
       "      <td>Jun-6-2014</td>\n",
       "      <td>Filmistaan</td>\n",
       "      <td>2</td>\n",
       "      <td>ComedyGenre</td>\n",
       "      <td>10Cr</td>\n",
       "      <td>6</td>\n",
       "      <td>989096</td>\n",
       "      <td>1608.0</td>\n",
       "      <td>173.0</td>\n",
       "      <td>1781</td>\n",
       "      <td>NaT</td>\n",
       "    </tr>\n",
       "    <tr>\n",
       "      <td>34</td>\n",
       "      <td>35</td>\n",
       "      <td>Feb-21-2014</td>\n",
       "      <td>Highway</td>\n",
       "      <td>4</td>\n",
       "      <td>Drama</td>\n",
       "      <td>30Cr</td>\n",
       "      <td>27.25</td>\n",
       "      <td>3043012</td>\n",
       "      <td>9100.0</td>\n",
       "      <td>971.0</td>\n",
       "      <td>10071</td>\n",
       "      <td>NaT</td>\n",
       "    </tr>\n",
       "  </tbody>\n",
       "</table>\n",
       "</div>"
      ],
      "text/plain": [
       "    Movie_ID Release_Date     Movie_Name  Release_Time         Genre BudgetCr  \\\n",
       "6          7  Sep-19-2014  Daawat-E-Ishq             4   ComedyGenre     30Cr   \n",
       "12        13  Jun-27-2014     Ek Villain             2  RomanceGenre     35Cr   \n",
       "17        18   Jun-6-2014     Filmistaan             2   ComedyGenre     10Cr   \n",
       "34        35  Feb-21-2014        Highway             4        Drama      30Cr   \n",
       "\n",
       "   BoxOfficeCollectionCr  Youtube_Views  Youtube_Likes  Youtube_Dislikes  \\\n",
       "6                   24.6        3905050         8315.0            1373.0   \n",
       "12                 105.5        4518748        13558.0            1094.0   \n",
       "17                     6         989096         1608.0             173.0   \n",
       "34                 27.25        3043012         9100.0             971.0   \n",
       "\n",
       "    YoutubeLikeDislikes Release_Date_new  \n",
       "6                  9688              NaT  \n",
       "12                14652              NaT  \n",
       "17                 1781              NaT  \n",
       "34                10071              NaT  "
      ]
     },
     "execution_count": 21,
     "metadata": {},
     "output_type": "execute_result"
    }
   ],
   "source": [
    "df1[df1.Release_Date_new.isnull() ]"
   ]
  },
  {
   "cell_type": "code",
   "execution_count": 22,
   "metadata": {},
   "outputs": [
    {
     "data": {
      "text/html": [
       "<div>\n",
       "<style scoped>\n",
       "    .dataframe tbody tr th:only-of-type {\n",
       "        vertical-align: middle;\n",
       "    }\n",
       "\n",
       "    .dataframe tbody tr th {\n",
       "        vertical-align: top;\n",
       "    }\n",
       "\n",
       "    .dataframe thead th {\n",
       "        text-align: right;\n",
       "    }\n",
       "</style>\n",
       "<table border=\"1\" class=\"dataframe\">\n",
       "  <thead>\n",
       "    <tr style=\"text-align: right;\">\n",
       "      <th></th>\n",
       "      <th>Movie_ID</th>\n",
       "      <th>Release_Date</th>\n",
       "      <th>Movie_Name</th>\n",
       "      <th>Release_Time</th>\n",
       "      <th>Genre</th>\n",
       "      <th>BudgetCr</th>\n",
       "      <th>BoxOfficeCollectionCr</th>\n",
       "      <th>Youtube_Views</th>\n",
       "      <th>Youtube_Likes</th>\n",
       "      <th>Youtube_Dislikes</th>\n",
       "      <th>YoutubeLikeDislikes</th>\n",
       "      <th>Release_Date_new</th>\n",
       "    </tr>\n",
       "  </thead>\n",
       "  <tbody>\n",
       "  </tbody>\n",
       "</table>\n",
       "</div>"
      ],
      "text/plain": [
       "Empty DataFrame\n",
       "Columns: [Movie_ID, Release_Date, Movie_Name, Release_Time, Genre, BudgetCr, BoxOfficeCollectionCr, Youtube_Views, Youtube_Likes, Youtube_Dislikes, YoutubeLikeDislikes, Release_Date_new]\n",
       "Index: []"
      ]
     },
     "execution_count": 22,
     "metadata": {},
     "output_type": "execute_result"
    }
   ],
   "source": [
    "df1[\"Release_Date_new\"] = pd.to_datetime(df1.Release_Date, format='%b-%d-%Y', errors='coerce')\n",
    "df1[df1.Release_Date_new.isnull() ]"
   ]
  },
  {
   "cell_type": "code",
   "execution_count": 23,
   "metadata": {},
   "outputs": [],
   "source": [
    "# No missing values in Release_Date_new, so copying it to Release_Date and dropping Release_Date_new\n",
    "df1[\"Release_Date\"]=df1[\"Release_Date_new\"]\n",
    "df1.drop([\"Release_Date_new\"], axis=1, inplace=True)"
   ]
  },
  {
   "cell_type": "code",
   "execution_count": 24,
   "metadata": {},
   "outputs": [
    {
     "data": {
      "text/html": [
       "<div>\n",
       "<style scoped>\n",
       "    .dataframe tbody tr th:only-of-type {\n",
       "        vertical-align: middle;\n",
       "    }\n",
       "\n",
       "    .dataframe tbody tr th {\n",
       "        vertical-align: top;\n",
       "    }\n",
       "\n",
       "    .dataframe thead th {\n",
       "        text-align: right;\n",
       "    }\n",
       "</style>\n",
       "<table border=\"1\" class=\"dataframe\">\n",
       "  <thead>\n",
       "    <tr style=\"text-align: right;\">\n",
       "      <th></th>\n",
       "      <th>Movie_ID</th>\n",
       "      <th>Release_Date</th>\n",
       "      <th>Movie_Name</th>\n",
       "      <th>Release_Time</th>\n",
       "      <th>Genre</th>\n",
       "      <th>BudgetCr</th>\n",
       "      <th>BoxOfficeCollectionCr</th>\n",
       "      <th>Youtube_Views</th>\n",
       "      <th>Youtube_Likes</th>\n",
       "      <th>Youtube_Dislikes</th>\n",
       "      <th>YoutubeLikeDislikes</th>\n",
       "      <th>Release_Date_new</th>\n",
       "    </tr>\n",
       "  </thead>\n",
       "  <tbody>\n",
       "  </tbody>\n",
       "</table>\n",
       "</div>"
      ],
      "text/plain": [
       "Empty DataFrame\n",
       "Columns: [Movie_ID, Release_Date, Movie_Name, Release_Time, Genre, BudgetCr, BoxOfficeCollectionCr, Youtube_Views, Youtube_Likes, Youtube_Dislikes, YoutubeLikeDislikes, Release_Date_new]\n",
       "Index: []"
      ]
     },
     "execution_count": 24,
     "metadata": {},
     "output_type": "execute_result"
    }
   ],
   "source": [
    "# Repeating above steps for formatting Release Date column in dataset2\n",
    "df2[\"Release_Date_new\"] = pd.to_datetime(df2.Release_Date, format='%d-%b-%y', errors='coerce')\n",
    "df2[df2.Release_Date_new.isnull() ]"
   ]
  },
  {
   "cell_type": "code",
   "execution_count": 25,
   "metadata": {},
   "outputs": [],
   "source": [
    "# No missing values in Release_Date_new, so copying it to Release_Date and dropping Release_Date_new\n",
    "df2[\"Release_Date\"]=df2[\"Release_Date_new\"]\n",
    "df2.drop([\"Release_Date_new\"], axis=1, inplace=True)"
   ]
  },
  {
   "cell_type": "markdown",
   "metadata": {},
   "source": [
    "###### 4. Release_Time categorical value not in same format in both files."
   ]
  },
  {
   "cell_type": "code",
   "execution_count": 26,
   "metadata": {},
   "outputs": [
    {
     "data": {
      "text/plain": [
       "4     33\n",
       "2     10\n",
       "3      4\n",
       "1      3\n",
       "44     1\n",
       "Name: Release_Time, dtype: int64"
      ]
     },
     "execution_count": 26,
     "metadata": {},
     "output_type": "execute_result"
    }
   ],
   "source": [
    "df1['Release_Time'].value_counts()"
   ]
  },
  {
   "cell_type": "code",
   "execution_count": 27,
   "metadata": {},
   "outputs": [
    {
     "data": {
      "text/plain": [
       "4    34\n",
       "2    10\n",
       "3     4\n",
       "1     3\n",
       "Name: Release_Time, dtype: int64"
      ]
     },
     "execution_count": 27,
     "metadata": {},
     "output_type": "execute_result"
    }
   ],
   "source": [
    "df1['Release_Time'].replace(to_replace =44, value = 4, regex = True, inplace=True)\n",
    "df1['Release_Time'].value_counts()"
   ]
  },
  {
   "cell_type": "code",
   "execution_count": 28,
   "metadata": {},
   "outputs": [
    {
     "data": {
      "text/plain": [
       "N     66\n",
       "FS    14\n",
       "LW    11\n",
       "HS     8\n",
       "Name: Release_Time, dtype: int64"
      ]
     },
     "execution_count": 28,
     "metadata": {},
     "output_type": "execute_result"
    }
   ],
   "source": [
    "df2['Release_Time'].value_counts()"
   ]
  },
  {
   "cell_type": "code",
   "execution_count": 29,
   "metadata": {},
   "outputs": [],
   "source": [
    "#Changing the categorical format in dataset2 to the format present in dataset1"
   ]
  },
  {
   "cell_type": "code",
   "execution_count": 30,
   "metadata": {},
   "outputs": [],
   "source": [
    "release_time_cleanup = {\"Release_Time\": {\"FS\": 1, \"HS\": 2, \"LW\": 3, \"N\": 4 }}\n",
    "df2.replace(release_time_cleanup, inplace=True)\n"
   ]
  },
  {
   "cell_type": "code",
   "execution_count": 31,
   "metadata": {},
   "outputs": [
    {
     "data": {
      "text/plain": [
       "4    66\n",
       "1    14\n",
       "3    11\n",
       "2     8\n",
       "Name: Release_Time, dtype: int64"
      ]
     },
     "execution_count": 31,
     "metadata": {},
     "output_type": "execute_result"
    }
   ],
   "source": [
    "df2['Release_Time'].value_counts()"
   ]
  },
  {
   "cell_type": "markdown",
   "metadata": {},
   "source": [
    "###### 5. Genre categorical value not in same format in both files. "
   ]
  },
  {
   "cell_type": "code",
   "execution_count": 32,
   "metadata": {},
   "outputs": [
    {
     "data": {
      "text/plain": [
       "ComedyGenre     12\n",
       " DramaGenre     11\n",
       "RomanceGenre     9\n",
       "ActionGenre      9\n",
       "Thriller         5\n",
       "Thriller         3\n",
       "Action           1\n",
       " Drama           1\n",
       "Name: Genre, dtype: int64"
      ]
     },
     "execution_count": 32,
     "metadata": {},
     "output_type": "execute_result"
    }
   ],
   "source": [
    "df1[\"Genre\"].value_counts()"
   ]
  },
  {
   "cell_type": "code",
   "execution_count": 33,
   "metadata": {},
   "outputs": [
    {
     "data": {
      "text/plain": [
       "Drama       12\n",
       "Comedy      12\n",
       "Action      10\n",
       "Romance      9\n",
       "Thriller     8\n",
       "Name: Genre, dtype: int64"
      ]
     },
     "execution_count": 33,
     "metadata": {},
     "output_type": "execute_result"
    }
   ],
   "source": [
    "#Removing Genre and spaces from each of the Genre column in dataset1\n",
    "df1[\"Genre\"].replace(to_replace =\"Genre\", value = \"\", regex = True, inplace=True)\n",
    "df1[\"Genre\"]=df1[\"Genre\"].str.lstrip()\n",
    "df1[\"Genre\"]=df1[\"Genre\"].str.rstrip()\n",
    "df1[\"Genre\"].value_counts()"
   ]
  },
  {
   "cell_type": "code",
   "execution_count": 34,
   "metadata": {},
   "outputs": [
    {
     "data": {
      "text/plain": [
       "Comedy      24\n",
       "Drama       23\n",
       "Thriller    21\n",
       "Romance     17\n",
       "Action      14\n",
       "Name: Genre, dtype: int64"
      ]
     },
     "execution_count": 34,
     "metadata": {},
     "output_type": "execute_result"
    }
   ],
   "source": [
    "#Removing Genre and spaces from each of the Genre column in dataset2\n",
    "df2[\"Genre\"].replace(to_replace =\"Genre\", value = \"\", regex = True, inplace=True)\n",
    "df2[\"Genre\"]=df2[\"Genre\"].str.lstrip()\n",
    "df2[\"Genre\"]=df2[\"Genre\"].str.rstrip()\n",
    "df2[\"Genre\"].value_counts()"
   ]
  },
  {
   "cell_type": "markdown",
   "metadata": {},
   "source": [
    "###### 6. BudgetCr :All the data is not in Numerical format. Some have Cr added to them.\n"
   ]
  },
  {
   "cell_type": "code",
   "execution_count": 35,
   "metadata": {},
   "outputs": [
    {
     "data": {
      "text/plain": [
       "10     6\n",
       "12     5\n",
       "30     4\n",
       "5      3\n",
       "7      3\n",
       "36     2\n",
       "15     2\n",
       "60     2\n",
       "50     2\n",
       "4      2\n",
       "35     2\n",
       "20     1\n",
       "28     1\n",
       "2      1\n",
       "16     1\n",
       "48     1\n",
       "11     1\n",
       "125    1\n",
       "33     1\n",
       "100    1\n",
       "8      1\n",
       "42     1\n",
       "27     1\n",
       "24     1\n",
       "31     1\n",
       "75     1\n",
       "21     1\n",
       "18     1\n",
       "120    1\n",
       "Name: BudgetCr, dtype: int64"
      ]
     },
     "execution_count": 35,
     "metadata": {},
     "output_type": "execute_result"
    }
   ],
   "source": [
    "#Removing Cr from BudgetCr and trimming spaces\n",
    "df1[\"BudgetCr\"].replace(to_replace =\"Cr\", value = \"\", regex = True, inplace=True)\n",
    "df1[\"BudgetCr\"]=df1[\"BudgetCr\"].str.lstrip()\n",
    "df1[\"BudgetCr\"]=df1[\"BudgetCr\"].str.rstrip()\n",
    "df1[\"BudgetCr\"].value_counts()"
   ]
  },
  {
   "cell_type": "code",
   "execution_count": 36,
   "metadata": {},
   "outputs": [
    {
     "data": {
      "text/plain": [
       "15     8\n",
       "5      6\n",
       "35     6\n",
       "10     6\n",
       "30     5\n",
       "40     5\n",
       "50     5\n",
       "25     4\n",
       "24     4\n",
       "12     4\n",
       "16     3\n",
       "18     3\n",
       "20     3\n",
       "11     2\n",
       "6      2\n",
       "4      2\n",
       "22     2\n",
       "2      2\n",
       "90     2\n",
       "85     2\n",
       "75     2\n",
       "27     2\n",
       "26     1\n",
       "13     1\n",
       "3      1\n",
       "100    1\n",
       "8      1\n",
       "9      1\n",
       "70     1\n",
       "60     1\n",
       "14     1\n",
       "150    1\n",
       "45     1\n",
       "32     1\n",
       "19     1\n",
       "31     1\n",
       "21     1\n",
       "29     1\n",
       "23     1\n",
       "115    1\n",
       "140    1\n",
       "Name: BudgetCr, dtype: int64"
      ]
     },
     "execution_count": 36,
     "metadata": {},
     "output_type": "execute_result"
    }
   ],
   "source": [
    "# dataset2 has BudgetCr in proper format\n",
    "df2[\"BudgetCr\"].value_counts()"
   ]
  },
  {
   "cell_type": "code",
   "execution_count": 37,
   "metadata": {},
   "outputs": [
    {
     "name": "stdout",
     "output_type": "stream",
     "text": [
      "BudgetCr in dataset1 is numeric  True\n",
      "BudgetCr in dataset2 is numeric  True\n"
     ]
    }
   ],
   "source": [
    "print(\"BudgetCr in dataset1 is numeric \", pd.to_numeric(df1['BudgetCr'], errors='coerce').notnull().all())\n",
    "print(\"BudgetCr in dataset2 is numeric \", pd.to_numeric(df2['BudgetCr'], errors='coerce').notnull().all())"
   ]
  },
  {
   "cell_type": "markdown",
   "metadata": {},
   "source": [
    "###### 7. BoxOfficeCollectionCr: All the data is not in Numerical format. Some have Cr added to them."
   ]
  },
  {
   "cell_type": "code",
   "execution_count": 38,
   "metadata": {},
   "outputs": [
    {
     "data": {
      "text/plain": [
       "383      2\n",
       "6        2\n",
       "32       1\n",
       "32.7     1\n",
       "0.5      1\n",
       "1.5      1\n",
       "4        1\n",
       "0.01     1\n",
       "16       1\n",
       "69       1\n",
       "76.7     1\n",
       "2.5      1\n",
       "105.5    1\n",
       "12.6     1\n",
       "62.2     1\n",
       "65       1\n",
       "27.25    1\n",
       "103      1\n",
       "12       1\n",
       "22       1\n",
       "5.82     1\n",
       "58.9     1\n",
       "2        1\n",
       "111      1\n",
       "0.09     1\n",
       "27       1\n",
       "10       1\n",
       "25       1\n",
       "11       1\n",
       "3.65     1\n",
       "104      1\n",
       "163      1\n",
       "40       1\n",
       "14.3     1\n",
       "27.16    1\n",
       "36       1\n",
       "1.8      1\n",
       "24.6     1\n",
       "39.4     1\n",
       "21.5     1\n",
       "162      1\n",
       "10.25    1\n",
       "35       1\n",
       "63.7     1\n",
       "44       1\n",
       "129      1\n",
       "10.8     1\n",
       "377      1\n",
       "130      1\n",
       "Name: BoxOfficeCollectionCr, dtype: int64"
      ]
     },
     "execution_count": 38,
     "metadata": {},
     "output_type": "execute_result"
    }
   ],
   "source": [
    "#Removing Cr from BoxOfficeCollectionCr and trimming spaces\n",
    "\n",
    "df1[\"BoxOfficeCollectionCr\"].replace(to_replace =\"Cr\", value = \"\", regex = True, inplace=True)\n",
    "df1[\"BoxOfficeCollectionCr\"]=df1[\"BoxOfficeCollectionCr\"].str.lstrip()\n",
    "df1[\"BoxOfficeCollectionCr\"]=df1[\"BoxOfficeCollectionCr\"].str.rstrip()\n",
    "df1[\"BoxOfficeCollectionCr\"].value_counts()"
   ]
  },
  {
   "cell_type": "code",
   "execution_count": 39,
   "metadata": {},
   "outputs": [
    {
     "data": {
      "text/plain": [
       "40.00     3\n",
       "55.00     3\n",
       "2.00      3\n",
       "1.10      2\n",
       "10.00     2\n",
       "         ..\n",
       "12.65     1\n",
       "18.20     1\n",
       "298.00    1\n",
       "22.00     1\n",
       "5.00      1\n",
       "Name: BoxOfficeCollectionCr, Length: 84, dtype: int64"
      ]
     },
     "execution_count": 39,
     "metadata": {},
     "output_type": "execute_result"
    }
   ],
   "source": [
    "# dataset2 has BoxOfficeCollectionCr in proper format\n",
    "\n",
    "df2[\"BoxOfficeCollectionCr\"].value_counts()"
   ]
  },
  {
   "cell_type": "code",
   "execution_count": 40,
   "metadata": {},
   "outputs": [
    {
     "name": "stdout",
     "output_type": "stream",
     "text": [
      "BoxOfficeCollectionCr in dataset1 is numeric  True\n",
      "BoxOfficeCollectionCr in dataset2 is numeric  True\n"
     ]
    }
   ],
   "source": [
    "print(\"BoxOfficeCollectionCr in dataset1 is numeric \", pd.to_numeric(df1['BoxOfficeCollectionCr'], errors='coerce').notnull().all())\n",
    "print(\"BoxOfficeCollectionCr in dataset2 is numeric \", pd.to_numeric(df2['BoxOfficeCollectionCr'], errors='coerce').notnull().all())"
   ]
  },
  {
   "cell_type": "markdown",
   "metadata": {},
   "source": [
    "###### Almost all issues are resolved. Before checking for duplicates lets merge both datasets into one. "
   ]
  },
  {
   "cell_type": "code",
   "execution_count": 41,
   "metadata": {
    "scrolled": true
   },
   "outputs": [
    {
     "name": "stdout",
     "output_type": "stream",
     "text": [
      "<class 'pandas.core.frame.DataFrame'>\n",
      "Int64Index: 150 entries, 0 to 98\n",
      "Data columns (total 11 columns):\n",
      "Movie_ID                 150 non-null int64\n",
      "Release_Date             150 non-null datetime64[ns]\n",
      "Movie_Name               150 non-null object\n",
      "Release_Time             150 non-null int64\n",
      "Genre                    150 non-null object\n",
      "BudgetCr                 150 non-null object\n",
      "BoxOfficeCollectionCr    150 non-null object\n",
      "Youtube_Views            150 non-null int64\n",
      "Youtube_Likes            150 non-null float64\n",
      "Youtube_Dislikes         150 non-null float64\n",
      "YoutubeLikeDislikes      150 non-null int64\n",
      "dtypes: datetime64[ns](1), float64(2), int64(4), object(4)\n",
      "memory usage: 14.1+ KB\n"
     ]
    }
   ],
   "source": [
    "final_df = pd.concat([df1, df2])\n",
    "final_df.info()"
   ]
  },
  {
   "cell_type": "code",
   "execution_count": 42,
   "metadata": {},
   "outputs": [
    {
     "name": "stdout",
     "output_type": "stream",
     "text": [
      "<class 'pandas.core.frame.DataFrame'>\n",
      "Int64Index: 150 entries, 0 to 98\n",
      "Data columns (total 11 columns):\n",
      "Movie_ID                 150 non-null int64\n",
      "Release_Date             150 non-null datetime64[ns]\n",
      "Movie_Name               150 non-null object\n",
      "Release_Time             150 non-null int64\n",
      "Genre                    150 non-null object\n",
      "BudgetCr                 150 non-null int64\n",
      "BoxOfficeCollectionCr    150 non-null float64\n",
      "Youtube_Views            150 non-null int64\n",
      "Youtube_Likes            150 non-null float64\n",
      "Youtube_Dislikes         150 non-null float64\n",
      "YoutubeLikeDislikes      150 non-null int64\n",
      "dtypes: datetime64[ns](1), float64(3), int64(5), object(2)\n",
      "memory usage: 14.1+ KB\n"
     ]
    }
   ],
   "source": [
    "#BudgetCr and  BoxOfficeCollectionCr are non-numeric. Converting to numeric for ROI calculation.\n",
    "final_df[\"BudgetCr\"] = pd.to_numeric(final_df[\"BudgetCr\"], errors='coerce')\n",
    "final_df[\"BoxOfficeCollectionCr\"] = pd.to_numeric(final_df[\"BoxOfficeCollectionCr\"], errors='coerce')\n",
    "final_df.info()"
   ]
  },
  {
   "cell_type": "markdown",
   "metadata": {},
   "source": [
    "###### 8. Checking if Duplicate entries are present."
   ]
  },
  {
   "cell_type": "code",
   "execution_count": 43,
   "metadata": {},
   "outputs": [
    {
     "data": {
      "text/html": [
       "<div>\n",
       "<style scoped>\n",
       "    .dataframe tbody tr th:only-of-type {\n",
       "        vertical-align: middle;\n",
       "    }\n",
       "\n",
       "    .dataframe tbody tr th {\n",
       "        vertical-align: top;\n",
       "    }\n",
       "\n",
       "    .dataframe thead th {\n",
       "        text-align: right;\n",
       "    }\n",
       "</style>\n",
       "<table border=\"1\" class=\"dataframe\">\n",
       "  <thead>\n",
       "    <tr style=\"text-align: right;\">\n",
       "      <th></th>\n",
       "      <th>Movie_ID</th>\n",
       "      <th>Release_Date</th>\n",
       "      <th>Movie_Name</th>\n",
       "      <th>Release_Time</th>\n",
       "      <th>Genre</th>\n",
       "      <th>BudgetCr</th>\n",
       "      <th>BoxOfficeCollectionCr</th>\n",
       "      <th>Youtube_Views</th>\n",
       "      <th>Youtube_Likes</th>\n",
       "      <th>Youtube_Dislikes</th>\n",
       "      <th>YoutubeLikeDislikes</th>\n",
       "    </tr>\n",
       "  </thead>\n",
       "  <tbody>\n",
       "    <tr>\n",
       "      <td>50</td>\n",
       "      <td>51</td>\n",
       "      <td>2014-07-07</td>\n",
       "      <td>Lekar Hum Deewana Dil</td>\n",
       "      <td>4</td>\n",
       "      <td>Romance</td>\n",
       "      <td>16</td>\n",
       "      <td>2.5</td>\n",
       "      <td>3998331</td>\n",
       "      <td>2307.0</td>\n",
       "      <td>497.0</td>\n",
       "      <td>2804</td>\n",
       "    </tr>\n",
       "    <tr>\n",
       "      <td>0</td>\n",
       "      <td>51</td>\n",
       "      <td>2014-07-04</td>\n",
       "      <td>Lekar Hum Deewana Dil</td>\n",
       "      <td>4</td>\n",
       "      <td>Romance</td>\n",
       "      <td>16</td>\n",
       "      <td>2.5</td>\n",
       "      <td>3998331</td>\n",
       "      <td>2307.0</td>\n",
       "      <td>497.0</td>\n",
       "      <td>2804</td>\n",
       "    </tr>\n",
       "  </tbody>\n",
       "</table>\n",
       "</div>"
      ],
      "text/plain": [
       "    Movie_ID Release_Date             Movie_Name  Release_Time    Genre  \\\n",
       "50        51   2014-07-07  Lekar Hum Deewana Dil             4  Romance   \n",
       "0         51   2014-07-04  Lekar Hum Deewana Dil             4  Romance   \n",
       "\n",
       "    BudgetCr  BoxOfficeCollectionCr  Youtube_Views  Youtube_Likes  \\\n",
       "50        16                    2.5        3998331         2307.0   \n",
       "0         16                    2.5        3998331         2307.0   \n",
       "\n",
       "    Youtube_Dislikes  YoutubeLikeDislikes  \n",
       "50             497.0                 2804  \n",
       "0              497.0                 2804  "
      ]
     },
     "execution_count": 43,
     "metadata": {},
     "output_type": "execute_result"
    }
   ],
   "source": [
    "final_df[final_df.duplicated(['Movie_ID'],keep=False)]"
   ]
  },
  {
   "cell_type": "markdown",
   "metadata": {},
   "source": [
    "#There is a duplicate row. The 2 rows vary on Release_date. So to decide on which one to keep, we check external source (IMDB) and found release date is correct for 0th Record.\n",
    "#Keeping 0th and dropping 51st row."
   ]
  },
  {
   "cell_type": "code",
   "execution_count": 44,
   "metadata": {},
   "outputs": [],
   "source": [
    "final_df.drop_duplicates(subset =\"Movie_ID\", keep = 'first', inplace = True) "
   ]
  },
  {
   "cell_type": "markdown",
   "metadata": {},
   "source": [
    "#All the data quality issues are resolved now. \n",
    "#The clean data is in final_df."
   ]
  },
  {
   "cell_type": "markdown",
   "metadata": {},
   "source": [
    "### Q2. How many records are present in the dataset? Print the metadata information of dataset."
   ]
  },
  {
   "cell_type": "code",
   "execution_count": 45,
   "metadata": {},
   "outputs": [
    {
     "data": {
      "text/plain": [
       "(149, 11)"
      ]
     },
     "execution_count": 45,
     "metadata": {},
     "output_type": "execute_result"
    }
   ],
   "source": [
    "final_df.shape"
   ]
  },
  {
   "cell_type": "markdown",
   "metadata": {},
   "source": [
    "Final dataset has 149 records"
   ]
  },
  {
   "cell_type": "code",
   "execution_count": 46,
   "metadata": {},
   "outputs": [
    {
     "name": "stdout",
     "output_type": "stream",
     "text": [
      "<class 'pandas.core.frame.DataFrame'>\n",
      "Int64Index: 149 entries, 0 to 98\n",
      "Data columns (total 11 columns):\n",
      "Movie_ID                 149 non-null int64\n",
      "Release_Date             149 non-null datetime64[ns]\n",
      "Movie_Name               149 non-null object\n",
      "Release_Time             149 non-null int64\n",
      "Genre                    149 non-null object\n",
      "BudgetCr                 149 non-null int64\n",
      "BoxOfficeCollectionCr    149 non-null float64\n",
      "Youtube_Views            149 non-null int64\n",
      "Youtube_Likes            149 non-null float64\n",
      "Youtube_Dislikes         149 non-null float64\n",
      "YoutubeLikeDislikes      149 non-null int64\n",
      "dtypes: datetime64[ns](1), float64(3), int64(5), object(2)\n",
      "memory usage: 14.0+ KB\n"
     ]
    }
   ],
   "source": [
    "#Metadata\n",
    "final_df.info()"
   ]
  },
  {
   "cell_type": "code",
   "execution_count": 47,
   "metadata": {},
   "outputs": [
    {
     "data": {
      "text/html": [
       "<div>\n",
       "<style scoped>\n",
       "    .dataframe tbody tr th:only-of-type {\n",
       "        vertical-align: middle;\n",
       "    }\n",
       "\n",
       "    .dataframe tbody tr th {\n",
       "        vertical-align: top;\n",
       "    }\n",
       "\n",
       "    .dataframe thead th {\n",
       "        text-align: right;\n",
       "    }\n",
       "</style>\n",
       "<table border=\"1\" class=\"dataframe\">\n",
       "  <thead>\n",
       "    <tr style=\"text-align: right;\">\n",
       "      <th></th>\n",
       "      <th>Movie_ID</th>\n",
       "      <th>Release_Time</th>\n",
       "      <th>BudgetCr</th>\n",
       "      <th>BoxOfficeCollectionCr</th>\n",
       "      <th>Youtube_Views</th>\n",
       "      <th>Youtube_Likes</th>\n",
       "      <th>Youtube_Dislikes</th>\n",
       "      <th>YoutubeLikeDislikes</th>\n",
       "    </tr>\n",
       "  </thead>\n",
       "  <tbody>\n",
       "    <tr>\n",
       "      <td>count</td>\n",
       "      <td>149.000000</td>\n",
       "      <td>149.000000</td>\n",
       "      <td>149.000000</td>\n",
       "      <td>149.000000</td>\n",
       "      <td>1.490000e+02</td>\n",
       "      <td>149.000000</td>\n",
       "      <td>149.000000</td>\n",
       "      <td>149.000000</td>\n",
       "    </tr>\n",
       "    <tr>\n",
       "      <td>mean</td>\n",
       "      <td>75.000000</td>\n",
       "      <td>3.315436</td>\n",
       "      <td>29.442953</td>\n",
       "      <td>58.235369</td>\n",
       "      <td>3.337920e+06</td>\n",
       "      <td>7877.536913</td>\n",
       "      <td>1207.818792</td>\n",
       "      <td>9085.355705</td>\n",
       "    </tr>\n",
       "    <tr>\n",
       "      <td>std</td>\n",
       "      <td>43.156691</td>\n",
       "      <td>1.072300</td>\n",
       "      <td>28.237981</td>\n",
       "      <td>98.111494</td>\n",
       "      <td>3.504407e+06</td>\n",
       "      <td>12748.047191</td>\n",
       "      <td>1852.692938</td>\n",
       "      <td>14372.048371</td>\n",
       "    </tr>\n",
       "    <tr>\n",
       "      <td>min</td>\n",
       "      <td>1.000000</td>\n",
       "      <td>1.000000</td>\n",
       "      <td>2.000000</td>\n",
       "      <td>0.010000</td>\n",
       "      <td>4.354000e+03</td>\n",
       "      <td>1.000000</td>\n",
       "      <td>1.000000</td>\n",
       "      <td>2.000000</td>\n",
       "    </tr>\n",
       "    <tr>\n",
       "      <td>25%</td>\n",
       "      <td>38.000000</td>\n",
       "      <td>3.000000</td>\n",
       "      <td>11.000000</td>\n",
       "      <td>10.000000</td>\n",
       "      <td>1.076591e+06</td>\n",
       "      <td>1377.000000</td>\n",
       "      <td>189.000000</td>\n",
       "      <td>1637.000000</td>\n",
       "    </tr>\n",
       "    <tr>\n",
       "      <td>50%</td>\n",
       "      <td>75.000000</td>\n",
       "      <td>4.000000</td>\n",
       "      <td>21.000000</td>\n",
       "      <td>28.200000</td>\n",
       "      <td>2.375050e+06</td>\n",
       "      <td>4111.000000</td>\n",
       "      <td>614.000000</td>\n",
       "      <td>4913.000000</td>\n",
       "    </tr>\n",
       "    <tr>\n",
       "      <td>75%</td>\n",
       "      <td>112.000000</td>\n",
       "      <td>4.000000</td>\n",
       "      <td>35.000000</td>\n",
       "      <td>58.000000</td>\n",
       "      <td>4.550051e+06</td>\n",
       "      <td>9100.000000</td>\n",
       "      <td>1419.000000</td>\n",
       "      <td>10486.000000</td>\n",
       "    </tr>\n",
       "    <tr>\n",
       "      <td>max</td>\n",
       "      <td>149.000000</td>\n",
       "      <td>4.000000</td>\n",
       "      <td>150.000000</td>\n",
       "      <td>735.000000</td>\n",
       "      <td>2.317107e+07</td>\n",
       "      <td>101275.000000</td>\n",
       "      <td>11888.000000</td>\n",
       "      <td>111341.000000</td>\n",
       "    </tr>\n",
       "  </tbody>\n",
       "</table>\n",
       "</div>"
      ],
      "text/plain": [
       "         Movie_ID  Release_Time    BudgetCr  BoxOfficeCollectionCr  \\\n",
       "count  149.000000    149.000000  149.000000             149.000000   \n",
       "mean    75.000000      3.315436   29.442953              58.235369   \n",
       "std     43.156691      1.072300   28.237981              98.111494   \n",
       "min      1.000000      1.000000    2.000000               0.010000   \n",
       "25%     38.000000      3.000000   11.000000              10.000000   \n",
       "50%     75.000000      4.000000   21.000000              28.200000   \n",
       "75%    112.000000      4.000000   35.000000              58.000000   \n",
       "max    149.000000      4.000000  150.000000             735.000000   \n",
       "\n",
       "       Youtube_Views  Youtube_Likes  Youtube_Dislikes  YoutubeLikeDislikes  \n",
       "count   1.490000e+02     149.000000        149.000000           149.000000  \n",
       "mean    3.337920e+06    7877.536913       1207.818792          9085.355705  \n",
       "std     3.504407e+06   12748.047191       1852.692938         14372.048371  \n",
       "min     4.354000e+03       1.000000          1.000000             2.000000  \n",
       "25%     1.076591e+06    1377.000000        189.000000          1637.000000  \n",
       "50%     2.375050e+06    4111.000000        614.000000          4913.000000  \n",
       "75%     4.550051e+06    9100.000000       1419.000000         10486.000000  \n",
       "max     2.317107e+07  101275.000000      11888.000000        111341.000000  "
      ]
     },
     "execution_count": 47,
     "metadata": {},
     "output_type": "execute_result"
    }
   ],
   "source": [
    "final_df.describe()"
   ]
  },
  {
   "cell_type": "markdown",
   "metadata": {},
   "source": [
    "### Q3. How many movies in each genre got released in different release times?"
   ]
  },
  {
   "cell_type": "code",
   "execution_count": 48,
   "metadata": {},
   "outputs": [
    {
     "data": {
      "text/html": [
       "<div>\n",
       "<style scoped>\n",
       "    .dataframe tbody tr th:only-of-type {\n",
       "        vertical-align: middle;\n",
       "    }\n",
       "\n",
       "    .dataframe tbody tr th {\n",
       "        vertical-align: top;\n",
       "    }\n",
       "\n",
       "    .dataframe thead th {\n",
       "        text-align: right;\n",
       "    }\n",
       "</style>\n",
       "<table border=\"1\" class=\"dataframe\">\n",
       "  <thead>\n",
       "    <tr style=\"text-align: right;\">\n",
       "      <th>Release_Time</th>\n",
       "      <th>1</th>\n",
       "      <th>2</th>\n",
       "      <th>3</th>\n",
       "      <th>4</th>\n",
       "    </tr>\n",
       "    <tr>\n",
       "      <th>Genre</th>\n",
       "      <th></th>\n",
       "      <th></th>\n",
       "      <th></th>\n",
       "      <th></th>\n",
       "    </tr>\n",
       "  </thead>\n",
       "  <tbody>\n",
       "    <tr>\n",
       "      <td>Action</td>\n",
       "      <td>3</td>\n",
       "      <td>3</td>\n",
       "      <td>3</td>\n",
       "      <td>15</td>\n",
       "    </tr>\n",
       "    <tr>\n",
       "      <td>Comedy</td>\n",
       "      <td>3</td>\n",
       "      <td>5</td>\n",
       "      <td>5</td>\n",
       "      <td>23</td>\n",
       "    </tr>\n",
       "    <tr>\n",
       "      <td>Drama</td>\n",
       "      <td>4</td>\n",
       "      <td>6</td>\n",
       "      <td>1</td>\n",
       "      <td>24</td>\n",
       "    </tr>\n",
       "    <tr>\n",
       "      <td>Romance</td>\n",
       "      <td>3</td>\n",
       "      <td>3</td>\n",
       "      <td>4</td>\n",
       "      <td>15</td>\n",
       "    </tr>\n",
       "    <tr>\n",
       "      <td>Thriller</td>\n",
       "      <td>4</td>\n",
       "      <td>1</td>\n",
       "      <td>2</td>\n",
       "      <td>22</td>\n",
       "    </tr>\n",
       "  </tbody>\n",
       "</table>\n",
       "</div>"
      ],
      "text/plain": [
       "Release_Time  1  2  3   4\n",
       "Genre                    \n",
       "Action        3  3  3  15\n",
       "Comedy        3  5  5  23\n",
       "Drama         4  6  1  24\n",
       "Romance       3  3  4  15\n",
       "Thriller      4  1  2  22"
      ]
     },
     "execution_count": 48,
     "metadata": {},
     "output_type": "execute_result"
    }
   ],
   "source": [
    "final_df.groupby('Genre')['Release_Time'].value_counts().unstack().fillna(0)"
   ]
  },
  {
   "cell_type": "markdown",
   "metadata": {},
   "source": [
    "### Q4. Which month of the year, maximum movie releases are seen?"
   ]
  },
  {
   "cell_type": "code",
   "execution_count": 49,
   "metadata": {},
   "outputs": [
    {
     "data": {
      "text/plain": [
       "Year  Month  \n",
       "2015  January     5\n",
       "2013  July        9\n",
       "2014  May        12\n",
       "Name: Movie_ID, dtype: int64"
      ]
     },
     "execution_count": 49,
     "metadata": {},
     "output_type": "execute_result"
    }
   ],
   "source": [
    "final_df.groupby([final_df['Release_Date'].dt.strftime('%Y').rename('Year'),final_df['Release_Date'].dt.strftime('%B').rename('Month')])['Movie_ID'].count().sort_values().groupby(level=0).tail(1)"
   ]
  },
  {
   "cell_type": "markdown",
   "metadata": {},
   "source": [
    "### Q5. Which month of the year typically sees most releases of high budgeted movies, that is, movies with budget of 25 crore or more? "
   ]
  },
  {
   "cell_type": "raw",
   "metadata": {},
   "source": [
    "# This is same as Q4 , but for a dataset of movies with budget>25Cr"
   ]
  },
  {
   "cell_type": "code",
   "execution_count": 50,
   "metadata": {},
   "outputs": [
    {
     "data": {
      "text/html": [
       "<div>\n",
       "<style scoped>\n",
       "    .dataframe tbody tr th:only-of-type {\n",
       "        vertical-align: middle;\n",
       "    }\n",
       "\n",
       "    .dataframe tbody tr th {\n",
       "        vertical-align: top;\n",
       "    }\n",
       "\n",
       "    .dataframe thead th {\n",
       "        text-align: right;\n",
       "    }\n",
       "</style>\n",
       "<table border=\"1\" class=\"dataframe\">\n",
       "  <thead>\n",
       "    <tr style=\"text-align: right;\">\n",
       "      <th></th>\n",
       "      <th>Movie_ID</th>\n",
       "      <th>Release_Date</th>\n",
       "      <th>Movie_Name</th>\n",
       "      <th>Release_Time</th>\n",
       "      <th>Genre</th>\n",
       "      <th>BudgetCr</th>\n",
       "      <th>BoxOfficeCollectionCr</th>\n",
       "      <th>Youtube_Views</th>\n",
       "      <th>Youtube_Likes</th>\n",
       "      <th>Youtube_Dislikes</th>\n",
       "      <th>YoutubeLikeDislikes</th>\n",
       "    </tr>\n",
       "  </thead>\n",
       "  <tbody>\n",
       "    <tr>\n",
       "      <td>0</td>\n",
       "      <td>1</td>\n",
       "      <td>2014-04-18</td>\n",
       "      <td>2 States</td>\n",
       "      <td>3</td>\n",
       "      <td>Romance</td>\n",
       "      <td>36</td>\n",
       "      <td>104.00</td>\n",
       "      <td>8576361</td>\n",
       "      <td>26622.0</td>\n",
       "      <td>2527.0</td>\n",
       "      <td>29149</td>\n",
       "    </tr>\n",
       "    <tr>\n",
       "      <td>6</td>\n",
       "      <td>7</td>\n",
       "      <td>2014-09-19</td>\n",
       "      <td>Daawat-E-Ishq</td>\n",
       "      <td>4</td>\n",
       "      <td>Comedy</td>\n",
       "      <td>30</td>\n",
       "      <td>24.60</td>\n",
       "      <td>3905050</td>\n",
       "      <td>8315.0</td>\n",
       "      <td>1373.0</td>\n",
       "      <td>9688</td>\n",
       "    </tr>\n",
       "    <tr>\n",
       "      <td>7</td>\n",
       "      <td>8</td>\n",
       "      <td>2013-01-11</td>\n",
       "      <td>Matru Ki Bijlee Ka Mandola</td>\n",
       "      <td>4</td>\n",
       "      <td>Comedy</td>\n",
       "      <td>33</td>\n",
       "      <td>40.00</td>\n",
       "      <td>2435283</td>\n",
       "      <td>4326.0</td>\n",
       "      <td>647.0</td>\n",
       "      <td>4973</td>\n",
       "    </tr>\n",
       "    <tr>\n",
       "      <td>8</td>\n",
       "      <td>9</td>\n",
       "      <td>2014-01-10</td>\n",
       "      <td>Dedh Ishqiya</td>\n",
       "      <td>3</td>\n",
       "      <td>Comedy</td>\n",
       "      <td>31</td>\n",
       "      <td>27.00</td>\n",
       "      <td>2333067</td>\n",
       "      <td>2436.0</td>\n",
       "      <td>591.0</td>\n",
       "      <td>3027</td>\n",
       "    </tr>\n",
       "    <tr>\n",
       "      <td>10</td>\n",
       "      <td>11</td>\n",
       "      <td>2014-03-28</td>\n",
       "      <td>Dishkiyaoon</td>\n",
       "      <td>4</td>\n",
       "      <td>Action</td>\n",
       "      <td>28</td>\n",
       "      <td>6.00</td>\n",
       "      <td>2397647</td>\n",
       "      <td>3308.0</td>\n",
       "      <td>465.0</td>\n",
       "      <td>3773</td>\n",
       "    </tr>\n",
       "    <tr>\n",
       "      <td>...</td>\n",
       "      <td>...</td>\n",
       "      <td>...</td>\n",
       "      <td>...</td>\n",
       "      <td>...</td>\n",
       "      <td>...</td>\n",
       "      <td>...</td>\n",
       "      <td>...</td>\n",
       "      <td>...</td>\n",
       "      <td>...</td>\n",
       "      <td>...</td>\n",
       "      <td>...</td>\n",
       "    </tr>\n",
       "    <tr>\n",
       "      <td>89</td>\n",
       "      <td>140</td>\n",
       "      <td>2015-01-30</td>\n",
       "      <td>Hawaizaada</td>\n",
       "      <td>4</td>\n",
       "      <td>Drama</td>\n",
       "      <td>25</td>\n",
       "      <td>30.25</td>\n",
       "      <td>2368404</td>\n",
       "      <td>8619.0</td>\n",
       "      <td>539.0</td>\n",
       "      <td>9158</td>\n",
       "    </tr>\n",
       "    <tr>\n",
       "      <td>91</td>\n",
       "      <td>142</td>\n",
       "      <td>2015-02-06</td>\n",
       "      <td>Shamitabh</td>\n",
       "      <td>4</td>\n",
       "      <td>Drama</td>\n",
       "      <td>40</td>\n",
       "      <td>38.00</td>\n",
       "      <td>2105508</td>\n",
       "      <td>5599.0</td>\n",
       "      <td>677.0</td>\n",
       "      <td>6276</td>\n",
       "    </tr>\n",
       "    <tr>\n",
       "      <td>92</td>\n",
       "      <td>143</td>\n",
       "      <td>2015-02-13</td>\n",
       "      <td>Roy</td>\n",
       "      <td>1</td>\n",
       "      <td>Romance</td>\n",
       "      <td>40</td>\n",
       "      <td>58.00</td>\n",
       "      <td>7687797</td>\n",
       "      <td>18974.0</td>\n",
       "      <td>3229.0</td>\n",
       "      <td>22203</td>\n",
       "    </tr>\n",
       "    <tr>\n",
       "      <td>96</td>\n",
       "      <td>147</td>\n",
       "      <td>2015-03-20</td>\n",
       "      <td>Dilliwali Zaalim Girlfriend</td>\n",
       "      <td>4</td>\n",
       "      <td>Comedy</td>\n",
       "      <td>32</td>\n",
       "      <td>12.00</td>\n",
       "      <td>2316047</td>\n",
       "      <td>4289.0</td>\n",
       "      <td>807.0</td>\n",
       "      <td>5096</td>\n",
       "    </tr>\n",
       "    <tr>\n",
       "      <td>98</td>\n",
       "      <td>149</td>\n",
       "      <td>2014-05-23</td>\n",
       "      <td>Kochadaiiyaan</td>\n",
       "      <td>2</td>\n",
       "      <td>Action</td>\n",
       "      <td>150</td>\n",
       "      <td>120.00</td>\n",
       "      <td>4740727</td>\n",
       "      <td>13466.0</td>\n",
       "      <td>2649.0</td>\n",
       "      <td>16115</td>\n",
       "    </tr>\n",
       "  </tbody>\n",
       "</table>\n",
       "<p>66 rows × 11 columns</p>\n",
       "</div>"
      ],
      "text/plain": [
       "    Movie_ID Release_Date                   Movie_Name  Release_Time    Genre  \\\n",
       "0          1   2014-04-18                     2 States             3  Romance   \n",
       "6          7   2014-09-19                Daawat-E-Ishq             4   Comedy   \n",
       "7          8   2013-01-11   Matru Ki Bijlee Ka Mandola             4   Comedy   \n",
       "8          9   2014-01-10                 Dedh Ishqiya             3   Comedy   \n",
       "10        11   2014-03-28                  Dishkiyaoon             4   Action   \n",
       "..       ...          ...                          ...           ...      ...   \n",
       "89       140   2015-01-30                   Hawaizaada             4    Drama   \n",
       "91       142   2015-02-06                    Shamitabh             4    Drama   \n",
       "92       143   2015-02-13                          Roy             1  Romance   \n",
       "96       147   2015-03-20  Dilliwali Zaalim Girlfriend             4   Comedy   \n",
       "98       149   2014-05-23                Kochadaiiyaan             2   Action   \n",
       "\n",
       "    BudgetCr  BoxOfficeCollectionCr  Youtube_Views  Youtube_Likes  \\\n",
       "0         36                 104.00        8576361        26622.0   \n",
       "6         30                  24.60        3905050         8315.0   \n",
       "7         33                  40.00        2435283         4326.0   \n",
       "8         31                  27.00        2333067         2436.0   \n",
       "10        28                   6.00        2397647         3308.0   \n",
       "..       ...                    ...            ...            ...   \n",
       "89        25                  30.25        2368404         8619.0   \n",
       "91        40                  38.00        2105508         5599.0   \n",
       "92        40                  58.00        7687797        18974.0   \n",
       "96        32                  12.00        2316047         4289.0   \n",
       "98       150                 120.00        4740727        13466.0   \n",
       "\n",
       "    Youtube_Dislikes  YoutubeLikeDislikes  \n",
       "0             2527.0                29149  \n",
       "6             1373.0                 9688  \n",
       "7              647.0                 4973  \n",
       "8              591.0                 3027  \n",
       "10             465.0                 3773  \n",
       "..               ...                  ...  \n",
       "89             539.0                 9158  \n",
       "91             677.0                 6276  \n",
       "92            3229.0                22203  \n",
       "96             807.0                 5096  \n",
       "98            2649.0                16115  \n",
       "\n",
       "[66 rows x 11 columns]"
      ]
     },
     "execution_count": 50,
     "metadata": {},
     "output_type": "execute_result"
    }
   ],
   "source": [
    "df_25CrClub= final_df[final_df['BudgetCr'] >=25]\n",
    "df_25CrClub"
   ]
  },
  {
   "cell_type": "code",
   "execution_count": 51,
   "metadata": {},
   "outputs": [
    {
     "data": {
      "text/plain": [
       "Year  Month  \n",
       "2015  January    3\n",
       "2014  April      4\n",
       "2013  July       5\n",
       "Name: Movie_ID, dtype: int64"
      ]
     },
     "execution_count": 51,
     "metadata": {},
     "output_type": "execute_result"
    }
   ],
   "source": [
    "df_25CrClub.groupby([df_25CrClub['Release_Date'].dt.strftime('%Y').rename('Year'),df_25CrClub['Release_Date'].dt.strftime('%B').rename('Month')])['Movie_ID'].count().sort_values().groupby(level=0).tail(1)"
   ]
  },
  {
   "cell_type": "markdown",
   "metadata": {},
   "source": [
    "### Q6. Which are the top 10 movies with maximum return of investment (ROI)? Calculate ROI as (Box office collection – Budget) / Budget."
   ]
  },
  {
   "cell_type": "code",
   "execution_count": 52,
   "metadata": {},
   "outputs": [],
   "source": [
    "final_df[\"ROI\"] = final_df.apply(lambda x: (x.BoxOfficeCollectionCr - x.BudgetCr)/x.BudgetCr, axis=1 )"
   ]
  },
  {
   "cell_type": "code",
   "execution_count": 53,
   "metadata": {},
   "outputs": [
    {
     "data": {
      "text/html": [
       "<div>\n",
       "<style scoped>\n",
       "    .dataframe tbody tr th:only-of-type {\n",
       "        vertical-align: middle;\n",
       "    }\n",
       "\n",
       "    .dataframe tbody tr th {\n",
       "        vertical-align: top;\n",
       "    }\n",
       "\n",
       "    .dataframe thead th {\n",
       "        text-align: right;\n",
       "    }\n",
       "</style>\n",
       "<table border=\"1\" class=\"dataframe\">\n",
       "  <thead>\n",
       "    <tr style=\"text-align: right;\">\n",
       "      <th></th>\n",
       "      <th>Movie_Name</th>\n",
       "      <th>ROI</th>\n",
       "    </tr>\n",
       "  </thead>\n",
       "  <tbody>\n",
       "    <tr>\n",
       "      <td>3</td>\n",
       "      <td>Rajdhani Express</td>\n",
       "      <td>53.714286</td>\n",
       "    </tr>\n",
       "    <tr>\n",
       "      <td>14</td>\n",
       "      <td>Aashiqui 2</td>\n",
       "      <td>8.166667</td>\n",
       "    </tr>\n",
       "    <tr>\n",
       "      <td>39</td>\n",
       "      <td>PK</td>\n",
       "      <td>7.647059</td>\n",
       "    </tr>\n",
       "    <tr>\n",
       "      <td>82</td>\n",
       "      <td>Grand Masti</td>\n",
       "      <td>7.514286</td>\n",
       "    </tr>\n",
       "    <tr>\n",
       "      <td>85</td>\n",
       "      <td>The Lunchbox</td>\n",
       "      <td>7.500000</td>\n",
       "    </tr>\n",
       "    <tr>\n",
       "      <td>37</td>\n",
       "      <td>Fukrey</td>\n",
       "      <td>6.240000</td>\n",
       "    </tr>\n",
       "    <tr>\n",
       "      <td>8</td>\n",
       "      <td>Mary Kom</td>\n",
       "      <td>5.933333</td>\n",
       "    </tr>\n",
       "    <tr>\n",
       "      <td>78</td>\n",
       "      <td>Shahid</td>\n",
       "      <td>5.666667</td>\n",
       "    </tr>\n",
       "    <tr>\n",
       "      <td>37</td>\n",
       "      <td>Humpty Sharma Ki Dulhania</td>\n",
       "      <td>5.500000</td>\n",
       "    </tr>\n",
       "    <tr>\n",
       "      <td>51</td>\n",
       "      <td>Bhaag Milkha Bhaag</td>\n",
       "      <td>4.466667</td>\n",
       "    </tr>\n",
       "  </tbody>\n",
       "</table>\n",
       "</div>"
      ],
      "text/plain": [
       "                   Movie_Name        ROI\n",
       "3            Rajdhani Express  53.714286\n",
       "14                 Aashiqui 2   8.166667\n",
       "39                         PK   7.647059\n",
       "82                Grand Masti   7.514286\n",
       "85               The Lunchbox   7.500000\n",
       "37                     Fukrey   6.240000\n",
       "8                    Mary Kom   5.933333\n",
       "78                     Shahid   5.666667\n",
       "37  Humpty Sharma Ki Dulhania   5.500000\n",
       "51         Bhaag Milkha Bhaag   4.466667"
      ]
     },
     "execution_count": 53,
     "metadata": {},
     "output_type": "execute_result"
    }
   ],
   "source": [
    "final_df.sort_values([\"ROI\"], ascending=False)[0:10][[\"Movie_Name\",\"ROI\"]]"
   ]
  },
  {
   "cell_type": "code",
   "execution_count": 54,
   "metadata": {},
   "outputs": [
    {
     "name": "stdout",
     "output_type": "stream",
     "text": [
      "COMPLETED\n"
     ]
    }
   ],
   "source": [
    "print(\"COMPLETED\")"
   ]
  }
 ],
 "metadata": {
  "kernelspec": {
   "display_name": "Python 3",
   "language": "python",
   "name": "python3"
  },
  "language_info": {
   "codemirror_mode": {
    "name": "ipython",
    "version": 3
   },
   "file_extension": ".py",
   "mimetype": "text/x-python",
   "name": "python",
   "nbconvert_exporter": "python",
   "pygments_lexer": "ipython3",
   "version": "3.7.4"
  }
 },
 "nbformat": 4,
 "nbformat_minor": 2
}
